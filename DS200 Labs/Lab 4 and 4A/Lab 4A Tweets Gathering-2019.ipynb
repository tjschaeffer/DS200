{
  "cells": [
    {
      "metadata": {
        "collapsed": true,
        "trusted": false
      },
      "cell_type": "markdown",
      "source": "## Penn State DS 200 Fall 2019\n## Lab 4A Tweets Gathering\nIn this lab, you will learn to gather tweets using keywords and hashtags you \nobtained from your Twitter Developer account.\n\n### Install Tweepy\nThe first thing we will do is to install a tweepy, a Python library/module for gathering tweets using Twitter API."
    },
    {
      "metadata": {
        "trusted": true
      },
      "cell_type": "code",
      "source": "!pip install tweepy",
      "execution_count": null,
      "outputs": []
    },
    {
      "metadata": {
        "trusted": true
      },
      "cell_type": "code",
      "source": "import tweepy\nfrom tweepy import OAuthHandler\nfrom tweepy import Stream\nfrom tweepy.streaming import StreamListener\n\nimport sys\nimport os\nimport json\nimport time\nimport datetime\nimport re\n\nimport pandas as pd",
      "execution_count": null,
      "outputs": []
    },
    {
      "metadata": {},
      "cell_type": "markdown",
      "source": "### Python Code for Gathering Tweets\nThe following code defines a group of code that, together, \"listens\" (responds) to tweets (sent from Twitter API) that match the keywords and hashtags specified.  The code also filters out non-English tweets, and performs some simple preprocessing (e.g., remove non-ASCII characters in the body of the tweet), so that we do not need to worry about them later."
    },
    {
      "metadata": {
        "trusted": true
      },
      "cell_type": "code",
      "source": "class MyListener(StreamListener):\n    def __init__(self, raw_file, csv_file, text_file, max_num=300):\n        super().__init__()\n        self.raw_file = raw_file\n        self.csv_file = csv_file\n        self.text_file = text_file\n        self.max_num = max_num\n        self.count = 0\n        self.start_time = time.time()\n\n    def on_data(self, data):\n        # Filter out special cases\n        if data.startswith('{\"limit\":'):\n            return\n\n        # Filter out non-English tweets\n        tweet = json.loads(data)\n        if tweet['lang'] != 'en':\n            return\n        # if 'retweeted_status' in tweet:\n        #     return\n\n        # Extract fields from tweet and write to csv_file\n        user_id = tweet['user']['id']\n        user_name = tweet['user']['name']\n        tweet_time = tweet['created_at']\n        location = tweet['user']['location']\n        text = tweet['text'].strip().replace('\\n', ' ').replace('\\t', ' ')\n\n        # Remove non-ASCII characters and commas in user_name and location\n        if user_name is not None:\n            user_name = ''.join([c if ord(c) < 128 else '' for c in user_name])\n            user_name = user_name.replace(',', '')\n        if location is not None:\n            location = ''.join([c if ord(c) < 128 else '' for c in location])\n            location = location.replace(',', '')\n\n        # Remove non-ASCII characters in text\n        text = ''.join([c if ord(c) < 128 else '' for c in text])\n        # Replace commas with space\n        text = text.replace(',', ' ')\n        # Replace double quotes with blanks\n        text = re.sub(r'\\\"', '', text)\n        # Replace consecutive underscores with space\n        text = re.sub(r'[_]{2,}', ' ', text)\n        # Remove all consecutive whitespace characters\n        text = ' '.join(text.split())\n\n        # Check if csv_file, text_file exist\n        # If not, create them and write the heads\n        if not os.path.isfile(self.csv_file):\n            with open(self.csv_file, 'w') as f:\n                f.write(','.join(['user_id', 'user_name', 'tweet_time', 'location', 'text']) + '\\n')\n        if not os.path.isfile(self.text_file):\n            with open(self.text_file, 'w') as f:\n                f.write('text\\n')\n\n        with open(self.raw_file, 'a') as f_raw, open(self.csv_file, 'a') as f_csv, open(self.text_file, 'a') as f_text:\n            # Write to files\n            f_raw.write(data.strip() + '\\n')\n            f_csv.write(','.join(map(str, [user_id, user_name, tweet_time, location, text])) + '\\n')\n            f_text.write(text + '\\n')\n\n            # Increment count\n            self.count += 1\n            # if self.count % 10 == 0 and self.count > 0:\n            sys.stdout.write('\\r{}/{} tweets downloaded'.format(self.count, self.max_num))\n            sys.stdout.flush()\n\n            # Check if reaches the maximum tweets number limit\n            if self.count == self.max_num:\n                print('\\nMaximum number reached.')\n                end_time = time.time()\n                elapse = end_time - self.start_time\n                print('It took {} seconds to download {} tweets'.format(elapse, self.max_num))\n                sys.exit(0)\n\n    def on_error(self, status):\n        print(status)\n        return True\n\n# Get the str representation of the current date and time    \ndef current_datetime_str():\n    return format(datetime.datetime.now(), \"%Y-%m-%d_%H-%M-%S\")",
      "execution_count": null,
      "outputs": []
    },
    {
      "metadata": {},
      "cell_type": "markdown",
      "source": "## Exercise 4.1 Paste your API Keys and Access Tokens into the Tweet Gathering Code\n#### Note: Make sure you copy each code exactly as they are.  Especially, pay attention to the first character and the last character to make sure you did not miss any of them.  Also, double check you did not accidentently include space or left parenthesis when you copy keys and token.\n#### Create a keywords.txt file directly in Jupyter Notebook or upload it from your computer."
    },
    {
      "metadata": {
        "trusted": true
      },
      "cell_type": "code",
      "source": "def main():\n    # Paste your keys and token below.  \n    consumer_key = 'MyConsumerKeyfromTwitter'\n    consumer_secret = 'MyConsumerAPISecretfromTwitter'\n    access_token = 'MyAccessTokenfromTwitter'\n    access_secret = 'MyAccessSecretfromTwitter'\n\n    auth = OAuthHandler(consumer_key, consumer_secret)\n    auth.set_access_token(access_token, access_secret)\n    api = tweepy.API(auth)\n\n    # Welcome\n    print('===========================================================')\n    print('Welcome to the user interface of gathering tweets pipeline!')\n    print('You can press \"Ctrl+C\" at anytime to abort the program.')\n    print('===========================================================')\n    print()\n\n    # Prompt for input keywords\n    methods = ['manual', 'file']\n    print('How do you want to specify your key words?')\n    while True:\n        m = input('Type \"manual\" or \"file\" >>> ')\n        if m in methods:\n            break\n        else:\n            print('\\\"{}\\\" is an invalid input! Please try again.\\n'.format(m))\n\n    # Choose keywords:\n    if m == 'file':\n        print('===========================================================')\n        print('Please input the file name that contains your key words.')\n        print('Notes:')\n        print('    The file should contain key words in one or multiple lines, and multiple key words should be separated by *COMMA*.')\n        print('        For example: NBA, basketball, Lebron James')\n        print('    If the file is under the current directory, you can directly type the file name, e.g., \"keywords.txt\".')\n        print('    If the file is in another directory, please type the full file name, e.g., \"C:\\\\Downloads\\\\keywords.txt\" (for Windows), or \"/Users/xy/Downloads/keywords.txt\" (for MacOS/Linux).')\n\n        while True:\n            file_name = input('Type your file name >>> ')\n            if os.path.isfile(file_name):\n                break\n            else:\n                print('\"{}\" is not a valid file name! Please check if the file exists.\\n'.format(file_name))\n\n        # Check the content of keywords file\n        key_words = []\n        with open(file_name, 'r') as f:\n            lines = f.readlines()\n            if len(lines) == 0:\n                print('\\n{} is an empty file!\\nTask aborted!'.format(file_name))\n                sys.exit(1)\n\n            for line in lines:\n                line = line.strip()\n                # Detect non-ASCII characters\n                for c in line:\n                    if ord(c) >= 128:\n                        print('\\n{} contains non-ASCII characters: \"{}\" \\nPlease remove them and try again'.format(file_name, c))\n                        sys.exit(1)\n                # Check delimiters\n                if line.count(' ') > 1 and ',' not in line:\n                    print('\\nMore than 1 <space> symbols exist in the key words file, but none comma exists')\n                    print('I\\'m confused about your keywords. Please separate your key words by commas.')\n                    sys.exit(1)\n\n                words = line.split(',')\n                for w in words:\n                    if len(w.strip()) > 0:\n                        key_words.append(w.strip())\n\n        # Check key_words\n        if len(key_words) == 0:\n            print('\\nZero key words are found in {}! Please check your key words file.'.format(file_name))\n            sys.exit(1)\n\n    elif m == 'manual':\n        print('===========================================================')\n        print('Please input your key words (separated by comma), and hit <ENTER> when done.')\n\n        while True:\n            line = input('Type the key words >>> ')\n            line = line.strip()\n\n            invalid_flag = False\n            # Check empty\n            if len(line) == 0:\n                print('\\nYour input is empty! Please try again.')\n                invalid_flag = True\n            # Detect non-ASCII characters\n            for c in line:\n                if ord(c) >= 128:\n                    print('\\nYour input contains non-ASCII characters: \"{}\"! Please try again.'.format(c))\n                    invalid_flag = True\n                    break\n            # Check delimiters\n            if line.count(' ') > 1 and ',' not in line:\n                print('\\nMore than 1 <space> symbols exist in your input, but none comma exists')\n                print('I\\'m confused about your keywords. Please try again')\n                invalid_flag = True\n\n            if invalid_flag:\n                continue\n            else:\n                break\n\n        # Process input\n        key_words = []\n        for w in line.split(','):\n            if len(w.strip()) > 0:\n                key_words.append(w.strip())\n\n    # Print valid key words\n    key_words = list(set(key_words))\n    print('\\n{} unique key words being used: '.format(len(key_words)), key_words)\n\n    # Prompt for number of tweets to be gathered\n    print('===========================================================')\n    print('How many tweets do you want to gather? \\nInput an integer number, or just hit <ENTER> to use the default number 300.')\n    num_tweets = 300\n    while True:\n        s = input('Input an integer >>> ')\n        s = s.strip()\n        if len(s) == 0:\n            break\n        elif s.isdigit():\n            num = int(s)\n            if num > 0:\n                num_tweets = num\n                break\n            else:\n                print('\\nPlease input a number that is greater than 0.')\n        else:\n            print('\\nPlease input a valid integer number.')\n\n    print('{} tweets to be gathered.'.format(num_tweets))\n\n    # Streaming\n    # TODO: remvoe '\\t', '\\n' and ',' in text field, also remove empty text\n    print('===========================================================')\n    print('Start gathering tweets ...')\n\n    postfix = current_datetime_str()\n    raw_file = 'raw_{}.json'.format(postfix)\n    csv_file = 'data_{}.csv'.format(postfix)\n    text_file = 'text_{}.csv'.format(postfix)\n\n    twitter_stream = Stream(auth, MyListener(raw_file=raw_file, csv_file=csv_file, text_file=text_file, max_num=num_tweets))\n    twitter_stream.filter(track=key_words)\n\n\nif __name__ == '__main__':\n    try:\n        main()\n    except KeyboardInterrupt:\n        print('\\nTask aborted!')\n        \n",
      "execution_count": null,
      "outputs": []
    },
    {
      "metadata": {
        "trusted": true
      },
      "cell_type": "code",
      "source": "",
      "execution_count": null,
      "outputs": []
    }
  ],
  "metadata": {
    "kernelspec": {
      "name": "python3",
      "display_name": "Python 3",
      "language": "python"
    },
    "language_info": {
      "mimetype": "text/x-python",
      "nbconvert_exporter": "python",
      "name": "python",
      "file_extension": ".py",
      "version": "3.5.4",
      "pygments_lexer": "ipython3",
      "codemirror_mode": {
        "version": 3,
        "name": "ipython"
      }
    }
  },
  "nbformat": 4,
  "nbformat_minor": 2
}