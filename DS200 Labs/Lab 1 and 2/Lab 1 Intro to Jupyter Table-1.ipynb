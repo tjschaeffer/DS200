{
  "cells": [
    {
      "metadata": {
        "slideshow": {
          "slide_type": "slide"
        }
      },
      "cell_type": "markdown",
      "source": "# Lab 1 Introduction to Notebook and Tables \n\n## Acknowledgement: This lab has been adopted from a lab previously developed at UC Berkeley (for the data 8 course).\n\n# Part A Install and Import Datascience Module\n\n## The first thing we need to do is to install the datascience module, which was also developed at UC Berkeley for the data 8 course.\n\n### A module is a collection of Python code that, together, forms a code library that can be directly used by Python developer.\n### Azure Jupyter Notebook already has several modules installed.  For example, we will later use sklearn module to create decision tree models from a set of labelled data.  \n### Because the datascience module is not pre-installed in Azure Jupyter Notebook,  we need to use the following command to install it in the beginning of every Azure notebook that needs to use it.\n### Complete \"!pip install datascience\" in the line below.  Then click the \"Run\" button (under the \"Cell\" menu item on the top row of this web page)"
    },
    {
      "metadata": {
        "trusted": true,
        "scrolled": true
      },
      "cell_type": "code",
      "source": "!pip install datascience",
      "execution_count": 5,
      "outputs": [
        {
          "output_type": "stream",
          "text": "Requirement already satisfied: datascience in /home/nbuser/anaconda3_420/lib/python3.5/site-packages (0.15.0)\nRequirement already satisfied: numpy in /home/nbuser/anaconda3_420/lib/python3.5/site-packages (from datascience) (1.17.0)\nRequirement already satisfied: coverage==4.5.3 in /home/nbuser/anaconda3_420/lib/python3.5/site-packages (from datascience) (4.5.3)\nRequirement already satisfied: scipy in /home/nbuser/anaconda3_420/lib/python3.5/site-packages (from datascience) (1.1.0)\nRequirement already satisfied: bokeh in /home/nbuser/anaconda3_420/lib/python3.5/site-packages (from datascience) (0.12.7)\nRequirement already satisfied: pytest in /home/nbuser/anaconda3_420/lib/python3.5/site-packages (from datascience) (2.9.2)\nRequirement already satisfied: setuptools in /home/nbuser/anaconda3_420/lib/python3.5/site-packages (from datascience) (41.1.0)\nRequirement already satisfied: sphinx in /home/nbuser/anaconda3_420/lib/python3.5/site-packages/Sphinx-1.4.6-py3.5.egg (from datascience) (1.4.6)\nRequirement already satisfied: folium>=0.9.1 in /home/nbuser/anaconda3_420/lib/python3.5/site-packages (from datascience) (0.10.0)\nRequirement already satisfied: ipython in /home/nbuser/anaconda3_420/lib/python3.5/site-packages (from datascience) (6.2.1)\nRequirement already satisfied: pandas in /home/nbuser/anaconda3_420/lib/python3.5/site-packages (from datascience) (0.19.2)\nRequirement already satisfied: coveralls in /home/nbuser/anaconda3_420/lib/python3.5/site-packages (from datascience) (1.8.2)\nRequirement already satisfied: matplotlib>=3.0.0 in /home/nbuser/anaconda3_420/lib/python3.5/site-packages (from datascience) (3.0.3)\nRequirement already satisfied: six>=1.5.2 in /home/nbuser/anaconda3_420/lib/python3.5/site-packages (from bokeh->datascience) (1.11.0)\nRequirement already satisfied: PyYAML>=3.10 in /home/nbuser/anaconda3_420/lib/python3.5/site-packages (from bokeh->datascience) (3.13)\nRequirement already satisfied: python-dateutil>=2.1 in /home/nbuser/anaconda3_420/lib/python3.5/site-packages (from bokeh->datascience) (2.8.0)\nRequirement already satisfied: Jinja2>=2.7 in /home/nbuser/anaconda3_420/lib/python3.5/site-packages (from bokeh->datascience) (2.10.1)\nRequirement already satisfied: tornado>=4.3 in /home/nbuser/anaconda3_420/lib/python3.5/site-packages (from bokeh->datascience) (4.4.1)\nRequirement already satisfied: bkcharts>=0.2 in /home/nbuser/anaconda3_420/lib/python3.5/site-packages (from bokeh->datascience) (0.2)\nRequirement already satisfied: py>=1.4.29 in /home/nbuser/anaconda3_420/lib/python3.5/site-packages (from pytest->datascience) (1.4.31)\nRequirement already satisfied: Pygments>=2.0 in /home/nbuser/anaconda3_420/lib/python3.5/site-packages (from sphinx->datascience) (2.1.3)\nRequirement already satisfied: docutils>=0.11 in /home/nbuser/anaconda3_420/lib/python3.5/site-packages (from sphinx->datascience) (0.12)\nRequirement already satisfied: snowballstemmer>=1.1 in /home/nbuser/anaconda3_420/lib/python3.5/site-packages (from sphinx->datascience) (1.2.1)\nRequirement already satisfied: babel!=2.0,>=1.3 in /home/nbuser/anaconda3_420/lib/python3.5/site-packages (from sphinx->datascience) (2.3.4)\nRequirement already satisfied: alabaster<0.8,>=0.7 in /home/nbuser/anaconda3_420/lib/python3.5/site-packages (from sphinx->datascience) (0.7.9)\nRequirement already satisfied: imagesize in /home/nbuser/anaconda3_420/lib/python3.5/site-packages (from sphinx->datascience) (0.7.1)\nRequirement already satisfied: requests in /home/nbuser/anaconda3_420/lib/python3.5/site-packages (from folium>=0.9.1->datascience) (2.14.2)\nRequirement already satisfied: branca>=0.3.0 in /home/nbuser/anaconda3_420/lib/python3.5/site-packages (from folium>=0.9.1->datascience) (0.3.1)\nRequirement already satisfied: jedi>=0.10 in /home/nbuser/anaconda3_420/lib/python3.5/site-packages (from ipython->datascience) (0.11.0)\nRequirement already satisfied: decorator in /home/nbuser/anaconda3_420/lib/python3.5/site-packages (from ipython->datascience) (4.4.0)\nRequirement already satisfied: pickleshare in /home/nbuser/anaconda3_420/lib/python3.5/site-packages (from ipython->datascience) (0.7.4)\nRequirement already satisfied: simplegeneric>0.8 in /home/nbuser/anaconda3_420/lib/python3.5/site-packages (from ipython->datascience) (0.8.1)\nRequirement already satisfied: traitlets>=4.2 in /home/nbuser/anaconda3_420/lib/python3.5/site-packages (from ipython->datascience) (4.3.1)\nRequirement already satisfied: prompt_toolkit<2.0.0,>=1.0.4 in /home/nbuser/anaconda3_420/lib/python3.5/site-packages (from ipython->datascience) (1.0.15)\nRequirement already satisfied: pexpect in /home/nbuser/anaconda3_420/lib/python3.5/site-packages (from ipython->datascience) (4.0.1)\nRequirement already satisfied: pytz>=2011k in /home/nbuser/anaconda3_420/lib/python3.5/site-packages (from pandas->datascience) (2016.6.1)\nRequirement already satisfied: docopt>=0.6.1 in /home/nbuser/anaconda3_420/lib/python3.5/site-packages (from coveralls->datascience) (0.6.2)\nRequirement already satisfied: kiwisolver>=1.0.1 in /home/nbuser/anaconda3_420/lib/python3.5/site-packages (from matplotlib>=3.0.0->datascience) (1.1.0)\nRequirement already satisfied: pyparsing!=2.0.4,!=2.1.2,!=2.1.6,>=2.0.1 in /home/nbuser/anaconda3_420/lib/python3.5/site-packages (from matplotlib>=3.0.0->datascience) (2.1.4)\nRequirement already satisfied: cycler>=0.10 in /home/nbuser/anaconda3_420/lib/python3.5/site-packages (from matplotlib>=3.0.0->datascience) (0.10.0)\nRequirement already satisfied: MarkupSafe>=0.23 in /home/nbuser/anaconda3_420/lib/python3.5/site-packages (from Jinja2>=2.7->bokeh->datascience) (0.23)\nRequirement already satisfied: parso==0.1.* in /home/nbuser/anaconda3_420/lib/python3.5/site-packages (from jedi>=0.10->ipython->datascience) (0.1.1)\nRequirement already satisfied: wcwidth in /home/nbuser/anaconda3_420/lib/python3.5/site-packages (from prompt_toolkit<2.0.0,>=1.0.4->ipython->datascience) (0.1.7)\n\u001b[33mWARNING: You are using pip version 19.2.2, however version 19.2.3 is available.\nYou should consider upgrading via the 'pip install --upgrade pip' command.\u001b[0m\n",
          "name": "stdout"
        }
      ]
    },
    {
      "metadata": {},
      "cell_type": "markdown",
      "source": "## Import datascience module\n### After we successfully install the datascience module, we can now import it.\n### Importing a module enables us later to use functions (code) defined in the module.\n### For Example, one of the feature of datascience module is to enable us to easily read a tabular data stored in a CSV file, process the table in various way, and visualize data in the table in multiple ways (e.g., bar chart, scatter plot, etc)."
    },
    {
      "metadata": {
        "trusted": true
      },
      "cell_type": "code",
      "source": "from datascience import *",
      "execution_count": 6,
      "outputs": []
    },
    {
      "metadata": {},
      "cell_type": "markdown",
      "source": "### Milestone 1: \nCongratulations!  You have reached your first milestone for Lab 1.  Click \"A\" on iClicker to indicate you have completed Part A of Lab 1."
    },
    {
      "metadata": {},
      "cell_type": "markdown",
      "source": "# Part B Read a Table\n## In the second part of the lab, we will use a utility (Table class) of datascience module to read a CSV file that contains salary data of employees of San Francisco City.\n## Source of The Data: Kaggle https://www.kaggle.com/kaggle/sf-salaries\n\nA table is a fundamental object type for representing data sets. A table can be viewed in two ways:\n* A sequence of named columns that each describe a single aspect of all entries in a data set\n* A sequence of rows that each contain all information about a single entry in a data set\n\nEach column of this table data structure must contain values of the same kind. For example, a table can have a column of integers or a column of strings. We can create a table from scratch or from a CSV file. Let's try reading a CSV file into a table.\n\nIn the Python code below, we use Table.read_table to read a CSV file called \"SFSalaries2011_2014.csv\".\n\n- Note 1: We use a pair of double quotes \".....\" to indicate a string in Python.  Otherwise, Python may interpret it as a variable name (like salaries).\n- Note 2: Table.read_table is like a function.  It takes a file name as input, and returns a Table object as its output.\n- Note 3: We can use assignment (=) in Python to assign the output of the function Table.read_table to a variable (like salaries)\n- Note 4: Running a line that contains only a variable results in displaying the content of the variable.\n\n### Exercise 1 Read and display a salary dataset using Table."
    },
    {
      "metadata": {
        "trusted": true
      },
      "cell_type": "code",
      "source": "# read a CSV file of salaries from SF City into a table\nsalaries = Table.read_table(\"SFSalaries2011_2014.csv\")    \nsalaries",
      "execution_count": 7,
      "outputs": [
        {
          "output_type": "stream",
          "text": "/home/nbuser/anaconda3_420/lib/python3.5/site-packages/IPython/core/interactiveshell.py:2850: DtypeWarning: Columns (3,4,5,6,12) have mixed types. Specify dtype option on import or set low_memory=False.\n  if self.run_code(code, result):\n",
          "name": "stderr"
        },
        {
          "output_type": "execute_result",
          "execution_count": 7,
          "data": {
            "text/plain": "Id   | EmployeeName       | JobTitle                                       | BasePay   | OvertimePay | OtherPay  | Benefits | TotalPay | TotalPayBenefits | Year | Notes | Agency        | Status\n1    | NATHANIEL FORD     | GENERAL MANAGER-METROPOLITAN TRANSIT AUTHORITY | 167411.18 | 0.0         | 400184.25 | nan      | 567595   | 567595           | 2011 | nan   | San Francisco | nan\n2    | GARY JIMENEZ       | CAPTAIN III (POLICE DEPARTMENT)                | 155966.02 | 245131.88   | 137811.38 | nan      | 538909   | 538909           | 2011 | nan   | San Francisco | nan\n3    | ALBERT PARDINI     | CAPTAIN III (POLICE DEPARTMENT)                | 212739.13 | 106088.18   | 16452.6   | nan      | 335280   | 335280           | 2011 | nan   | San Francisco | nan\n4    | CHRISTOPHER CHONG  | WIRE ROPE CABLE MAINTENANCE MECHANIC           | 77916.0   | 56120.71    | 198306.9  | nan      | 332344   | 332344           | 2011 | nan   | San Francisco | nan\n5    | PATRICK GARDNER    | DEPUTY CHIEF OF DEPARTMENT,(FIRE DEPARTMENT)   | 134401.6  | 9737.0      | 182234.59 | nan      | 326373   | 326373           | 2011 | nan   | San Francisco | nan\n6    | DAVID SULLIVAN     | ASSISTANT DEPUTY CHIEF II                      | 118602.0  | 8601.0      | 189082.74 | nan      | 316286   | 316286           | 2011 | nan   | San Francisco | nan\n7    | ALSON LEE          | BATTALION CHIEF, (FIRE DEPARTMENT)             | 92492.01  | 89062.9     | 134426.14 | nan      | 315981   | 315981           | 2011 | nan   | San Francisco | nan\n8    | DAVID KUSHNER      | DEPUTY DIRECTOR OF INVESTMENTS                 | 256576.96 | 0.0         | 51322.5   | nan      | 307899   | 307899           | 2011 | nan   | San Francisco | nan\n9    | MICHAEL MORRIS     | BATTALION CHIEF, (FIRE DEPARTMENT)             | 176932.64 | 86362.68    | 40132.23  | nan      | 303428   | 303428           | 2011 | nan   | San Francisco | nan\n10   | JOANNE HAYES-WHITE | CHIEF OF DEPARTMENT, (FIRE DEPARTMENT)         | 285262.0  | 0.0         | 17115.73  | nan      | 302378   | 302378           | 2011 | nan   | San Francisco | nan\n... (148644 rows omitted)",
            "text/html": "<table border=\"1\" class=\"dataframe\">\n    <thead>\n        <tr>\n            <th>Id</th> <th>EmployeeName</th> <th>JobTitle</th> <th>BasePay</th> <th>OvertimePay</th> <th>OtherPay</th> <th>Benefits</th> <th>TotalPay</th> <th>TotalPayBenefits</th> <th>Year</th> <th>Notes</th> <th>Agency</th> <th>Status</th>\n        </tr>\n    </thead>\n    <tbody>\n        <tr>\n            <td>1   </td> <td>NATHANIEL FORD    </td> <td>GENERAL MANAGER-METROPOLITAN TRANSIT AUTHORITY</td> <td>167411.18</td> <td>0.0        </td> <td>400184.25</td> <td>nan     </td> <td>567595  </td> <td>567595          </td> <td>2011</td> <td>nan  </td> <td>San Francisco</td> <td>nan   </td>\n        </tr>\n        <tr>\n            <td>2   </td> <td>GARY JIMENEZ      </td> <td>CAPTAIN III (POLICE DEPARTMENT)               </td> <td>155966.02</td> <td>245131.88  </td> <td>137811.38</td> <td>nan     </td> <td>538909  </td> <td>538909          </td> <td>2011</td> <td>nan  </td> <td>San Francisco</td> <td>nan   </td>\n        </tr>\n        <tr>\n            <td>3   </td> <td>ALBERT PARDINI    </td> <td>CAPTAIN III (POLICE DEPARTMENT)               </td> <td>212739.13</td> <td>106088.18  </td> <td>16452.6  </td> <td>nan     </td> <td>335280  </td> <td>335280          </td> <td>2011</td> <td>nan  </td> <td>San Francisco</td> <td>nan   </td>\n        </tr>\n        <tr>\n            <td>4   </td> <td>CHRISTOPHER CHONG </td> <td>WIRE ROPE CABLE MAINTENANCE MECHANIC          </td> <td>77916.0  </td> <td>56120.71   </td> <td>198306.9 </td> <td>nan     </td> <td>332344  </td> <td>332344          </td> <td>2011</td> <td>nan  </td> <td>San Francisco</td> <td>nan   </td>\n        </tr>\n        <tr>\n            <td>5   </td> <td>PATRICK GARDNER   </td> <td>DEPUTY CHIEF OF DEPARTMENT,(FIRE DEPARTMENT)  </td> <td>134401.6 </td> <td>9737.0     </td> <td>182234.59</td> <td>nan     </td> <td>326373  </td> <td>326373          </td> <td>2011</td> <td>nan  </td> <td>San Francisco</td> <td>nan   </td>\n        </tr>\n        <tr>\n            <td>6   </td> <td>DAVID SULLIVAN    </td> <td>ASSISTANT DEPUTY CHIEF II                     </td> <td>118602.0 </td> <td>8601.0     </td> <td>189082.74</td> <td>nan     </td> <td>316286  </td> <td>316286          </td> <td>2011</td> <td>nan  </td> <td>San Francisco</td> <td>nan   </td>\n        </tr>\n        <tr>\n            <td>7   </td> <td>ALSON LEE         </td> <td>BATTALION CHIEF, (FIRE DEPARTMENT)            </td> <td>92492.01 </td> <td>89062.9    </td> <td>134426.14</td> <td>nan     </td> <td>315981  </td> <td>315981          </td> <td>2011</td> <td>nan  </td> <td>San Francisco</td> <td>nan   </td>\n        </tr>\n        <tr>\n            <td>8   </td> <td>DAVID KUSHNER     </td> <td>DEPUTY DIRECTOR OF INVESTMENTS                </td> <td>256576.96</td> <td>0.0        </td> <td>51322.5  </td> <td>nan     </td> <td>307899  </td> <td>307899          </td> <td>2011</td> <td>nan  </td> <td>San Francisco</td> <td>nan   </td>\n        </tr>\n        <tr>\n            <td>9   </td> <td>MICHAEL MORRIS    </td> <td>BATTALION CHIEF, (FIRE DEPARTMENT)            </td> <td>176932.64</td> <td>86362.68   </td> <td>40132.23 </td> <td>nan     </td> <td>303428  </td> <td>303428          </td> <td>2011</td> <td>nan  </td> <td>San Francisco</td> <td>nan   </td>\n        </tr>\n        <tr>\n            <td>10  </td> <td>JOANNE HAYES-WHITE</td> <td>CHIEF OF DEPARTMENT, (FIRE DEPARTMENT)        </td> <td>285262.0 </td> <td>0.0        </td> <td>17115.73 </td> <td>nan     </td> <td>302378  </td> <td>302378          </td> <td>2011</td> <td>nan  </td> <td>San Francisco</td> <td>nan   </td>\n        </tr>\n    </tbody>\n</table>\n<p>... (148644 rows omitted)</p>"
          },
          "metadata": {}
        }
      ]
    },
    {
      "metadata": {},
      "cell_type": "markdown",
      "source": "### Milestone 2: \nIf you successfully read the salary file into a table and show some of the content of the table, congratulations! You have reached Milestone 2."
    },
    {
      "metadata": {},
      "cell_type": "markdown",
      "source": "# <a name=\"notebooks\"></a>Part C Introduction to Jupyter Notebooks\n\nPart C of this lab is intended to be a hands-on introduction to Jupyter Notebook.  You are currently working in a Jupyter Notebook. A Notebook allows text and code to be combined into one document. Each rectangular section of a notebook is called a \"cell.\" There are two types of cells in this notebook: text cells and code cells. "
    },
    {
      "metadata": {},
      "cell_type": "markdown",
      "source": "## 1.1 Text Cells\n\nText cells (like this one) can be edited by double-clicking on them. They're written in a simple format called [Markdown](http://daringfireball.net/projects/markdown/syntax) to add formatting and section headings.  If you want to write your own notebooks, it will be useful to know the basics of Markdown.\n\nAfter you edit a text cell, click the \"run cell\" button at the top that looks like ▶ to confirm any changes. Alternatively, you can hold down the `shift` key and then press `return` or `enter`."
    },
    {
      "metadata": {},
      "cell_type": "markdown",
      "source": "### <a name=\"1\"></a>Exercise 2\n\nThis paragraph is in its own text cell.  Try editing it so that this sentence is the last sentence in the paragraph.  This sentence, for example, should be deleted.  So should this one. Replace this sentence here with one containing your name (e.g., John Yen is a Penn State Football fan)."
    },
    {
      "metadata": {},
      "cell_type": "markdown",
      "source": "## 1.2 Code Cells\n\nOther cells contain code in the Python 3 language. Running a code cell will execute all of the code it contains. To run the code in a code cell, first click on that cell to activate it. Next, either click ▶ or hold down the `shift` key and then press `return` or `enter`.\n\nTry running the two cells below."
    },
    {
      "metadata": {
        "trusted": true
      },
      "cell_type": "code",
      "source": "print(\"Hello, World!\")",
      "execution_count": 8,
      "outputs": [
        {
          "output_type": "stream",
          "text": "Hello, World!\n",
          "name": "stdout"
        }
      ]
    },
    {
      "metadata": {},
      "cell_type": "markdown",
      "source": "### Exercise 3 \nReplace \"Jo Smith\" below with your name.  You can also change the rest of the sentece. Run the code cell to see whether the sentence printed is what you expected.\n#### Tip: \"+\" is used here to concatenate two strings into one."
    },
    {
      "metadata": {
        "trusted": true
      },
      "cell_type": "code",
      "source": "print(\"Jo Smith \" + \"likes to play with data.\")",
      "execution_count": 9,
      "outputs": [
        {
          "output_type": "stream",
          "text": "Jo Smith likes to play with data.\n",
          "name": "stdout"
        }
      ]
    },
    {
      "metadata": {},
      "cell_type": "markdown",
      "source": "Code cells can contain multiple lines. When you run a cell with multiple lines, each line will be executed. Every print expression in the following cell prints a line. Run the next cell and notice the order of the output.\n\n### Exercise 4\nChange the two strings below into two sentences about Penn State. Run the Cell"
    },
    {
      "metadata": {
        "trusted": true
      },
      "cell_type": "code",
      "source": "print(\"First this line is printed,\")\nprint(\"and then this one.\")",
      "execution_count": 10,
      "outputs": [
        {
          "output_type": "stream",
          "text": "First this line is printed,\nand then this one.\n",
          "name": "stdout"
        }
      ]
    },
    {
      "metadata": {},
      "cell_type": "markdown",
      "source": "## 1.3 Comments\n\nCode cells can also contain text in the form of comments. Comments don't make anything happen in Python; Python ignores anything on a line after a #.  Instead, comments are there to communicate something about the code to you, the human reader.  Comments are extremely useful. The cell below contains two examples of how comments can be used.\n\n<img src=\"http://imgs.xkcd.com/comics/future_self.png\">"
    },
    {
      "metadata": {
        "trusted": true
      },
      "cell_type": "code",
      "source": "# This is a comment\nprint(\"Hello, World!\")    # This is also a comment",
      "execution_count": 11,
      "outputs": [
        {
          "output_type": "stream",
          "text": "Hello, World!\n",
          "name": "stdout"
        }
      ]
    },
    {
      "metadata": {},
      "cell_type": "markdown",
      "source": "# <a name=\"python\"></a>2. Intro to Python"
    },
    {
      "metadata": {},
      "cell_type": "markdown",
      "source": "Python is a language, and like natural human languages, it has rules.  It differs from natural language in at least two important ways:\n\n1. The rules are *simple*.  You can learn most of them in a few weeks and gain reasonable proficiency with the language in a semester.\n2. The rules are *rigid*.  If you're proficient in a natural language, you can understand a non-proficient speaker, glossing over small mistakes.  A computer running Python code is not smart enough to do that.\n\nWe will cover some of these rules in this lab. Because the rules are so rigid, you may come across syntax errors throughout the lab. Don't hesitate to ask a lab assistant for help if you see such errors."
    },
    {
      "metadata": {},
      "cell_type": "markdown",
      "source": "## 2.1 Numbers\n\nQuantitative information arises everywhere in data science. Python has two different types of numbers we can work with: integer and floats (aka decimals). Try running the first cell below which contains an integer. "
    },
    {
      "metadata": {
        "trusted": true
      },
      "cell_type": "code",
      "source": "3",
      "execution_count": 12,
      "outputs": [
        {
          "output_type": "execute_result",
          "execution_count": 12,
          "data": {
            "text/plain": "3"
          },
          "metadata": {}
        }
      ]
    },
    {
      "metadata": {},
      "cell_type": "markdown",
      "source": "Notice that we didn't have to `print`. When you run a notebook cell, if the last line has a value, then Jupyter helpfully prints out that value for you. The value of the integer 3 is simply 3. "
    },
    {
      "metadata": {
        "trusted": true
      },
      "cell_type": "code",
      "source": "3.14",
      "execution_count": 13,
      "outputs": [
        {
          "output_type": "execute_result",
          "execution_count": 13,
          "data": {
            "text/plain": "3.14"
          },
          "metadata": {}
        }
      ]
    },
    {
      "metadata": {},
      "cell_type": "markdown",
      "source": "Similarly, the value of the float 3.14 is simply 3.14. \n\nOnly the value of the last line of a cell is automatically displayed. If you want to display the value of previous lines, you must explicitly do so using `print`. Notice that 3 does not get displayed when you run the cell below."
    },
    {
      "metadata": {
        "trusted": true
      },
      "cell_type": "code",
      "source": "print(2.5)    # display by printing\n3             # does not display\n4             # displays automatically",
      "execution_count": 14,
      "outputs": [
        {
          "output_type": "stream",
          "text": "2.5\n",
          "name": "stdout"
        },
        {
          "output_type": "execute_result",
          "execution_count": 14,
          "data": {
            "text/plain": "4"
          },
          "metadata": {}
        }
      ]
    },
    {
      "metadata": {},
      "cell_type": "markdown",
      "source": "## 2.2 Text\n\nProgramming doesn't just concern numbers. Text is one of the most common types of values used in programs.\n\nA snippet of text is represented by a string value in Python. The word **\"string\"** is a programming term for a sequence of characters. A string might contain a single character, a word, a sentence, or a whole book.\n\nTo distinguish text data from actual code, we demarcate strings by putting quotation marks around them. Single quotes (') and double quotes (\") are both valid, but the types of opening and closing quotation marks must match. The contents can be any sequence of characters, including numbers and symbols."
    },
    {
      "metadata": {
        "trusted": true
      },
      "cell_type": "code",
      "source": "\"hello\"",
      "execution_count": 15,
      "outputs": [
        {
          "output_type": "execute_result",
          "execution_count": 15,
          "data": {
            "text/plain": "'hello'"
          },
          "metadata": {}
        }
      ]
    },
    {
      "metadata": {
        "trusted": true
      },
      "cell_type": "code",
      "source": "'world'",
      "execution_count": 16,
      "outputs": [
        {
          "output_type": "execute_result",
          "execution_count": 16,
          "data": {
            "text/plain": "'world'"
          },
          "metadata": {}
        }
      ]
    },
    {
      "metadata": {},
      "cell_type": "markdown",
      "source": "## 2.3 Expressions\n\nExpressions are the building blocks of programs, and they describe to the computer how to combine pieces of data. We can combine numbers using expressions. For example, we can add two numbers using + and multiply two numbers using \\*. \n\nRun the following cell to evaluate the multiplication expression shown. The value of the expression, 12 in this case, will be displayed below the cell."
    },
    {
      "metadata": {
        "trusted": true
      },
      "cell_type": "code",
      "source": "3 * 4",
      "execution_count": 17,
      "outputs": [
        {
          "output_type": "execute_result",
          "execution_count": 17,
          "data": {
            "text/plain": "12"
          },
          "metadata": {}
        }
      ]
    },
    {
      "metadata": {},
      "cell_type": "markdown",
      "source": "When there are multiple expressions in a cell, only the value of the final expression will be automatically displayed upon running the cell. If you want to display the value of previous expressions, you must explicitly do so using `print`. Notice that 5 does not get displayed when you run the cell below."
    },
    {
      "metadata": {},
      "cell_type": "markdown",
      "source": "## 2.4 Names\n\nIn natural language, we have terminology that lets us quickly reference very complicated concepts.  We don't say, \"That's a large mammal with brown fur and sharp teeth!\"  Instead, we say, \"Bear!\"\n\nSimilarly, an effective strategy for writing code is to define names for data as we compute it, like a lawyer would define terms for complex ideas at the start of a legal document. Names are given to values in Python using an **assignment statement**. In an assignment, a name is followed by =, which is followed by any expression. The value of the expression to the right of = is assigned to the name. Once a name has a value assigned to it, the value will be substituted for that name in future expressions."
    },
    {
      "metadata": {
        "trusted": true
      },
      "cell_type": "code",
      "source": "a = 10\nb = 20\na + b",
      "execution_count": 18,
      "outputs": [
        {
          "output_type": "execute_result",
          "execution_count": 18,
          "data": {
            "text/plain": "30"
          },
          "metadata": {}
        }
      ]
    },
    {
      "metadata": {},
      "cell_type": "markdown",
      "source": "A previously assigned name can be used in the expression to the right of = ."
    },
    {
      "metadata": {
        "trusted": true
      },
      "cell_type": "code",
      "source": "quarter = 1/4\nhalf = 2 * quarter\nhalf",
      "execution_count": 19,
      "outputs": [
        {
          "output_type": "execute_result",
          "execution_count": 19,
          "data": {
            "text/plain": "0.5"
          },
          "metadata": {}
        }
      ]
    },
    {
      "metadata": {},
      "cell_type": "markdown",
      "source": "These are sometimes alternatively called variables.  We say that the variable named `quarter` is equal to 0.25.\n\nNames can also be used with strings."
    },
    {
      "metadata": {
        "trusted": true
      },
      "cell_type": "code",
      "source": "favorite_class = \"???\"\nprint(\"My favorite class is \" + favorite_class)",
      "execution_count": 20,
      "outputs": [
        {
          "output_type": "stream",
          "text": "My favorite class is ???\n",
          "name": "stdout"
        }
      ]
    },
    {
      "metadata": {},
      "cell_type": "markdown",
      "source": "# <a name=\"tables\"></a>3. Introduction to Tables"
    },
    {
      "metadata": {},
      "cell_type": "markdown",
      "source": "If we want just the Salary of the data, we can use \".column\" method of Table.  Since salaries is a Table, we can get the entire list of salaries using \"salaries.colum(\"TotalPay\")\".  This will return an array of the salaries.\nSimilar to integers, floats, and strings, arrays are another **data type** that we can use in Python."
    },
    {
      "metadata": {
        "trusted": true
      },
      "cell_type": "code",
      "source": "salary_array = salaries.column(\"TotalPay\")    # Select just the \"TotalPay\" column\nprint(salary_array)",
      "execution_count": 21,
      "outputs": [
        {
          "output_type": "stream",
          "text": "[567595.43 538909.28 335279.91 ...      0.        0.     -618.13]\n",
          "name": "stdout"
        }
      ]
    },
    {
      "metadata": {},
      "cell_type": "markdown",
      "source": "If we want to get the top 100 salaries, we can first sort the salaries in descending order.  We can do this using \".sort\" method of Table."
    },
    {
      "metadata": {
        "trusted": true
      },
      "cell_type": "code",
      "source": "# default sort order is ascending\nsorted_salaries = salaries.sort(\"TotalPay\") \nsorted_salaries",
      "execution_count": 22,
      "outputs": [
        {
          "output_type": "execute_result",
          "execution_count": 22,
          "data": {
            "text/plain": "Id     | EmployeeName       | JobTitle                                   | BasePay | OvertimePay | OtherPay | Benefits | TotalPay | TotalPayBenefits | Year | Notes | Agency        | Status\n148654 | Joe Lopez          | Counselor, Log Cabin Ranch                 | 0.00    | 0.00        | -618.13  | 0.00     | -618.13  | -618.13          | 2014 | nan   | San Francisco | PT\n36157  | PAULETTE ADAMS     | STATIONARY ENGINEER, WATER TREATMENT PLANT | 0.0     | 0.0         | 0.0      | nan      | 0        | 0                | 2011 | nan   | San Francisco | nan\n36158  | KAUKAB MOHSIN      | TRANSIT OPERATOR                           | 0.0     | 0.0         | 0.0      | nan      | 0        | 0                | 2011 | nan   | San Francisco | nan\n36159  | JOSEPHINE MCCREARY | MANAGER IV                                 | 0.0     | 0.0         | 0.0      | nan      | 0        | 0                | 2011 | nan   | San Francisco | nan\n70878  | Roland Baylon      | Deputy Court Clerk II                      | 0.0     | 0.0         | 0.0      | 3728.05  | 0        | 3728.05          | 2012 | nan   | San Francisco | nan\n70928  | Felecia Phillips   | Registered Nurse                           | 0.0     | 0.0         | 0.0      | 3618.13  | 0        | 3618.13          | 2012 | nan   | San Francisco | nan\n70929  | Robert Giannini    | Painter                                    | 0.0     | 0.0         | 0.0      | 3614.56  | 0        | 3614.56          | 2012 | nan   | San Francisco | nan\n70933  | Nelly Kuan         | Senior Eligibility Worker                  | 0.0     | 0.0         | 0.0      | 3610.32  | 0        | 3610.32          | 2012 | nan   | San Francisco | nan\n70934  | William Mathews    | Transit Power Line Worker                  | 0.0     | 0.0         | 0.0      | 3608.42  | 0        | 3608.42          | 2012 | nan   | San Francisco | nan\n70943  | Gayle Mathews      | Senior Collections Officer                 | 0.0     | 0.0         | 0.0      | 3591.89  | 0        | 3591.89          | 2012 | nan   | San Francisco | nan\n... (148644 rows omitted)",
            "text/html": "<table border=\"1\" class=\"dataframe\">\n    <thead>\n        <tr>\n            <th>Id</th> <th>EmployeeName</th> <th>JobTitle</th> <th>BasePay</th> <th>OvertimePay</th> <th>OtherPay</th> <th>Benefits</th> <th>TotalPay</th> <th>TotalPayBenefits</th> <th>Year</th> <th>Notes</th> <th>Agency</th> <th>Status</th>\n        </tr>\n    </thead>\n    <tbody>\n        <tr>\n            <td>148654</td> <td>Joe Lopez         </td> <td>Counselor, Log Cabin Ranch                </td> <td>0.00   </td> <td>0.00       </td> <td>-618.13 </td> <td>0.00    </td> <td>-618.13 </td> <td>-618.13         </td> <td>2014</td> <td>nan  </td> <td>San Francisco</td> <td>PT    </td>\n        </tr>\n        <tr>\n            <td>36157 </td> <td>PAULETTE ADAMS    </td> <td>STATIONARY ENGINEER, WATER TREATMENT PLANT</td> <td>0.0    </td> <td>0.0        </td> <td>0.0     </td> <td>nan     </td> <td>0       </td> <td>0               </td> <td>2011</td> <td>nan  </td> <td>San Francisco</td> <td>nan   </td>\n        </tr>\n        <tr>\n            <td>36158 </td> <td>KAUKAB MOHSIN     </td> <td>TRANSIT OPERATOR                          </td> <td>0.0    </td> <td>0.0        </td> <td>0.0     </td> <td>nan     </td> <td>0       </td> <td>0               </td> <td>2011</td> <td>nan  </td> <td>San Francisco</td> <td>nan   </td>\n        </tr>\n        <tr>\n            <td>36159 </td> <td>JOSEPHINE MCCREARY</td> <td>MANAGER IV                                </td> <td>0.0    </td> <td>0.0        </td> <td>0.0     </td> <td>nan     </td> <td>0       </td> <td>0               </td> <td>2011</td> <td>nan  </td> <td>San Francisco</td> <td>nan   </td>\n        </tr>\n        <tr>\n            <td>70878 </td> <td>Roland Baylon     </td> <td>Deputy Court Clerk II                     </td> <td>0.0    </td> <td>0.0        </td> <td>0.0     </td> <td>3728.05 </td> <td>0       </td> <td>3728.05         </td> <td>2012</td> <td>nan  </td> <td>San Francisco</td> <td>nan   </td>\n        </tr>\n        <tr>\n            <td>70928 </td> <td>Felecia Phillips  </td> <td>Registered Nurse                          </td> <td>0.0    </td> <td>0.0        </td> <td>0.0     </td> <td>3618.13 </td> <td>0       </td> <td>3618.13         </td> <td>2012</td> <td>nan  </td> <td>San Francisco</td> <td>nan   </td>\n        </tr>\n        <tr>\n            <td>70929 </td> <td>Robert Giannini   </td> <td>Painter                                   </td> <td>0.0    </td> <td>0.0        </td> <td>0.0     </td> <td>3614.56 </td> <td>0       </td> <td>3614.56         </td> <td>2012</td> <td>nan  </td> <td>San Francisco</td> <td>nan   </td>\n        </tr>\n        <tr>\n            <td>70933 </td> <td>Nelly Kuan        </td> <td>Senior Eligibility Worker                 </td> <td>0.0    </td> <td>0.0        </td> <td>0.0     </td> <td>3610.32 </td> <td>0       </td> <td>3610.32         </td> <td>2012</td> <td>nan  </td> <td>San Francisco</td> <td>nan   </td>\n        </tr>\n        <tr>\n            <td>70934 </td> <td>William Mathews   </td> <td>Transit Power Line Worker                 </td> <td>0.0    </td> <td>0.0        </td> <td>0.0     </td> <td>3608.42 </td> <td>0       </td> <td>3608.42         </td> <td>2012</td> <td>nan  </td> <td>San Francisco</td> <td>nan   </td>\n        </tr>\n        <tr>\n            <td>70943 </td> <td>Gayle Mathews     </td> <td>Senior Collections Officer                </td> <td>0.0    </td> <td>0.0        </td> <td>0.0     </td> <td>3591.89 </td> <td>0       </td> <td>3591.89         </td> <td>2012</td> <td>nan  </td> <td>San Francisco</td> <td>nan   </td>\n        </tr>\n    </tbody>\n</table>\n<p>... (148644 rows omitted)</p>"
          },
          "metadata": {}
        }
      ]
    },
    {
      "metadata": {},
      "cell_type": "markdown",
      "source": "When using `sort`, the default sort order is ascending (from lowest salary to highest salary). Since we are interested in getting top salaries, it is more convenient to sort the table in DESCENDING order (from highest slary to lowest salary).  We can do this  using the `descending` argument of `sort` with the boolean value `True`, shown below and. The `descending` argument is optional and is set to `False` when its value is not specified as in the previous case. \n\nAdditional Note: In Python, whenever you see a function argument of the form `<argument name>=<argument value>`, the argument is optional and does not need to be passed in. Not passing in the argument will cause the default value (e.g., `False` is the default value of the `descending` argument) to be used.  \n\n### Exercise 5\nFill in the correct value for the descending parameter of salaries.sort so that the salary table can be sorted such that employees with highest TotalPay are on the top of the table."
    },
    {
      "metadata": {
        "trusted": true
      },
      "cell_type": "code",
      "source": "sorted_salaries2 = salaries.sort(\"TotalPay\", descending = \"TRUE\")\nsorted_salaries2",
      "execution_count": 24,
      "outputs": [
        {
          "output_type": "execute_result",
          "execution_count": 24,
          "data": {
            "text/plain": "Id     | EmployeeName         | JobTitle                                       | BasePay   | OvertimePay | OtherPay  | Benefits | TotalPay | TotalPayBenefits | Year | Notes | Agency        | Status\n1      | NATHANIEL FORD       | GENERAL MANAGER-METROPOLITAN TRANSIT AUTHORITY | 167411.18 | 0.0         | 400184.25 | nan      | 567595   | 567595           | 2011 | nan   | San Francisco | nan\n2      | GARY JIMENEZ         | CAPTAIN III (POLICE DEPARTMENT)                | 155966.02 | 245131.88   | 137811.38 | nan      | 538909   | 538909           | 2011 | nan   | San Francisco | nan\n110532 | David Shinn          | Deputy Chief 3                                 | 129150.01 | 0.0         | 342802.63 | 38780.04 | 471953   | 510733           | 2014 | nan   | San Francisco | PT\n110533 | Amy P Hart           | Asst Med Examiner                              | 318835.49 | 10712.95    | 60563.54  | 89540.23 | 390112   | 479652           | 2014 | nan   | San Francisco | FT\n36160  | Gary Altenberg       | Lieutenant, Fire Suppression                   | 128808.87 | 220909.48   | 13126.31  | 44430.12 | 362845   | 407275           | 2012 | nan   | San Francisco | nan\n36168  | John Goldberg        | Captain 3                                      | 104404.0  | 0.0         | 245999.41 | 24287.23 | 350403   | 374691           | 2012 | nan   | San Francisco | nan\n72928  | Samson  Lai          | Battalion Chief, Fire Suppress                 | 186236.42 | 131217.63   | 29648.27  | 57064.95 | 347102   | 404167           | 2013 | nan   | San Francisco | nan\n110537 | Ellen G Moffatt      | Asst Med Examiner                              | 270222.04 | 6009.22     | 67956.2   | 71580.48 | 344187   | 415768           | 2014 | nan   | San Francisco | FT\n110534 | William J Coaker Jr. | Chief Investment Officer                       | 257340.0  | 0.0         | 82313.7   | 96570.66 | 339654   | 436224           | 2014 | nan   | San Francisco | PT\n72926  | Gregory P Suhr       | Chief of Police                                | 319275.01 | 0.0         | 20007.06  | 86533.21 | 339282   | 425815           | 2013 | nan   | San Francisco | nan\n... (148644 rows omitted)",
            "text/html": "<table border=\"1\" class=\"dataframe\">\n    <thead>\n        <tr>\n            <th>Id</th> <th>EmployeeName</th> <th>JobTitle</th> <th>BasePay</th> <th>OvertimePay</th> <th>OtherPay</th> <th>Benefits</th> <th>TotalPay</th> <th>TotalPayBenefits</th> <th>Year</th> <th>Notes</th> <th>Agency</th> <th>Status</th>\n        </tr>\n    </thead>\n    <tbody>\n        <tr>\n            <td>1     </td> <td>NATHANIEL FORD      </td> <td>GENERAL MANAGER-METROPOLITAN TRANSIT AUTHORITY</td> <td>167411.18</td> <td>0.0        </td> <td>400184.25</td> <td>nan     </td> <td>567595  </td> <td>567595          </td> <td>2011</td> <td>nan  </td> <td>San Francisco</td> <td>nan   </td>\n        </tr>\n        <tr>\n            <td>2     </td> <td>GARY JIMENEZ        </td> <td>CAPTAIN III (POLICE DEPARTMENT)               </td> <td>155966.02</td> <td>245131.88  </td> <td>137811.38</td> <td>nan     </td> <td>538909  </td> <td>538909          </td> <td>2011</td> <td>nan  </td> <td>San Francisco</td> <td>nan   </td>\n        </tr>\n        <tr>\n            <td>110532</td> <td>David Shinn         </td> <td>Deputy Chief 3                                </td> <td>129150.01</td> <td>0.0        </td> <td>342802.63</td> <td>38780.04</td> <td>471953  </td> <td>510733          </td> <td>2014</td> <td>nan  </td> <td>San Francisco</td> <td>PT    </td>\n        </tr>\n        <tr>\n            <td>110533</td> <td>Amy P Hart          </td> <td>Asst Med Examiner                             </td> <td>318835.49</td> <td>10712.95   </td> <td>60563.54 </td> <td>89540.23</td> <td>390112  </td> <td>479652          </td> <td>2014</td> <td>nan  </td> <td>San Francisco</td> <td>FT    </td>\n        </tr>\n        <tr>\n            <td>36160 </td> <td>Gary Altenberg      </td> <td>Lieutenant, Fire Suppression                  </td> <td>128808.87</td> <td>220909.48  </td> <td>13126.31 </td> <td>44430.12</td> <td>362845  </td> <td>407275          </td> <td>2012</td> <td>nan  </td> <td>San Francisco</td> <td>nan   </td>\n        </tr>\n        <tr>\n            <td>36168 </td> <td>John Goldberg       </td> <td>Captain 3                                     </td> <td>104404.0 </td> <td>0.0        </td> <td>245999.41</td> <td>24287.23</td> <td>350403  </td> <td>374691          </td> <td>2012</td> <td>nan  </td> <td>San Francisco</td> <td>nan   </td>\n        </tr>\n        <tr>\n            <td>72928 </td> <td>Samson  Lai         </td> <td>Battalion Chief, Fire Suppress                </td> <td>186236.42</td> <td>131217.63  </td> <td>29648.27 </td> <td>57064.95</td> <td>347102  </td> <td>404167          </td> <td>2013</td> <td>nan  </td> <td>San Francisco</td> <td>nan   </td>\n        </tr>\n        <tr>\n            <td>110537</td> <td>Ellen G Moffatt     </td> <td>Asst Med Examiner                             </td> <td>270222.04</td> <td>6009.22    </td> <td>67956.2  </td> <td>71580.48</td> <td>344187  </td> <td>415768          </td> <td>2014</td> <td>nan  </td> <td>San Francisco</td> <td>FT    </td>\n        </tr>\n        <tr>\n            <td>110534</td> <td>William J Coaker Jr.</td> <td>Chief Investment Officer                      </td> <td>257340.0 </td> <td>0.0        </td> <td>82313.7  </td> <td>96570.66</td> <td>339654  </td> <td>436224          </td> <td>2014</td> <td>nan  </td> <td>San Francisco</td> <td>PT    </td>\n        </tr>\n        <tr>\n            <td>72926 </td> <td>Gregory P Suhr      </td> <td>Chief of Police                               </td> <td>319275.01</td> <td>0.0        </td> <td>20007.06 </td> <td>86533.21</td> <td>339282  </td> <td>425815          </td> <td>2013</td> <td>nan  </td> <td>San Francisco</td> <td>nan   </td>\n        </tr>\n    </tbody>\n</table>\n<p>... (148644 rows omitted)</p>"
          },
          "metadata": {}
        }
      ]
    }
  ],
  "metadata": {
    "kernelspec": {
      "name": "python3",
      "display_name": "Python 3",
      "language": "python"
    }
  },
  "nbformat": 4,
  "nbformat_minor": 2
}