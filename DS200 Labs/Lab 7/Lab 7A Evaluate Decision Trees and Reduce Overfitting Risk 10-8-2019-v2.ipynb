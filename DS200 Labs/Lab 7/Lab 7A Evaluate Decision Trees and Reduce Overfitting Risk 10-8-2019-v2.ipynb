{
  "cells": [
    {
      "metadata": {},
      "cell_type": "markdown",
      "source": "# PSU DS 200 \n# Lab 7A Evaluate Decision Trees and Understand Risk of Overfitting\n## Learning Objectives \n\nIn this lab, you will learn to be able to do the following:\n- Learn to evaluate a predictive model regarding \"how good is the model\"\n    * In particular, you will learn how to interpret \"confusion matrix\".\n    * You will also learn how to identify \"strength\" and \"weakness\" of a predictive model from confusion matrix.\n- You will gain a hands-on understanding about the important risk of a model's \"overfitting\" to \ntraining data (using NFL pass prediction problem and data) by comparing a model's prediction\nperformance for training data with that of testing data.\n- You will also be able to compare the overfitting risk of two predictive models by comparing their prediction performance with their model complexity."
    },
    {
      "metadata": {
        "trusted": true
      },
      "cell_type": "code",
      "source": "import numpy as np\nimport pandas as pd\nimport graphviz",
      "execution_count": 1,
      "outputs": []
    },
    {
      "metadata": {
        "trusted": true
      },
      "cell_type": "code",
      "source": "from sklearn.model_selection import train_test_split\nfrom sklearn.pipeline import Pipeline\nfrom sklearn import tree\nfrom sklearn.tree import DecisionTreeClassifier\nfrom sklearn import metrics\n\nimport os\nos.environ[\"PATH\"] += os.pathsep + 'C:/Program Files (x86)/Graphviz2.38/bin/'",
      "execution_count": 2,
      "outputs": []
    },
    {
      "metadata": {},
      "cell_type": "markdown",
      "source": "## Reading Data for Constructing a Predictive Model\n### Format of the Data\nData for constructing a predictive model is often stored in a \"Comma-Separated Values\" format, also commonly referred to as \"CSV\" format.  A file that stores data in CSV format uses \".csv\" as its file extension.  \n\n### Read_CSV in Panda\nThe easiest way to read a CSV file for the purpose of constructing a predictive model is to use read_csv function in Panda. The function reads data from a CSV file, and generates a table-style internal representation (called DataFrame).\n<ul>\n    <li> The first parameter of the function is the name of the csv file to be read. </li>\n\n    <li> The \"sep=\" parameter in read_csv specifieds the separator of different fields.  Because the CSV file used for this lab uses comma (i.e., \",\") as separator, the read_csv function has \"sep=\",\" as the second pamater. </li>\n    \n</ul>"
    },
    {
      "metadata": {
        "trusted": true
      },
      "cell_type": "code",
      "source": "Ben_pass= pd.read_csv('Ben-NE-9-10-2015-pass-6.csv', sep=\",\")",
      "execution_count": 3,
      "outputs": []
    },
    {
      "metadata": {},
      "cell_type": "markdown",
      "source": "### Display the Data \nThe first row of the CSV file contains the names of attributes/features for each passing play of a specific NFL game (between Pittsburgh Steelers and New England Patriots held on September 10th, 2015).  Because pass prediction model for each quaterback can be different, so this dataset is prepared for the purpose of predicting the outcome of passing play by Steeler quaterback Ben Rothlisberger. The last column of the CSV file contains the outcome of each passing play.\n\nIn general, the data for building a predictive model involves two types: \n<ol>\n    <li> The input data to the model (which we also call FEATURES), and </li>\n    <li> The DESIRED prediction output data of the model (for each corresponding input) </li>\n    </ol>\nTogether, these data are used to \"train\" the model, as we shall see later, so that the model's output,\ngiven each input, is AS CLOSE AS POSSIBLE (we will elaborate this point later) to the DESIRED output.\n\nFor example, the data for training to predict pass completion includes input data for the prediction (e.g., distance of pass, number of down, yards to go, etc), and the DESIRED output of the prediction (i.e., whether a pass plays completes or not). \n\nThe meaning of all the input attributes/features for this lab are listed below:\n<ul>\n    <li>down: The number of down for the play</li>\n    <li>ydstogo: The remaining yards needed to gain for a first down</li>\n    <li>Yards.Gained.PrevPlay: The number of yards gained in the previous play (which can be a run play or passing play}</li>\n    <li>AirYards: The distance between the starting position of the play and the receiving position of the passing play. A negative number means the quarterback moves back in the play such that the net yardage gain, if the pass completes, is negative. </li>\n    <li>PassLocation: The area of passing location: -1 means left field, 0 means center field, 1 means right field. </li>\n</ul>\n\nThe value of the desired prediction output (i.e., PassOutcome in the last column) in the dataset indicates whether the outcome of each passing play, represented by each row, is completes (i.e., having the value \"1\") or incomplete (i.e., having the value \"0\").  "
    },
    {
      "metadata": {
        "trusted": true
      },
      "cell_type": "code",
      "source": "print(Ben_pass)",
      "execution_count": 4,
      "outputs": [
        {
          "output_type": "stream",
          "text": "    down  ydstogo  Yards.Gained.PrevPlay  AirYards  PassLocation  PassOutcome\n0      1       10                     18        -4             1            1\n1      1       10                      0         9             1            1\n2      3       22                      6         1             1            1\n3      1       10                      0         7            -1            1\n4      1       10                     13         6            -1            1\n5      1       10                     12         7            -1            1\n6      1       10                      0         5             1            0\n7      2       10                      0        25             1            0\n8      3        5                     -1         6            -1            1\n9      1       15                      4        -1             1            1\n10     3       18                     -6        17            -1            1\n11     1       20                      5         5            -1            1\n12     2       11                      9         4            -1            1\n13     2       13                     -3        -2            -1            1\n14     3        6                      7         6             0            1\n15     2        7                      0        11             1            1\n16     1       10                     13        16             1            1\n17     1       10                     19         6             1            1\n18     2        8                      2         0            -1            0\n19     3        8                      0        39            -1            1\n20     3        3                      1        19             1            0\n21     1       10                      0        11             0            1\n22     2       10                      0        17            -1            1\n23     1       10                     18         7             0            1\n24     1        9                      2         4            -1            1\n25     2        6                      3         6             0            1\n26     1       10                      0         5             1            1\n27     2       15                      9         4            -1            1\n28     3        6                      9        26             1            1\n29     2        8                      2         0            -1            1\n..   ...      ...                    ...       ...           ...          ...\n40     2       15                     -5         7             0            1\n41     3        6                     -1         2            -1            1\n42     1       10                      0        25             1            1\n43     2        5                      5         2             1            1\n44     2        8                      0         1             1            1\n45     1        1                      0         1             0            0\n46     1       10                      0        18             1            1\n47     1       10                      0        27             0            0\n48     3        5                      5         4             0            1\n49     2        1                      0         1             1            0\n50     3        1                      0         1            -1            1\n51     2        3                      7         9             0            0\n52     3        3                      0         9             1            0\n53     2       12                     -2        23             1            0\n54     3       12                      0         6             0            0\n55     1       10                      0        18             1            1\n56     1       10                     18        39            -1            0\n57     2        9                      1         7            -1            1\n58     3        4                      3        -3             1            0\n59     1       10                      0        11             1            0\n60     2       10                      0         4            -1            1\n61     3        1                      9         6             0            1\n62     1       10                      0        29             0            0\n63     2       10                      0         1            -1            1\n64     3        8                      2        13             0            1\n65     2       27                     -7        14             0            1\n66     3        9                      0        12            -1            0\n67     4        9                      0        15            -1            1\n68     1       10                      0        11            -1            1\n69     1       10                     11        11            -1            1\n\n[70 rows x 6 columns]\n",
          "name": "stdout"
        }
      ]
    },
    {
      "metadata": {},
      "cell_type": "markdown",
      "source": "## Prepare Labelled Data for Model Training\nIn order to use the data to train a predictitive model, we need to extract the input data and corresponding output data from the table-like internal representation (i.e., DataFrame) generated by Panda read_csv function (and subsequentenly assigned to the variable Ben_pass).  \n\nOne easy way to do this is to use .values method (of DataFrame) to \n<ol>\n    <li> Extract values from the columns for the input data and assign it to a variable (e.g., \"X\" in the code below), and </li>\n    <li> Extract values from the column for the DESIRED output data and assigned to a different variable (e.g., \"Y\" in the code below).</li>\n</ol>\n\n### Prepare Input Data for Model Training\n\nWe want to use the following five attributes as inputs for predicting pass completion:\n<ul>\n    <li> down: The number of down for the play </li>\n    <li> ydstogo: The remaining yards needed to gain for a first down </li>\n<li> Yards.Gained.PrevPlay: The number of yards gained in the previous play (which can be a run play or passing play} </li>\n<li> AirYards: The distance between the starting position of the play and the receiving position of the passing play. A negative number means the quarterback moves back in the play such that the net yardage gain, if the pass completes, is negative. </li>\n<li>PassLocation: The area of passing location: -1 means left field, 0 means center field, 1 means right field.</li>\n    </ul>\n\nIn DataFrame, the first column is referred to as column \"0\" (rather than column 1).  Therefore, the columns of the table-like representation stored in Ben_pass are:\n<ul>\n    <li> The column\n        storing the value of \"down\" is column 0. </li>\n    <li> The column storing the value of \"ydstogo\" is column 1. </li>\n    <li> The column storing the value of \"Yards.Gained.PrevPlay\" is column 2. </li>\n    <li> The column storing the value of \"AirYards\" is column 3. </li>\n    <li> The column storing the value of \"PassLocation\" is column 4. </li>\n    <li> The column storing the value of desired model output \"PassOutcome\" is column 5. </li>\n    </ul>\n\n#### As we saw in Lab 5, to extract column 0, 1, 2, 3, and 4 from Ben_pass (which stores the table-like representation), we use \"0:5\" to indicate a range of columns from column 0 to (but NOT including) column 5. \n\nWe store the extracted input data in a variable called X.\n\n#### Notice that we do not want to extract column 5 because it contains the desired model output, so we want to save it in a different variable to prepare for model training (which takes model input data and desired model output data separately)."
    },
    {
      "metadata": {
        "trusted": true
      },
      "cell_type": "code",
      "source": "X= Ben_pass.values[:,0:5]\nprint(X)",
      "execution_count": 5,
      "outputs": [
        {
          "output_type": "stream",
          "text": "[[ 1 10 18 -4  1]\n [ 1 10  0  9  1]\n [ 3 22  6  1  1]\n [ 1 10  0  7 -1]\n [ 1 10 13  6 -1]\n [ 1 10 12  7 -1]\n [ 1 10  0  5  1]\n [ 2 10  0 25  1]\n [ 3  5 -1  6 -1]\n [ 1 15  4 -1  1]\n [ 3 18 -6 17 -1]\n [ 1 20  5  5 -1]\n [ 2 11  9  4 -1]\n [ 2 13 -3 -2 -1]\n [ 3  6  7  6  0]\n [ 2  7  0 11  1]\n [ 1 10 13 16  1]\n [ 1 10 19  6  1]\n [ 2  8  2  0 -1]\n [ 3  8  0 39 -1]\n [ 3  3  1 19  1]\n [ 1 10  0 11  0]\n [ 2 10  0 17 -1]\n [ 1 10 18  7  0]\n [ 1  9  2  4 -1]\n [ 2  6  3  6  0]\n [ 1 10  0  5  1]\n [ 2 15  9  4 -1]\n [ 3  6  9 26  1]\n [ 2  8  2  0 -1]\n [ 3  3  5 23  1]\n [ 4  3  0  4  0]\n [ 2  5  5 26 -1]\n [ 3  5  0  7  0]\n [ 1 10  0  4  1]\n [ 3  5  1  5  1]\n [ 2  1  9 -1 -1]\n [ 2  1  0  0 -1]\n [ 1 10 28 23 -1]\n [ 1 10 13 -5 -1]\n [ 2 15 -5  7  0]\n [ 3  6 -1  2 -1]\n [ 1 10  0 25  1]\n [ 2  5  5  2  1]\n [ 2  8  0  1  1]\n [ 1  1  0  1  0]\n [ 1 10  0 18  1]\n [ 1 10  0 27  0]\n [ 3  5  5  4  0]\n [ 2  1  0  1  1]\n [ 3  1  0  1 -1]\n [ 2  3  7  9  0]\n [ 3  3  0  9  1]\n [ 2 12 -2 23  1]\n [ 3 12  0  6  0]\n [ 1 10  0 18  1]\n [ 1 10 18 39 -1]\n [ 2  9  1  7 -1]\n [ 3  4  3 -3  1]\n [ 1 10  0 11  1]\n [ 2 10  0  4 -1]\n [ 3  1  9  6  0]\n [ 1 10  0 29  0]\n [ 2 10  0  1 -1]\n [ 3  8  2 13  0]\n [ 2 27 -7 14  0]\n [ 3  9  0 12 -1]\n [ 4  9  0 15 -1]\n [ 1 10  0 11 -1]\n [ 1 10 11 11 -1]]\n",
          "name": "stdout"
        }
      ]
    },
    {
      "metadata": {},
      "cell_type": "markdown",
      "source": "### Prepare Output Data for Model Training\nTo prepare desired output data (also referred to as target output data) for model training, we extract PassOutcome, which is stored in column 5 of Ben_pass table-like representation.  Similar to the previous step, we extract this data from ALL ROWS of the Ben_pass table-like representation. \n\nWe store this output data in a variable Y."
    },
    {
      "metadata": {
        "trusted": true
      },
      "cell_type": "code",
      "source": "Y= Ben_pass.values[:,5]\nprint(Y)",
      "execution_count": 6,
      "outputs": [
        {
          "output_type": "stream",
          "text": "[1 1 1 1 1 1 0 0 1 1 1 1 1 1 1 1 1 1 0 1 0 1 1 1 1 1 1 1 1 1 0 1 0 0 1 1 1\n 1 1 1 1 1 1 1 1 0 1 0 1 0 1 0 0 0 0 1 0 1 0 0 1 1 0 1 1 1 0 1 1 1]\n",
          "name": "stdout"
        }
      ]
    },
    {
      "metadata": {},
      "cell_type": "markdown",
      "source": "As we can see from the result of print(Y), Y is a one-dimensional array.  "
    },
    {
      "metadata": {},
      "cell_type": "markdown",
      "source": "# Train a Decision Tree from a Set of Training Data\n\n### Like Lab 5, we will use Python scikit-learn module to create a decision tree.\n### Scikit-learn offers other machine learning models beyond decision trees.\n### We do not need to install scikit-learn, because it has been pre-installed in Azure Notebooks (together with Python 3)\nScikit-learn (sklearn) is a Python module that contains many useful machine learning code, including code for constructing model from data, for creating predictive models using multiple machine learning methods (including decision tree which we will use), and for evaluating how good is the model created.  \n\n### In the beginning of this notebook, we used the following import statement to import a submodule of scikit-learn (sklearn), tree (which provides functions/methods related to decision trees)\n    from sklearn import tree\n\n### Split the Data into Training Set and Testing Set using Train_Test_Split in sklearn\nIt is important that we reserve some data to evaluate how good is the prediction capability of the model.  This means that we are NOT going to use this reserved data to train the model.  THIS IS A VERY IMPORTANT POINT and we will return to it later for a more detail look.  For now, we will focus on the workflow for constructing a predictive model.\n\nThere are multiple ways to use data to train decision tree models.  We will use train_test_split Python command from sklearn Python module. In the beginning of this lab, we have imported train_test_split from sklearn as follows:\n\n    from sklearn.model_selection import train_test_split\n\nImporting a function from a library means we can directly use this function after the import.\n\nTrain_test_split has four parameters:\n<ol>\n    <li> The first paraemter is all of the model's input data. We have prepared variable X1 to be used here. </li>\n    <li> The second parameter is all of the model's target output data.  We have prepared variable Y to be used here. </li>\n    <li> The third parameter (test_size) is the percentage of the data (both model input and output) to be RESERVED for testing.  We use 25% here, and will revisit this topic later. </li>\n    <li> The fourth paraemter (randome_state) is a random number to be used to randomly split the model's input and output data (i.e., the data stored in variable X and variable Y) into two subgroups: a Training Set and a Testing Set.\n    </ol>\n\nThe output of the train_test_split function includes four inter-related results:\n<ol>\n    <li> The Model Input Data (features) used for Training: We store this in the variable X_train </li>\n    <li> The Model Input Data (features) used for Testing: We store this in the variable X_test </li>\n    <li> The Model Output Data (prediction) used for Training: We store this in the variable y_train </li>\n    <li> The Model Output Data (prediction) used for Testing: We store this in the variable y_test </li>\n    \n    </ol>\n    \n### In this lab, we will split the data into training and testing through a 80% - 20% split.  As we will see later, this is one of the most common ways for splitting labelled data.\n\n### Self-evaluation\nYou may notice the input to train_test_split is \"X\" here, rather than \"X1\" in Lab 5.  Do you know why?"
    },
    {
      "metadata": {
        "trusted": true
      },
      "cell_type": "code",
      "source": "X_train, X_test, y_train, y_test = train_test_split( X, Y, test_size = 0.20, random_state = 100)",
      "execution_count": 7,
      "outputs": []
    },
    {
      "metadata": {
        "trusted": true
      },
      "cell_type": "code",
      "source": "print(X_test)",
      "execution_count": 8,
      "outputs": [
        {
          "output_type": "stream",
          "text": "[[ 1 10 13 -5 -1]\n [ 1 10  0  5  1]\n [ 1 10 18  7  0]\n [ 1 10 18 39 -1]\n [ 1 10 28 23 -1]\n [ 3  8  2 13  0]\n [ 1 10  0 18  1]\n [ 1 20  5  5 -1]\n [ 2  8  2  0 -1]\n [ 3  4  3 -3  1]\n [ 2 27 -7 14  0]\n [ 1 10 12  7 -1]\n [ 3  3  1 19  1]\n [ 1 10 11 11 -1]]\n",
          "name": "stdout"
        }
      ]
    },
    {
      "metadata": {},
      "cell_type": "markdown",
      "source": "### We also imported DecisionTreeClassifier from the tree submodule in sklearn:\n    from sklearn.tree import DecisionTreeClassifier\n\n### Using DecisionTreeClassifier to Train a Decision Tree\nThere are two steps involved in creating a decision tree using DecisionTreeClassifier.\n1. Create an \"empty\" Decision Tree Classifier by specifying the various parameters we use to construct the decision tree. Save the created empty Decision Tree Classifier in a variable (e.g., \"clf\" in the code below) for the next step. Some of the important parameters are the following:\n    * criterion: We will use 'entropy' as the criteria for creating decision trees in this class.  \n    * max_depth: This parameter specifies how \"deep\" the decision tree is allowed.  If you choose \"max_depth=3\", the tree created will be limited to 3 levels. (The root node is at level 0.) As we will see later, the choice of this parameter can affect the model's risk for overfitting.\n    * min_samples_leaf: This parameter specifies the minimum number of samples required in a leaf node. As we will see later, the choice of this parameter can also affect the model's risk for overfitting.\n2. Use a set of input training data and output training data to \"train\" the Decision Tree Classifier (previously \"empty\" one; but will have an actual Decision Tree."
    },
    {
      "metadata": {},
      "cell_type": "markdown",
      "source": "### Exercise 1 Train a Decision Tree (Model A) with a High Overfitting Risk (3 points)\nIn Lab 5, we chose the parameters of max_depth and min_samples_leaf.  In this lab,\nwe first intentionally create a decision tree with a high overfitting risk.\n\nFill in a large number for the parameters of max_depth (e.b., between 10 and 20) and \nset the min_samples_leaf to be 1. \n\nWe will refer to this model you build as \"Model A\"."
    },
    {
      "metadata": {
        "trusted": true
      },
      "cell_type": "code",
      "source": "clf1 = DecisionTreeClassifier(criterion = 'entropy', random_state = 100,\n                               max_depth=15, min_samples_leaf=1)\nclf1.fit(X_train, y_train)",
      "execution_count": 9,
      "outputs": [
        {
          "output_type": "execute_result",
          "execution_count": 9,
          "data": {
            "text/plain": "DecisionTreeClassifier(class_weight=None, criterion='entropy', max_depth=15,\n            max_features=None, max_leaf_nodes=None,\n            min_impurity_decrease=0.0, min_impurity_split=None,\n            min_samples_leaf=1, min_samples_split=2,\n            min_weight_fraction_leaf=0.0, presort=False, random_state=100,\n            splitter='best')"
          },
          "metadata": {}
        }
      ]
    },
    {
      "metadata": {},
      "cell_type": "markdown",
      "source": "Execute the code below to visualize the decision tree. The only thing you need to fill in is the name of the 5th feature you used for input.  Replace '???' with a string of that feature name."
    },
    {
      "metadata": {
        "trusted": true
      },
      "cell_type": "code",
      "source": "dot_data1= tree.export_graphviz(clf1, out_file=None, feature_names=('down','ydstogo','YardsGainedPrevPlay','AirYards','PassLocation'))",
      "execution_count": 10,
      "outputs": []
    },
    {
      "metadata": {
        "trusted": true
      },
      "cell_type": "code",
      "source": "graph = graphviz.Source(dot_data1)\ngraph",
      "execution_count": 11,
      "outputs": [
        {
          "output_type": "execute_result",
          "execution_count": 11,
          "data": {
            "text/plain": "<graphviz.files.Source at 0x7fa9d1310780>",
            "image/svg+xml": "<?xml version=\"1.0\" encoding=\"UTF-8\" standalone=\"no\"?>\n<!DOCTYPE svg PUBLIC \"-//W3C//DTD SVG 1.1//EN\"\n \"http://www.w3.org/Graphics/SVG/1.1/DTD/svg11.dtd\">\n<!-- Generated by graphviz version 2.38.0 (20140413.2041)\n -->\n<!-- Title: Tree Pages: 1 -->\n<svg width=\"1058pt\" height=\"1205pt\"\n viewBox=\"0.00 0.00 1058.00 1205.00\" xmlns=\"http://www.w3.org/2000/svg\" xmlns:xlink=\"http://www.w3.org/1999/xlink\">\n<g id=\"graph0\" class=\"graph\" transform=\"scale(1 1) rotate(0) translate(4 1201)\">\n<title>Tree</title>\n<polygon fill=\"white\" stroke=\"none\" points=\"-4,4 -4,-1201 1054,-1201 1054,4 -4,4\"/>\n<!-- 0 -->\n<g id=\"node1\" class=\"node\"><title>0</title>\n<polygon fill=\"none\" stroke=\"black\" points=\"718.5,-1197 603.5,-1197 603.5,-1129 718.5,-1129 718.5,-1197\"/>\n<text text-anchor=\"middle\" x=\"661\" y=\"-1181.8\" font-family=\"Times,serif\" font-size=\"14.00\">AirYards &lt;= 20.5</text>\n<text text-anchor=\"middle\" x=\"661\" y=\"-1166.8\" font-family=\"Times,serif\" font-size=\"14.00\">entropy = 0.838</text>\n<text text-anchor=\"middle\" x=\"661\" y=\"-1151.8\" font-family=\"Times,serif\" font-size=\"14.00\">samples = 56</text>\n<text text-anchor=\"middle\" x=\"661\" y=\"-1136.8\" font-family=\"Times,serif\" font-size=\"14.00\">value = [15, 41]</text>\n</g>\n<!-- 1 -->\n<g id=\"node2\" class=\"node\"><title>1</title>\n<polygon fill=\"none\" stroke=\"black\" points=\"539,-1093 405,-1093 405,-1025 539,-1025 539,-1093\"/>\n<text text-anchor=\"middle\" x=\"472\" y=\"-1077.8\" font-family=\"Times,serif\" font-size=\"14.00\">PassLocation &lt;= &#45;0.5</text>\n<text text-anchor=\"middle\" x=\"472\" y=\"-1062.8\" font-family=\"Times,serif\" font-size=\"14.00\">entropy = 0.705</text>\n<text text-anchor=\"middle\" x=\"472\" y=\"-1047.8\" font-family=\"Times,serif\" font-size=\"14.00\">samples = 47</text>\n<text text-anchor=\"middle\" x=\"472\" y=\"-1032.8\" font-family=\"Times,serif\" font-size=\"14.00\">value = [9, 38]</text>\n</g>\n<!-- 0&#45;&gt;1 -->\n<g id=\"edge1\" class=\"edge\"><title>0&#45;&gt;1</title>\n<path fill=\"none\" stroke=\"black\" d=\"M603.267,-1130.84C583.976,-1120.43 562.263,-1108.71 542.133,-1097.85\"/>\n<polygon fill=\"black\" stroke=\"black\" points=\"543.776,-1094.76 533.314,-1093.09 540.452,-1100.92 543.776,-1094.76\"/>\n<text text-anchor=\"middle\" x=\"540.475\" y=\"-1113.34\" font-family=\"Times,serif\" font-size=\"14.00\">True</text>\n</g>\n<!-- 32 -->\n<g id=\"node33\" class=\"node\"><title>32</title>\n<polygon fill=\"none\" stroke=\"black\" points=\"908.5,-1093 793.5,-1093 793.5,-1025 908.5,-1025 908.5,-1093\"/>\n<text text-anchor=\"middle\" x=\"851\" y=\"-1077.8\" font-family=\"Times,serif\" font-size=\"14.00\">AirYards &lt;= 34.0</text>\n<text text-anchor=\"middle\" x=\"851\" y=\"-1062.8\" font-family=\"Times,serif\" font-size=\"14.00\">entropy = 0.918</text>\n<text text-anchor=\"middle\" x=\"851\" y=\"-1047.8\" font-family=\"Times,serif\" font-size=\"14.00\">samples = 9</text>\n<text text-anchor=\"middle\" x=\"851\" y=\"-1032.8\" font-family=\"Times,serif\" font-size=\"14.00\">value = [6, 3]</text>\n</g>\n<!-- 0&#45;&gt;32 -->\n<g id=\"edge32\" class=\"edge\"><title>0&#45;&gt;32</title>\n<path fill=\"none\" stroke=\"black\" d=\"M718.522,-1131.12C739.26,-1119.99 762.837,-1107.33 784.294,-1095.81\"/>\n<polygon fill=\"black\" stroke=\"black\" points=\"786.191,-1098.76 793.346,-1090.95 782.88,-1092.6 786.191,-1098.76\"/>\n<text text-anchor=\"middle\" x=\"786.132\" y=\"-1111.19\" font-family=\"Times,serif\" font-size=\"14.00\">False</text>\n</g>\n<!-- 2 -->\n<g id=\"node3\" class=\"node\"><title>2</title>\n<polygon fill=\"none\" stroke=\"black\" points=\"230.5,-989 115.5,-989 115.5,-921 230.5,-921 230.5,-989\"/>\n<text text-anchor=\"middle\" x=\"173\" y=\"-973.8\" font-family=\"Times,serif\" font-size=\"14.00\">AirYards &lt;= 11.5</text>\n<text text-anchor=\"middle\" x=\"173\" y=\"-958.8\" font-family=\"Times,serif\" font-size=\"14.00\">entropy = 0.286</text>\n<text text-anchor=\"middle\" x=\"173\" y=\"-943.8\" font-family=\"Times,serif\" font-size=\"14.00\">samples = 20</text>\n<text text-anchor=\"middle\" x=\"173\" y=\"-928.8\" font-family=\"Times,serif\" font-size=\"14.00\">value = [1, 19]</text>\n</g>\n<!-- 1&#45;&gt;2 -->\n<g id=\"edge2\" class=\"edge\"><title>1&#45;&gt;2</title>\n<path fill=\"none\" stroke=\"black\" d=\"M404.899,-1035.11C355.828,-1018.37 289.533,-995.754 240.394,-978.991\"/>\n<polygon fill=\"black\" stroke=\"black\" points=\"241.4,-975.636 230.805,-975.72 239.14,-982.261 241.4,-975.636\"/>\n</g>\n<!-- 7 -->\n<g id=\"node8\" class=\"node\"><title>7</title>\n<polygon fill=\"none\" stroke=\"black\" points=\"561,-989 383,-989 383,-921 561,-921 561,-989\"/>\n<text text-anchor=\"middle\" x=\"472\" y=\"-973.8\" font-family=\"Times,serif\" font-size=\"14.00\">YardsGainedPrevPlay &lt;= 0.5</text>\n<text text-anchor=\"middle\" x=\"472\" y=\"-958.8\" font-family=\"Times,serif\" font-size=\"14.00\">entropy = 0.877</text>\n<text text-anchor=\"middle\" x=\"472\" y=\"-943.8\" font-family=\"Times,serif\" font-size=\"14.00\">samples = 27</text>\n<text text-anchor=\"middle\" x=\"472\" y=\"-928.8\" font-family=\"Times,serif\" font-size=\"14.00\">value = [8, 19]</text>\n</g>\n<!-- 1&#45;&gt;7 -->\n<g id=\"edge7\" class=\"edge\"><title>1&#45;&gt;7</title>\n<path fill=\"none\" stroke=\"black\" d=\"M472,-1024.88C472,-1016.78 472,-1007.98 472,-999.472\"/>\n<polygon fill=\"black\" stroke=\"black\" points=\"475.5,-999.299 472,-989.299 468.5,-999.299 475.5,-999.299\"/>\n</g>\n<!-- 3 -->\n<g id=\"node4\" class=\"node\"><title>3</title>\n<polygon fill=\"none\" stroke=\"black\" points=\"98,-877.5 7.10543e-15,-877.5 7.10543e-15,-824.5 98,-824.5 98,-877.5\"/>\n<text text-anchor=\"middle\" x=\"49\" y=\"-862.3\" font-family=\"Times,serif\" font-size=\"14.00\">entropy = 0.0</text>\n<text text-anchor=\"middle\" x=\"49\" y=\"-847.3\" font-family=\"Times,serif\" font-size=\"14.00\">samples = 16</text>\n<text text-anchor=\"middle\" x=\"49\" y=\"-832.3\" font-family=\"Times,serif\" font-size=\"14.00\">value = [0, 16]</text>\n</g>\n<!-- 2&#45;&gt;3 -->\n<g id=\"edge3\" class=\"edge\"><title>2&#45;&gt;3</title>\n<path fill=\"none\" stroke=\"black\" d=\"M132.741,-920.884C118.301,-909.006 102.06,-895.646 87.7512,-883.876\"/>\n<polygon fill=\"black\" stroke=\"black\" points=\"89.9706,-881.17 80.0242,-877.52 85.5237,-886.576 89.9706,-881.17\"/>\n</g>\n<!-- 4 -->\n<g id=\"node5\" class=\"node\"><title>4</title>\n<polygon fill=\"none\" stroke=\"black\" points=\"230.5,-885 115.5,-885 115.5,-817 230.5,-817 230.5,-885\"/>\n<text text-anchor=\"middle\" x=\"173\" y=\"-869.8\" font-family=\"Times,serif\" font-size=\"14.00\">AirYards &lt;= 13.5</text>\n<text text-anchor=\"middle\" x=\"173\" y=\"-854.8\" font-family=\"Times,serif\" font-size=\"14.00\">entropy = 0.811</text>\n<text text-anchor=\"middle\" x=\"173\" y=\"-839.8\" font-family=\"Times,serif\" font-size=\"14.00\">samples = 4</text>\n<text text-anchor=\"middle\" x=\"173\" y=\"-824.8\" font-family=\"Times,serif\" font-size=\"14.00\">value = [1, 3]</text>\n</g>\n<!-- 2&#45;&gt;4 -->\n<g id=\"edge4\" class=\"edge\"><title>2&#45;&gt;4</title>\n<path fill=\"none\" stroke=\"black\" d=\"M173,-920.884C173,-912.778 173,-903.982 173,-895.472\"/>\n<polygon fill=\"black\" stroke=\"black\" points=\"176.5,-895.299 173,-885.299 169.5,-895.299 176.5,-895.299\"/>\n</g>\n<!-- 5 -->\n<g id=\"node6\" class=\"node\"><title>5</title>\n<polygon fill=\"none\" stroke=\"black\" points=\"109,-773.5 17,-773.5 17,-720.5 109,-720.5 109,-773.5\"/>\n<text text-anchor=\"middle\" x=\"63\" y=\"-758.3\" font-family=\"Times,serif\" font-size=\"14.00\">entropy = 0.0</text>\n<text text-anchor=\"middle\" x=\"63\" y=\"-743.3\" font-family=\"Times,serif\" font-size=\"14.00\">samples = 1</text>\n<text text-anchor=\"middle\" x=\"63\" y=\"-728.3\" font-family=\"Times,serif\" font-size=\"14.00\">value = [1, 0]</text>\n</g>\n<!-- 4&#45;&gt;5 -->\n<g id=\"edge5\" class=\"edge\"><title>4&#45;&gt;5</title>\n<path fill=\"none\" stroke=\"black\" d=\"M137.286,-816.884C124.714,-805.226 110.603,-792.141 98.083,-780.532\"/>\n<polygon fill=\"black\" stroke=\"black\" points=\"100.234,-777.753 90.5215,-773.52 95.4744,-782.886 100.234,-777.753\"/>\n</g>\n<!-- 6 -->\n<g id=\"node7\" class=\"node\"><title>6</title>\n<polygon fill=\"none\" stroke=\"black\" points=\"219,-773.5 127,-773.5 127,-720.5 219,-720.5 219,-773.5\"/>\n<text text-anchor=\"middle\" x=\"173\" y=\"-758.3\" font-family=\"Times,serif\" font-size=\"14.00\">entropy = 0.0</text>\n<text text-anchor=\"middle\" x=\"173\" y=\"-743.3\" font-family=\"Times,serif\" font-size=\"14.00\">samples = 3</text>\n<text text-anchor=\"middle\" x=\"173\" y=\"-728.3\" font-family=\"Times,serif\" font-size=\"14.00\">value = [0, 3]</text>\n</g>\n<!-- 4&#45;&gt;6 -->\n<g id=\"edge6\" class=\"edge\"><title>4&#45;&gt;6</title>\n<path fill=\"none\" stroke=\"black\" d=\"M173,-816.884C173,-806.326 173,-794.597 173,-783.854\"/>\n<polygon fill=\"black\" stroke=\"black\" points=\"176.5,-783.52 173,-773.52 169.5,-783.52 176.5,-783.52\"/>\n</g>\n<!-- 8 -->\n<g id=\"node9\" class=\"node\"><title>8</title>\n<polygon fill=\"none\" stroke=\"black\" points=\"462,-885 358,-885 358,-817 462,-817 462,-885\"/>\n<text text-anchor=\"middle\" x=\"410\" y=\"-869.8\" font-family=\"Times,serif\" font-size=\"14.00\">ydstogo &lt;= 6.0</text>\n<text text-anchor=\"middle\" x=\"410\" y=\"-854.8\" font-family=\"Times,serif\" font-size=\"14.00\">entropy = 0.997</text>\n<text text-anchor=\"middle\" x=\"410\" y=\"-839.8\" font-family=\"Times,serif\" font-size=\"14.00\">samples = 15</text>\n<text text-anchor=\"middle\" x=\"410\" y=\"-824.8\" font-family=\"Times,serif\" font-size=\"14.00\">value = [7, 8]</text>\n</g>\n<!-- 7&#45;&gt;8 -->\n<g id=\"edge8\" class=\"edge\"><title>7&#45;&gt;8</title>\n<path fill=\"none\" stroke=\"black\" d=\"M451.87,-920.884C446.673,-912.332 441.008,-903.013 435.573,-894.072\"/>\n<polygon fill=\"black\" stroke=\"black\" points=\"438.426,-892.027 430.241,-885.299 432.444,-895.663 438.426,-892.027\"/>\n</g>\n<!-- 27 -->\n<g id=\"node28\" class=\"node\"><title>27</title>\n<polygon fill=\"none\" stroke=\"black\" points=\"588,-885 480,-885 480,-817 588,-817 588,-885\"/>\n<text text-anchor=\"middle\" x=\"534\" y=\"-869.8\" font-family=\"Times,serif\" font-size=\"14.00\">AirYards &lt;= 7.5</text>\n<text text-anchor=\"middle\" x=\"534\" y=\"-854.8\" font-family=\"Times,serif\" font-size=\"14.00\">entropy = 0.414</text>\n<text text-anchor=\"middle\" x=\"534\" y=\"-839.8\" font-family=\"Times,serif\" font-size=\"14.00\">samples = 12</text>\n<text text-anchor=\"middle\" x=\"534\" y=\"-824.8\" font-family=\"Times,serif\" font-size=\"14.00\">value = [1, 11]</text>\n</g>\n<!-- 7&#45;&gt;27 -->\n<g id=\"edge27\" class=\"edge\"><title>7&#45;&gt;27</title>\n<path fill=\"none\" stroke=\"black\" d=\"M492.13,-920.884C497.327,-912.332 502.992,-903.013 508.427,-894.072\"/>\n<polygon fill=\"black\" stroke=\"black\" points=\"511.556,-895.663 513.759,-885.299 505.574,-892.027 511.556,-895.663\"/>\n</g>\n<!-- 9 -->\n<g id=\"node10\" class=\"node\"><title>9</title>\n<polygon fill=\"none\" stroke=\"black\" points=\"341,-781 237,-781 237,-713 341,-713 341,-781\"/>\n<text text-anchor=\"middle\" x=\"289\" y=\"-765.8\" font-family=\"Times,serif\" font-size=\"14.00\">down &lt;= 3.5</text>\n<text text-anchor=\"middle\" x=\"289\" y=\"-750.8\" font-family=\"Times,serif\" font-size=\"14.00\">entropy = 0.722</text>\n<text text-anchor=\"middle\" x=\"289\" y=\"-735.8\" font-family=\"Times,serif\" font-size=\"14.00\">samples = 5</text>\n<text text-anchor=\"middle\" x=\"289\" y=\"-720.8\" font-family=\"Times,serif\" font-size=\"14.00\">value = [4, 1]</text>\n</g>\n<!-- 8&#45;&gt;9 -->\n<g id=\"edge9\" class=\"edge\"><title>8&#45;&gt;9</title>\n<path fill=\"none\" stroke=\"black\" d=\"M370.715,-816.884C359.726,-807.62 347.667,-797.455 336.268,-787.845\"/>\n<polygon fill=\"black\" stroke=\"black\" points=\"338.404,-785.069 328.502,-781.299 333.892,-790.421 338.404,-785.069\"/>\n</g>\n<!-- 12 -->\n<g id=\"node13\" class=\"node\"><title>12</title>\n<polygon fill=\"none\" stroke=\"black\" points=\"463,-781 359,-781 359,-713 463,-713 463,-781\"/>\n<text text-anchor=\"middle\" x=\"411\" y=\"-765.8\" font-family=\"Times,serif\" font-size=\"14.00\">down &lt;= 2.5</text>\n<text text-anchor=\"middle\" x=\"411\" y=\"-750.8\" font-family=\"Times,serif\" font-size=\"14.00\">entropy = 0.881</text>\n<text text-anchor=\"middle\" x=\"411\" y=\"-735.8\" font-family=\"Times,serif\" font-size=\"14.00\">samples = 10</text>\n<text text-anchor=\"middle\" x=\"411\" y=\"-720.8\" font-family=\"Times,serif\" font-size=\"14.00\">value = [3, 7]</text>\n</g>\n<!-- 8&#45;&gt;12 -->\n<g id=\"edge12\" class=\"edge\"><title>8&#45;&gt;12</title>\n<path fill=\"none\" stroke=\"black\" d=\"M410.325,-816.884C410.404,-808.778 410.49,-799.982 410.574,-791.472\"/>\n<polygon fill=\"black\" stroke=\"black\" points=\"414.075,-791.333 410.674,-781.299 407.076,-791.265 414.075,-791.333\"/>\n</g>\n<!-- 10 -->\n<g id=\"node11\" class=\"node\"><title>10</title>\n<polygon fill=\"none\" stroke=\"black\" points=\"225,-669.5 133,-669.5 133,-616.5 225,-616.5 225,-669.5\"/>\n<text text-anchor=\"middle\" x=\"179\" y=\"-654.3\" font-family=\"Times,serif\" font-size=\"14.00\">entropy = 0.0</text>\n<text text-anchor=\"middle\" x=\"179\" y=\"-639.3\" font-family=\"Times,serif\" font-size=\"14.00\">samples = 4</text>\n<text text-anchor=\"middle\" x=\"179\" y=\"-624.3\" font-family=\"Times,serif\" font-size=\"14.00\">value = [4, 0]</text>\n</g>\n<!-- 9&#45;&gt;10 -->\n<g id=\"edge10\" class=\"edge\"><title>9&#45;&gt;10</title>\n<path fill=\"none\" stroke=\"black\" d=\"M253.286,-712.884C240.714,-701.226 226.603,-688.141 214.083,-676.532\"/>\n<polygon fill=\"black\" stroke=\"black\" points=\"216.234,-673.753 206.521,-669.52 211.474,-678.886 216.234,-673.753\"/>\n</g>\n<!-- 11 -->\n<g id=\"node12\" class=\"node\"><title>11</title>\n<polygon fill=\"none\" stroke=\"black\" points=\"335,-669.5 243,-669.5 243,-616.5 335,-616.5 335,-669.5\"/>\n<text text-anchor=\"middle\" x=\"289\" y=\"-654.3\" font-family=\"Times,serif\" font-size=\"14.00\">entropy = 0.0</text>\n<text text-anchor=\"middle\" x=\"289\" y=\"-639.3\" font-family=\"Times,serif\" font-size=\"14.00\">samples = 1</text>\n<text text-anchor=\"middle\" x=\"289\" y=\"-624.3\" font-family=\"Times,serif\" font-size=\"14.00\">value = [0, 1]</text>\n</g>\n<!-- 9&#45;&gt;11 -->\n<g id=\"edge11\" class=\"edge\"><title>9&#45;&gt;11</title>\n<path fill=\"none\" stroke=\"black\" d=\"M289,-712.884C289,-702.326 289,-690.597 289,-679.854\"/>\n<polygon fill=\"black\" stroke=\"black\" points=\"292.5,-679.52 289,-669.52 285.5,-679.52 292.5,-679.52\"/>\n</g>\n<!-- 13 -->\n<g id=\"node14\" class=\"node\"><title>13</title>\n<polygon fill=\"none\" stroke=\"black\" points=\"457,-677 353,-677 353,-609 457,-609 457,-677\"/>\n<text text-anchor=\"middle\" x=\"405\" y=\"-661.8\" font-family=\"Times,serif\" font-size=\"14.00\">down &lt;= 1.5</text>\n<text text-anchor=\"middle\" x=\"405\" y=\"-646.8\" font-family=\"Times,serif\" font-size=\"14.00\">entropy = 0.764</text>\n<text text-anchor=\"middle\" x=\"405\" y=\"-631.8\" font-family=\"Times,serif\" font-size=\"14.00\">samples = 9</text>\n<text text-anchor=\"middle\" x=\"405\" y=\"-616.8\" font-family=\"Times,serif\" font-size=\"14.00\">value = [2, 7]</text>\n</g>\n<!-- 12&#45;&gt;13 -->\n<g id=\"edge13\" class=\"edge\"><title>12&#45;&gt;13</title>\n<path fill=\"none\" stroke=\"black\" d=\"M409.052,-712.884C408.575,-704.778 408.058,-695.982 407.557,-687.472\"/>\n<polygon fill=\"black\" stroke=\"black\" points=\"411.04,-687.077 406.959,-677.299 404.052,-687.488 411.04,-687.077\"/>\n</g>\n<!-- 26 -->\n<g id=\"node27\" class=\"node\"><title>26</title>\n<polygon fill=\"none\" stroke=\"black\" points=\"567,-669.5 475,-669.5 475,-616.5 567,-616.5 567,-669.5\"/>\n<text text-anchor=\"middle\" x=\"521\" y=\"-654.3\" font-family=\"Times,serif\" font-size=\"14.00\">entropy = 0.0</text>\n<text text-anchor=\"middle\" x=\"521\" y=\"-639.3\" font-family=\"Times,serif\" font-size=\"14.00\">samples = 1</text>\n<text text-anchor=\"middle\" x=\"521\" y=\"-624.3\" font-family=\"Times,serif\" font-size=\"14.00\">value = [1, 0]</text>\n</g>\n<!-- 12&#45;&gt;26 -->\n<g id=\"edge26\" class=\"edge\"><title>12&#45;&gt;26</title>\n<path fill=\"none\" stroke=\"black\" d=\"M446.714,-712.884C459.286,-701.226 473.397,-688.141 485.917,-676.532\"/>\n<polygon fill=\"black\" stroke=\"black\" points=\"488.526,-678.886 493.479,-669.52 483.766,-673.753 488.526,-678.886\"/>\n</g>\n<!-- 14 -->\n<g id=\"node15\" class=\"node\"><title>14</title>\n<polygon fill=\"none\" stroke=\"black\" points=\"400,-573 292,-573 292,-505 400,-505 400,-573\"/>\n<text text-anchor=\"middle\" x=\"346\" y=\"-557.8\" font-family=\"Times,serif\" font-size=\"14.00\">AirYards &lt;= 4.5</text>\n<text text-anchor=\"middle\" x=\"346\" y=\"-542.8\" font-family=\"Times,serif\" font-size=\"14.00\">entropy = 0.918</text>\n<text text-anchor=\"middle\" x=\"346\" y=\"-527.8\" font-family=\"Times,serif\" font-size=\"14.00\">samples = 6</text>\n<text text-anchor=\"middle\" x=\"346\" y=\"-512.8\" font-family=\"Times,serif\" font-size=\"14.00\">value = [2, 4]</text>\n</g>\n<!-- 13&#45;&gt;14 -->\n<g id=\"edge14\" class=\"edge\"><title>13&#45;&gt;14</title>\n<path fill=\"none\" stroke=\"black\" d=\"M385.844,-608.884C380.898,-600.332 375.508,-591.013 370.336,-582.072\"/>\n<polygon fill=\"black\" stroke=\"black\" points=\"373.298,-580.203 365.261,-573.299 367.239,-583.708 373.298,-580.203\"/>\n</g>\n<!-- 25 -->\n<g id=\"node26\" class=\"node\"><title>25</title>\n<polygon fill=\"none\" stroke=\"black\" points=\"510,-565.5 418,-565.5 418,-512.5 510,-512.5 510,-565.5\"/>\n<text text-anchor=\"middle\" x=\"464\" y=\"-550.3\" font-family=\"Times,serif\" font-size=\"14.00\">entropy = 0.0</text>\n<text text-anchor=\"middle\" x=\"464\" y=\"-535.3\" font-family=\"Times,serif\" font-size=\"14.00\">samples = 3</text>\n<text text-anchor=\"middle\" x=\"464\" y=\"-520.3\" font-family=\"Times,serif\" font-size=\"14.00\">value = [0, 3]</text>\n</g>\n<!-- 13&#45;&gt;25 -->\n<g id=\"edge25\" class=\"edge\"><title>13&#45;&gt;25</title>\n<path fill=\"none\" stroke=\"black\" d=\"M424.156,-608.884C430.581,-597.776 437.755,-585.372 444.227,-574.184\"/>\n<polygon fill=\"black\" stroke=\"black\" points=\"447.261,-575.929 449.238,-565.52 441.202,-572.424 447.261,-575.929\"/>\n</g>\n<!-- 15 -->\n<g id=\"node16\" class=\"node\"><title>15</title>\n<polygon fill=\"none\" stroke=\"black\" points=\"333,-461.5 241,-461.5 241,-408.5 333,-408.5 333,-461.5\"/>\n<text text-anchor=\"middle\" x=\"287\" y=\"-446.3\" font-family=\"Times,serif\" font-size=\"14.00\">entropy = 0.0</text>\n<text text-anchor=\"middle\" x=\"287\" y=\"-431.3\" font-family=\"Times,serif\" font-size=\"14.00\">samples = 1</text>\n<text text-anchor=\"middle\" x=\"287\" y=\"-416.3\" font-family=\"Times,serif\" font-size=\"14.00\">value = [0, 1]</text>\n</g>\n<!-- 14&#45;&gt;15 -->\n<g id=\"edge15\" class=\"edge\"><title>14&#45;&gt;15</title>\n<path fill=\"none\" stroke=\"black\" d=\"M326.844,-504.884C320.419,-493.776 313.245,-481.372 306.773,-470.184\"/>\n<polygon fill=\"black\" stroke=\"black\" points=\"309.798,-468.424 301.762,-461.52 303.739,-471.929 309.798,-468.424\"/>\n</g>\n<!-- 16 -->\n<g id=\"node17\" class=\"node\"><title>16</title>\n<polygon fill=\"none\" stroke=\"black\" points=\"459,-469 351,-469 351,-401 459,-401 459,-469\"/>\n<text text-anchor=\"middle\" x=\"405\" y=\"-453.8\" font-family=\"Times,serif\" font-size=\"14.00\">AirYards &lt;= 7.0</text>\n<text text-anchor=\"middle\" x=\"405\" y=\"-438.8\" font-family=\"Times,serif\" font-size=\"14.00\">entropy = 0.971</text>\n<text text-anchor=\"middle\" x=\"405\" y=\"-423.8\" font-family=\"Times,serif\" font-size=\"14.00\">samples = 5</text>\n<text text-anchor=\"middle\" x=\"405\" y=\"-408.8\" font-family=\"Times,serif\" font-size=\"14.00\">value = [2, 3]</text>\n</g>\n<!-- 14&#45;&gt;16 -->\n<g id=\"edge16\" class=\"edge\"><title>14&#45;&gt;16</title>\n<path fill=\"none\" stroke=\"black\" d=\"M365.156,-504.884C370.102,-496.332 375.492,-487.013 380.664,-478.072\"/>\n<polygon fill=\"black\" stroke=\"black\" points=\"383.761,-479.708 385.739,-469.299 377.702,-476.203 383.761,-479.708\"/>\n</g>\n<!-- 17 -->\n<g id=\"node18\" class=\"node\"><title>17</title>\n<polygon fill=\"none\" stroke=\"black\" points=\"390,-357.5 298,-357.5 298,-304.5 390,-304.5 390,-357.5\"/>\n<text text-anchor=\"middle\" x=\"344\" y=\"-342.3\" font-family=\"Times,serif\" font-size=\"14.00\">entropy = 0.0</text>\n<text text-anchor=\"middle\" x=\"344\" y=\"-327.3\" font-family=\"Times,serif\" font-size=\"14.00\">samples = 1</text>\n<text text-anchor=\"middle\" x=\"344\" y=\"-312.3\" font-family=\"Times,serif\" font-size=\"14.00\">value = [1, 0]</text>\n</g>\n<!-- 16&#45;&gt;17 -->\n<g id=\"edge17\" class=\"edge\"><title>16&#45;&gt;17</title>\n<path fill=\"none\" stroke=\"black\" d=\"M385.195,-400.884C378.552,-389.776 371.134,-377.372 364.443,-366.184\"/>\n<polygon fill=\"black\" stroke=\"black\" points=\"367.398,-364.306 359.262,-357.52 361.391,-367.899 367.398,-364.306\"/>\n</g>\n<!-- 18 -->\n<g id=\"node19\" class=\"node\"><title>18</title>\n<polygon fill=\"none\" stroke=\"black\" points=\"523.5,-365 408.5,-365 408.5,-297 523.5,-297 523.5,-365\"/>\n<text text-anchor=\"middle\" x=\"466\" y=\"-349.8\" font-family=\"Times,serif\" font-size=\"14.00\">AirYards &lt;= 10.0</text>\n<text text-anchor=\"middle\" x=\"466\" y=\"-334.8\" font-family=\"Times,serif\" font-size=\"14.00\">entropy = 0.811</text>\n<text text-anchor=\"middle\" x=\"466\" y=\"-319.8\" font-family=\"Times,serif\" font-size=\"14.00\">samples = 4</text>\n<text text-anchor=\"middle\" x=\"466\" y=\"-304.8\" font-family=\"Times,serif\" font-size=\"14.00\">value = [1, 3]</text>\n</g>\n<!-- 16&#45;&gt;18 -->\n<g id=\"edge18\" class=\"edge\"><title>16&#45;&gt;18</title>\n<path fill=\"none\" stroke=\"black\" d=\"M424.805,-400.884C429.919,-392.332 435.492,-383.013 440.839,-374.072\"/>\n<polygon fill=\"black\" stroke=\"black\" points=\"443.957,-375.678 446.086,-365.299 437.949,-372.085 443.957,-375.678\"/>\n</g>\n<!-- 19 -->\n<g id=\"node20\" class=\"node\"><title>19</title>\n<polygon fill=\"none\" stroke=\"black\" points=\"451,-253.5 359,-253.5 359,-200.5 451,-200.5 451,-253.5\"/>\n<text text-anchor=\"middle\" x=\"405\" y=\"-238.3\" font-family=\"Times,serif\" font-size=\"14.00\">entropy = 0.0</text>\n<text text-anchor=\"middle\" x=\"405\" y=\"-223.3\" font-family=\"Times,serif\" font-size=\"14.00\">samples = 1</text>\n<text text-anchor=\"middle\" x=\"405\" y=\"-208.3\" font-family=\"Times,serif\" font-size=\"14.00\">value = [0, 1]</text>\n</g>\n<!-- 18&#45;&gt;19 -->\n<g id=\"edge19\" class=\"edge\"><title>18&#45;&gt;19</title>\n<path fill=\"none\" stroke=\"black\" d=\"M446.195,-296.884C439.552,-285.776 432.134,-273.372 425.443,-262.184\"/>\n<polygon fill=\"black\" stroke=\"black\" points=\"428.398,-260.306 420.262,-253.52 422.391,-263.899 428.398,-260.306\"/>\n</g>\n<!-- 20 -->\n<g id=\"node21\" class=\"node\"><title>20</title>\n<polygon fill=\"none\" stroke=\"black\" points=\"584.5,-261 469.5,-261 469.5,-193 584.5,-193 584.5,-261\"/>\n<text text-anchor=\"middle\" x=\"527\" y=\"-245.8\" font-family=\"Times,serif\" font-size=\"14.00\">AirYards &lt;= 14.5</text>\n<text text-anchor=\"middle\" x=\"527\" y=\"-230.8\" font-family=\"Times,serif\" font-size=\"14.00\">entropy = 0.918</text>\n<text text-anchor=\"middle\" x=\"527\" y=\"-215.8\" font-family=\"Times,serif\" font-size=\"14.00\">samples = 3</text>\n<text text-anchor=\"middle\" x=\"527\" y=\"-200.8\" font-family=\"Times,serif\" font-size=\"14.00\">value = [1, 2]</text>\n</g>\n<!-- 18&#45;&gt;20 -->\n<g id=\"edge20\" class=\"edge\"><title>18&#45;&gt;20</title>\n<path fill=\"none\" stroke=\"black\" d=\"M485.805,-296.884C490.919,-288.332 496.492,-279.013 501.839,-270.072\"/>\n<polygon fill=\"black\" stroke=\"black\" points=\"504.957,-271.678 507.086,-261.299 498.949,-268.085 504.957,-271.678\"/>\n</g>\n<!-- 21 -->\n<g id=\"node22\" class=\"node\"><title>21</title>\n<polygon fill=\"none\" stroke=\"black\" points=\"528,-157 398,-157 398,-89 528,-89 528,-157\"/>\n<text text-anchor=\"middle\" x=\"463\" y=\"-141.8\" font-family=\"Times,serif\" font-size=\"14.00\">PassLocation &lt;= 0.5</text>\n<text text-anchor=\"middle\" x=\"463\" y=\"-126.8\" font-family=\"Times,serif\" font-size=\"14.00\">entropy = 1.0</text>\n<text text-anchor=\"middle\" x=\"463\" y=\"-111.8\" font-family=\"Times,serif\" font-size=\"14.00\">samples = 2</text>\n<text text-anchor=\"middle\" x=\"463\" y=\"-96.8\" font-family=\"Times,serif\" font-size=\"14.00\">value = [1, 1]</text>\n</g>\n<!-- 20&#45;&gt;21 -->\n<g id=\"edge21\" class=\"edge\"><title>20&#45;&gt;21</title>\n<path fill=\"none\" stroke=\"black\" d=\"M506.221,-192.884C500.8,-184.243 494.887,-174.819 489.223,-165.793\"/>\n<polygon fill=\"black\" stroke=\"black\" points=\"492.173,-163.91 483.894,-157.299 486.244,-167.63 492.173,-163.91\"/>\n</g>\n<!-- 24 -->\n<g id=\"node25\" class=\"node\"><title>24</title>\n<polygon fill=\"none\" stroke=\"black\" points=\"638,-149.5 546,-149.5 546,-96.5 638,-96.5 638,-149.5\"/>\n<text text-anchor=\"middle\" x=\"592\" y=\"-134.3\" font-family=\"Times,serif\" font-size=\"14.00\">entropy = 0.0</text>\n<text text-anchor=\"middle\" x=\"592\" y=\"-119.3\" font-family=\"Times,serif\" font-size=\"14.00\">samples = 1</text>\n<text text-anchor=\"middle\" x=\"592\" y=\"-104.3\" font-family=\"Times,serif\" font-size=\"14.00\">value = [0, 1]</text>\n</g>\n<!-- 20&#45;&gt;24 -->\n<g id=\"edge24\" class=\"edge\"><title>20&#45;&gt;24</title>\n<path fill=\"none\" stroke=\"black\" d=\"M548.104,-192.884C555.182,-181.776 563.087,-169.372 570.216,-158.184\"/>\n<polygon fill=\"black\" stroke=\"black\" points=\"573.315,-159.834 575.737,-149.52 567.412,-156.072 573.315,-159.834\"/>\n</g>\n<!-- 22 -->\n<g id=\"node23\" class=\"node\"><title>22</title>\n<polygon fill=\"none\" stroke=\"black\" points=\"454,-53 362,-53 362,-0 454,-0 454,-53\"/>\n<text text-anchor=\"middle\" x=\"408\" y=\"-37.8\" font-family=\"Times,serif\" font-size=\"14.00\">entropy = 0.0</text>\n<text text-anchor=\"middle\" x=\"408\" y=\"-22.8\" font-family=\"Times,serif\" font-size=\"14.00\">samples = 1</text>\n<text text-anchor=\"middle\" x=\"408\" y=\"-7.8\" font-family=\"Times,serif\" font-size=\"14.00\">value = [0, 1]</text>\n</g>\n<!-- 21&#45;&gt;22 -->\n<g id=\"edge22\" class=\"edge\"><title>21&#45;&gt;22</title>\n<path fill=\"none\" stroke=\"black\" d=\"M443.764,-88.9485C438.706,-80.2579 433.236,-70.8608 428.133,-62.0917\"/>\n<polygon fill=\"black\" stroke=\"black\" points=\"431.034,-60.1189 422.979,-53.2367 424.984,-63.6401 431.034,-60.1189\"/>\n</g>\n<!-- 23 -->\n<g id=\"node24\" class=\"node\"><title>23</title>\n<polygon fill=\"none\" stroke=\"black\" points=\"564,-53 472,-53 472,-0 564,-0 564,-53\"/>\n<text text-anchor=\"middle\" x=\"518\" y=\"-37.8\" font-family=\"Times,serif\" font-size=\"14.00\">entropy = 0.0</text>\n<text text-anchor=\"middle\" x=\"518\" y=\"-22.8\" font-family=\"Times,serif\" font-size=\"14.00\">samples = 1</text>\n<text text-anchor=\"middle\" x=\"518\" y=\"-7.8\" font-family=\"Times,serif\" font-size=\"14.00\">value = [1, 0]</text>\n</g>\n<!-- 21&#45;&gt;23 -->\n<g id=\"edge23\" class=\"edge\"><title>21&#45;&gt;23</title>\n<path fill=\"none\" stroke=\"black\" d=\"M482.236,-88.9485C487.294,-80.2579 492.764,-70.8608 497.867,-62.0917\"/>\n<polygon fill=\"black\" stroke=\"black\" points=\"501.016,-63.6401 503.021,-53.2367 494.966,-60.1189 501.016,-63.6401\"/>\n</g>\n<!-- 28 -->\n<g id=\"node29\" class=\"node\"><title>28</title>\n<polygon fill=\"none\" stroke=\"black\" points=\"581,-773.5 483,-773.5 483,-720.5 581,-720.5 581,-773.5\"/>\n<text text-anchor=\"middle\" x=\"532\" y=\"-758.3\" font-family=\"Times,serif\" font-size=\"14.00\">entropy = 0.0</text>\n<text text-anchor=\"middle\" x=\"532\" y=\"-743.3\" font-family=\"Times,serif\" font-size=\"14.00\">samples = 10</text>\n<text text-anchor=\"middle\" x=\"532\" y=\"-728.3\" font-family=\"Times,serif\" font-size=\"14.00\">value = [0, 10]</text>\n</g>\n<!-- 27&#45;&gt;28 -->\n<g id=\"edge28\" class=\"edge\"><title>27&#45;&gt;28</title>\n<path fill=\"none\" stroke=\"black\" d=\"M533.351,-816.884C533.141,-806.216 532.909,-794.352 532.696,-783.519\"/>\n<polygon fill=\"black\" stroke=\"black\" points=\"536.196,-783.449 532.5,-773.52 529.197,-783.587 536.196,-783.449\"/>\n</g>\n<!-- 29 -->\n<g id=\"node30\" class=\"node\"><title>29</title>\n<polygon fill=\"none\" stroke=\"black\" points=\"713.5,-781 598.5,-781 598.5,-713 713.5,-713 713.5,-781\"/>\n<text text-anchor=\"middle\" x=\"656\" y=\"-765.8\" font-family=\"Times,serif\" font-size=\"14.00\">AirYards &lt;= 12.5</text>\n<text text-anchor=\"middle\" x=\"656\" y=\"-750.8\" font-family=\"Times,serif\" font-size=\"14.00\">entropy = 1.0</text>\n<text text-anchor=\"middle\" x=\"656\" y=\"-735.8\" font-family=\"Times,serif\" font-size=\"14.00\">samples = 2</text>\n<text text-anchor=\"middle\" x=\"656\" y=\"-720.8\" font-family=\"Times,serif\" font-size=\"14.00\">value = [1, 1]</text>\n</g>\n<!-- 27&#45;&gt;29 -->\n<g id=\"edge29\" class=\"edge\"><title>27&#45;&gt;29</title>\n<path fill=\"none\" stroke=\"black\" d=\"M573.61,-816.884C584.69,-807.62 596.848,-797.455 608.342,-787.845\"/>\n<polygon fill=\"black\" stroke=\"black\" points=\"610.744,-790.399 616.171,-781.299 606.254,-785.028 610.744,-790.399\"/>\n</g>\n<!-- 30 -->\n<g id=\"node31\" class=\"node\"><title>30</title>\n<polygon fill=\"none\" stroke=\"black\" points=\"677,-669.5 585,-669.5 585,-616.5 677,-616.5 677,-669.5\"/>\n<text text-anchor=\"middle\" x=\"631\" y=\"-654.3\" font-family=\"Times,serif\" font-size=\"14.00\">entropy = 0.0</text>\n<text text-anchor=\"middle\" x=\"631\" y=\"-639.3\" font-family=\"Times,serif\" font-size=\"14.00\">samples = 1</text>\n<text text-anchor=\"middle\" x=\"631\" y=\"-624.3\" font-family=\"Times,serif\" font-size=\"14.00\">value = [1, 0]</text>\n</g>\n<!-- 29&#45;&gt;30 -->\n<g id=\"edge30\" class=\"edge\"><title>29&#45;&gt;30</title>\n<path fill=\"none\" stroke=\"black\" d=\"M647.883,-712.884C645.269,-702.216 642.361,-690.352 639.706,-679.519\"/>\n<polygon fill=\"black\" stroke=\"black\" points=\"643.035,-678.399 637.255,-669.52 636.236,-680.066 643.035,-678.399\"/>\n</g>\n<!-- 31 -->\n<g id=\"node32\" class=\"node\"><title>31</title>\n<polygon fill=\"none\" stroke=\"black\" points=\"787,-669.5 695,-669.5 695,-616.5 787,-616.5 787,-669.5\"/>\n<text text-anchor=\"middle\" x=\"741\" y=\"-654.3\" font-family=\"Times,serif\" font-size=\"14.00\">entropy = 0.0</text>\n<text text-anchor=\"middle\" x=\"741\" y=\"-639.3\" font-family=\"Times,serif\" font-size=\"14.00\">samples = 1</text>\n<text text-anchor=\"middle\" x=\"741\" y=\"-624.3\" font-family=\"Times,serif\" font-size=\"14.00\">value = [0, 1]</text>\n</g>\n<!-- 29&#45;&gt;31 -->\n<g id=\"edge31\" class=\"edge\"><title>29&#45;&gt;31</title>\n<path fill=\"none\" stroke=\"black\" d=\"M683.597,-712.884C693.037,-701.556 703.6,-688.88 713.066,-677.521\"/>\n<polygon fill=\"black\" stroke=\"black\" points=\"716.02,-679.443 719.733,-669.52 710.643,-674.962 716.02,-679.443\"/>\n</g>\n<!-- 33 -->\n<g id=\"node34\" class=\"node\"><title>33</title>\n<polygon fill=\"none\" stroke=\"black\" points=\"940,-989 762,-989 762,-921 940,-921 940,-989\"/>\n<text text-anchor=\"middle\" x=\"851\" y=\"-973.8\" font-family=\"Times,serif\" font-size=\"14.00\">YardsGainedPrevPlay &lt;= 7.0</text>\n<text text-anchor=\"middle\" x=\"851\" y=\"-958.8\" font-family=\"Times,serif\" font-size=\"14.00\">entropy = 0.811</text>\n<text text-anchor=\"middle\" x=\"851\" y=\"-943.8\" font-family=\"Times,serif\" font-size=\"14.00\">samples = 8</text>\n<text text-anchor=\"middle\" x=\"851\" y=\"-928.8\" font-family=\"Times,serif\" font-size=\"14.00\">value = [6, 2]</text>\n</g>\n<!-- 32&#45;&gt;33 -->\n<g id=\"edge33\" class=\"edge\"><title>32&#45;&gt;33</title>\n<path fill=\"none\" stroke=\"black\" d=\"M851,-1024.88C851,-1016.78 851,-1007.98 851,-999.472\"/>\n<polygon fill=\"black\" stroke=\"black\" points=\"854.5,-999.299 851,-989.299 847.5,-999.299 854.5,-999.299\"/>\n</g>\n<!-- 40 -->\n<g id=\"node41\" class=\"node\"><title>40</title>\n<polygon fill=\"none\" stroke=\"black\" points=\"1050,-981.5 958,-981.5 958,-928.5 1050,-928.5 1050,-981.5\"/>\n<text text-anchor=\"middle\" x=\"1004\" y=\"-966.3\" font-family=\"Times,serif\" font-size=\"14.00\">entropy = 0.0</text>\n<text text-anchor=\"middle\" x=\"1004\" y=\"-951.3\" font-family=\"Times,serif\" font-size=\"14.00\">samples = 1</text>\n<text text-anchor=\"middle\" x=\"1004\" y=\"-936.3\" font-family=\"Times,serif\" font-size=\"14.00\">value = [0, 1]</text>\n</g>\n<!-- 32&#45;&gt;40 -->\n<g id=\"edge40\" class=\"edge\"><title>32&#45;&gt;40</title>\n<path fill=\"none\" stroke=\"black\" d=\"M900.675,-1024.88C918.821,-1012.79 939.273,-999.151 957.164,-987.224\"/>\n<polygon fill=\"black\" stroke=\"black\" points=\"959.341,-989.979 965.72,-981.52 955.458,-984.155 959.341,-989.979\"/>\n</g>\n<!-- 34 -->\n<g id=\"node35\" class=\"node\"><title>34</title>\n<polygon fill=\"none\" stroke=\"black\" points=\"903,-885 799,-885 799,-817 903,-817 903,-885\"/>\n<text text-anchor=\"middle\" x=\"851\" y=\"-869.8\" font-family=\"Times,serif\" font-size=\"14.00\">down &lt;= 1.5</text>\n<text text-anchor=\"middle\" x=\"851\" y=\"-854.8\" font-family=\"Times,serif\" font-size=\"14.00\">entropy = 0.592</text>\n<text text-anchor=\"middle\" x=\"851\" y=\"-839.8\" font-family=\"Times,serif\" font-size=\"14.00\">samples = 7</text>\n<text text-anchor=\"middle\" x=\"851\" y=\"-824.8\" font-family=\"Times,serif\" font-size=\"14.00\">value = [6, 1]</text>\n</g>\n<!-- 33&#45;&gt;34 -->\n<g id=\"edge34\" class=\"edge\"><title>33&#45;&gt;34</title>\n<path fill=\"none\" stroke=\"black\" d=\"M851,-920.884C851,-912.778 851,-903.982 851,-895.472\"/>\n<polygon fill=\"black\" stroke=\"black\" points=\"854.5,-895.299 851,-885.299 847.5,-895.299 854.5,-895.299\"/>\n</g>\n<!-- 39 -->\n<g id=\"node40\" class=\"node\"><title>39</title>\n<polygon fill=\"none\" stroke=\"black\" points=\"1013,-877.5 921,-877.5 921,-824.5 1013,-824.5 1013,-877.5\"/>\n<text text-anchor=\"middle\" x=\"967\" y=\"-862.3\" font-family=\"Times,serif\" font-size=\"14.00\">entropy = 0.0</text>\n<text text-anchor=\"middle\" x=\"967\" y=\"-847.3\" font-family=\"Times,serif\" font-size=\"14.00\">samples = 1</text>\n<text text-anchor=\"middle\" x=\"967\" y=\"-832.3\" font-family=\"Times,serif\" font-size=\"14.00\">value = [0, 1]</text>\n</g>\n<!-- 33&#45;&gt;39 -->\n<g id=\"edge39\" class=\"edge\"><title>33&#45;&gt;39</title>\n<path fill=\"none\" stroke=\"black\" d=\"M888.662,-920.884C902.045,-909.116 917.082,-895.894 930.377,-884.203\"/>\n<polygon fill=\"black\" stroke=\"black\" points=\"932.779,-886.752 937.977,-877.52 928.156,-881.495 932.779,-886.752\"/>\n</g>\n<!-- 35 -->\n<g id=\"node36\" class=\"node\"><title>35</title>\n<polygon fill=\"none\" stroke=\"black\" points=\"908.5,-781 793.5,-781 793.5,-713 908.5,-713 908.5,-781\"/>\n<text text-anchor=\"middle\" x=\"851\" y=\"-765.8\" font-family=\"Times,serif\" font-size=\"14.00\">AirYards &lt;= 26.0</text>\n<text text-anchor=\"middle\" x=\"851\" y=\"-750.8\" font-family=\"Times,serif\" font-size=\"14.00\">entropy = 0.918</text>\n<text text-anchor=\"middle\" x=\"851\" y=\"-735.8\" font-family=\"Times,serif\" font-size=\"14.00\">samples = 3</text>\n<text text-anchor=\"middle\" x=\"851\" y=\"-720.8\" font-family=\"Times,serif\" font-size=\"14.00\">value = [2, 1]</text>\n</g>\n<!-- 34&#45;&gt;35 -->\n<g id=\"edge35\" class=\"edge\"><title>34&#45;&gt;35</title>\n<path fill=\"none\" stroke=\"black\" d=\"M851,-816.884C851,-808.778 851,-799.982 851,-791.472\"/>\n<polygon fill=\"black\" stroke=\"black\" points=\"854.5,-791.299 851,-781.299 847.5,-791.299 854.5,-791.299\"/>\n</g>\n<!-- 38 -->\n<g id=\"node39\" class=\"node\"><title>38</title>\n<polygon fill=\"none\" stroke=\"black\" points=\"1019,-773.5 927,-773.5 927,-720.5 1019,-720.5 1019,-773.5\"/>\n<text text-anchor=\"middle\" x=\"973\" y=\"-758.3\" font-family=\"Times,serif\" font-size=\"14.00\">entropy = 0.0</text>\n<text text-anchor=\"middle\" x=\"973\" y=\"-743.3\" font-family=\"Times,serif\" font-size=\"14.00\">samples = 4</text>\n<text text-anchor=\"middle\" x=\"973\" y=\"-728.3\" font-family=\"Times,serif\" font-size=\"14.00\">value = [4, 0]</text>\n</g>\n<!-- 34&#45;&gt;38 -->\n<g id=\"edge38\" class=\"edge\"><title>34&#45;&gt;38</title>\n<path fill=\"none\" stroke=\"black\" d=\"M890.61,-816.884C904.685,-805.116 920.5,-791.894 934.482,-780.203\"/>\n<polygon fill=\"black\" stroke=\"black\" points=\"937.049,-782.619 942.476,-773.52 932.559,-777.249 937.049,-782.619\"/>\n</g>\n<!-- 36 -->\n<g id=\"node37\" class=\"node\"><title>36</title>\n<polygon fill=\"none\" stroke=\"black\" points=\"897,-669.5 805,-669.5 805,-616.5 897,-616.5 897,-669.5\"/>\n<text text-anchor=\"middle\" x=\"851\" y=\"-654.3\" font-family=\"Times,serif\" font-size=\"14.00\">entropy = 0.0</text>\n<text text-anchor=\"middle\" x=\"851\" y=\"-639.3\" font-family=\"Times,serif\" font-size=\"14.00\">samples = 1</text>\n<text text-anchor=\"middle\" x=\"851\" y=\"-624.3\" font-family=\"Times,serif\" font-size=\"14.00\">value = [0, 1]</text>\n</g>\n<!-- 35&#45;&gt;36 -->\n<g id=\"edge36\" class=\"edge\"><title>35&#45;&gt;36</title>\n<path fill=\"none\" stroke=\"black\" d=\"M851,-712.884C851,-702.326 851,-690.597 851,-679.854\"/>\n<polygon fill=\"black\" stroke=\"black\" points=\"854.5,-679.52 851,-669.52 847.5,-679.52 854.5,-679.52\"/>\n</g>\n<!-- 37 -->\n<g id=\"node38\" class=\"node\"><title>37</title>\n<polygon fill=\"none\" stroke=\"black\" points=\"1007,-669.5 915,-669.5 915,-616.5 1007,-616.5 1007,-669.5\"/>\n<text text-anchor=\"middle\" x=\"961\" y=\"-654.3\" font-family=\"Times,serif\" font-size=\"14.00\">entropy = 0.0</text>\n<text text-anchor=\"middle\" x=\"961\" y=\"-639.3\" font-family=\"Times,serif\" font-size=\"14.00\">samples = 2</text>\n<text text-anchor=\"middle\" x=\"961\" y=\"-624.3\" font-family=\"Times,serif\" font-size=\"14.00\">value = [2, 0]</text>\n</g>\n<!-- 35&#45;&gt;37 -->\n<g id=\"edge37\" class=\"edge\"><title>35&#45;&gt;37</title>\n<path fill=\"none\" stroke=\"black\" d=\"M886.714,-712.884C899.286,-701.226 913.397,-688.141 925.917,-676.532\"/>\n<polygon fill=\"black\" stroke=\"black\" points=\"928.526,-678.886 933.479,-669.52 923.766,-673.753 928.526,-678.886\"/>\n</g>\n</g>\n</svg>\n"
          },
          "metadata": {}
        }
      ]
    },
    {
      "metadata": {},
      "cell_type": "markdown",
      "source": "You can save the visualization of decision tree in a PDF file using graph.render command below. Replace '????' with the name of the file you want to use for the PDF file (without the .pdf extension).  After executing the code below with the file name, you should be able to find the file (with .pdf extension) in the same Project folder as this notebook."
    },
    {
      "metadata": {
        "trusted": true
      },
      "cell_type": "code",
      "source": "graph.render('BENPASS2')",
      "execution_count": 12,
      "outputs": [
        {
          "output_type": "execute_result",
          "execution_count": 12,
          "data": {
            "text/plain": "'BENPASS2.pdf'"
          },
          "metadata": {}
        }
      ]
    },
    {
      "metadata": {},
      "cell_type": "markdown",
      "source": "### Exercise 2 Evaluating Overfitting Risk of a Decision Tree Model (Model A) (5 points)\nOne way to understand the concept of \"overfitting\" for a decision tree (or other types of\nmachine learning model) is to see how the model's prediction performance of the training data \ncompare with the prediction performance of testing data.\n- (1) Uses the model (i.e., the decision tree learned) to predict pass completion for the training data. Generate the confusion matrix of the prediction results, and explain what it means (e.g., what are true positive, false positive, true negative, false negative). \n#### See the next text cell for instructions on interpreting confusion matrix\n- (2) Use the model (i.e., the decision tree learned) to predict pass completion for the testing data. Generate the confusion matrix of the prediction results, and explain what it means. \n- (3) What is your hypothesis that may explain the significant difference between the prediction performance for the training data and the testing data?"
    },
    {
      "metadata": {},
      "cell_type": "markdown",
      "source": "### Answer to Exercise 2:\n- (1) The prediction results for the training data generated 15 True-positives and 41 True-Negatives while generating 0 false positives or negatives.  \n- (2) The predition results showed 0 true-positives, 1 false-positive, 4 false-negatives and 9 true-negatives. \n- (3) My hypothesis would have to be the fact that the testing data contains variability and therefore won't have 100% accurate data compared to the training data. "
    },
    {
      "metadata": {
        "trusted": true
      },
      "cell_type": "code",
      "source": "prediction_training1=clf1.predict(X_train)",
      "execution_count": 13,
      "outputs": []
    },
    {
      "metadata": {
        "trusted": true
      },
      "cell_type": "code",
      "source": "print(metrics.classification_report(y_train, prediction_training1))",
      "execution_count": 14,
      "outputs": [
        {
          "output_type": "stream",
          "text": "             precision    recall  f1-score   support\n\n          0       1.00      1.00      1.00        15\n          1       1.00      1.00      1.00        41\n\navg / total       1.00      1.00      1.00        56\n\n",
          "name": "stdout"
        }
      ]
    },
    {
      "metadata": {
        "trusted": true
      },
      "cell_type": "code",
      "source": "metrics.confusion_matrix(y_train, prediction_training1)",
      "execution_count": 15,
      "outputs": [
        {
          "output_type": "execute_result",
          "execution_count": 15,
          "data": {
            "text/plain": "array([[15,  0],\n       [ 0, 41]])"
          },
          "metadata": {}
        }
      ]
    },
    {
      "metadata": {},
      "cell_type": "markdown",
      "source": "# Interpret Confusion Matrix\n\nOne of the effective and convenient ways to evaluate the prediction performance of a predictive model (whether the model is a decision tree or of other types) is to use confusion matrix.  Sklearn module\nin Python includes a submodule called \"metrics\", one of the functions provided by the submodule is\nconfusion_matrix, which takes two parameters:\n- the first parameter is the correct/desired output\n- the second parameter is the prediction output generated by a model.\n\nThe output of confusion_matrix is a 2x2 array (often referred to as \"confusion matrix\"), such as \nthe one you just generated above.\n- The first row of the matrix corresponds to DESIRED/ACTUAL negative class (e.g., actual incomplete passes)\n- The second row of the matrix corresponds to DESIRED/ACTUAL positive class (e.g., actual complete passes)\n- The first column of the matrix corresponds to PREDICTED negative class (e.g., predicted incomplete passes)\n- The second column of the matrix corresponds to PREDICTED positive class (e.g., predicted complete passes).\n\n- Each entry in the array represents the total number of data with the corresponding predicted class and actual class. We also give each of them a more meaningful name:\n- row 1, column 1: True Negative (correctly predicted negative class)\n- row 1, column 2: False Positive (incorrect positive predictions, actually they are negative class)\n- row 2, column 1: False Negative (incorrect negative predictions, actually they are positive class) \n- row 2, column 2: True Positive (correctly predicted positive class)"
    },
    {
      "metadata": {
        "trusted": true
      },
      "cell_type": "code",
      "source": "prediction_testing1 = clf1.predict(X_test)",
      "execution_count": 16,
      "outputs": []
    },
    {
      "metadata": {
        "trusted": true
      },
      "cell_type": "code",
      "source": "print(prediction_testing1)",
      "execution_count": 17,
      "outputs": [
        {
          "output_type": "stream",
          "text": "[1 0 1 1 1 1 1 1 1 1 1 1 1 1]\n",
          "name": "stdout"
        }
      ]
    },
    {
      "metadata": {
        "trusted": true
      },
      "cell_type": "code",
      "source": "print(y_test)",
      "execution_count": 18,
      "outputs": [
        {
          "output_type": "stream",
          "text": "[1 1 1 0 1 1 1 1 0 0 1 1 0 1]\n",
          "name": "stdout"
        }
      ]
    },
    {
      "metadata": {
        "trusted": true
      },
      "cell_type": "code",
      "source": "print(metrics.classification_report(y_test, prediction_testing1))",
      "execution_count": 19,
      "outputs": [
        {
          "output_type": "stream",
          "text": "             precision    recall  f1-score   support\n\n          0       0.00      0.00      0.00         4\n          1       0.69      0.90      0.78        10\n\navg / total       0.49      0.64      0.56        14\n\n",
          "name": "stdout"
        }
      ]
    },
    {
      "metadata": {
        "trusted": true
      },
      "cell_type": "code",
      "source": "metrics.confusion_matrix(y_test, prediction_testing1)",
      "execution_count": 20,
      "outputs": [
        {
          "output_type": "execute_result",
          "execution_count": 20,
          "data": {
            "text/plain": "array([[0, 4],\n       [1, 9]])"
          },
          "metadata": {}
        }
      ]
    },
    {
      "metadata": {
        "trusted": true
      },
      "cell_type": "markdown",
      "source": "# Compare two models regarding their overfitting risk\n\nIn order to have a fair comparison of two models regarding their overfitting risk, it is VERY important that we use the SAME set of training data and testing data.  Otherwise, one model may perform better than the other model because its testing data is \"easier\".  \n\nWe will construct a model with different parameters for a simpler decision tree, we will refer to this model as \"Model B\". We will then compare model B's performance and model complexity with model A's performance and model complexity regarding their overfitting risk.\n\n### Exercise 3 Train a simpler Decision Tree (3 points)\nChoose a max_depth between 5 and 6, set min_sample_leaf to 2."
    },
    {
      "metadata": {
        "trusted": true
      },
      "cell_type": "code",
      "source": "clf2 = DecisionTreeClassifier(criterion = 'entropy', random_state = 100,\n                               max_depth=5.5, min_samples_leaf=2)\nclf2.fit(X_train, y_train)",
      "execution_count": 21,
      "outputs": [
        {
          "output_type": "execute_result",
          "execution_count": 21,
          "data": {
            "text/plain": "DecisionTreeClassifier(class_weight=None, criterion='entropy', max_depth=5.5,\n            max_features=None, max_leaf_nodes=None,\n            min_impurity_decrease=0.0, min_impurity_split=None,\n            min_samples_leaf=2, min_samples_split=2,\n            min_weight_fraction_leaf=0.0, presort=False, random_state=100,\n            splitter='best')"
          },
          "metadata": {}
        }
      ]
    },
    {
      "metadata": {
        "trusted": true
      },
      "cell_type": "code",
      "source": "dot_data2= tree.export_graphviz(clf2, out_file=None, feature_names=('down','ydstogo','YardsGainedPrevPlay','AirYards','PassLocation'))",
      "execution_count": 22,
      "outputs": []
    },
    {
      "metadata": {
        "trusted": true
      },
      "cell_type": "code",
      "source": "graph = graphviz.Source(dot_data2)\ngraph",
      "execution_count": 23,
      "outputs": [
        {
          "output_type": "execute_result",
          "execution_count": 23,
          "data": {
            "text/plain": "<graphviz.files.Source at 0x7fa9d1316470>",
            "image/svg+xml": "<?xml version=\"1.0\" encoding=\"UTF-8\" standalone=\"no\"?>\n<!DOCTYPE svg PUBLIC \"-//W3C//DTD SVG 1.1//EN\"\n \"http://www.w3.org/Graphics/SVG/1.1/DTD/svg11.dtd\">\n<!-- Generated by graphviz version 2.38.0 (20140413.2041)\n -->\n<!-- Title: Tree Pages: 1 -->\n<svg width=\"841pt\" height=\"581pt\"\n viewBox=\"0.00 0.00 841.00 581.00\" xmlns=\"http://www.w3.org/2000/svg\" xmlns:xlink=\"http://www.w3.org/1999/xlink\">\n<g id=\"graph0\" class=\"graph\" transform=\"scale(1 1) rotate(0) translate(4 577)\">\n<title>Tree</title>\n<polygon fill=\"white\" stroke=\"none\" points=\"-4,4 -4,-577 837,-577 837,4 -4,4\"/>\n<!-- 0 -->\n<g id=\"node1\" class=\"node\"><title>0</title>\n<polygon fill=\"none\" stroke=\"black\" points=\"628.5,-573 513.5,-573 513.5,-505 628.5,-505 628.5,-573\"/>\n<text text-anchor=\"middle\" x=\"571\" y=\"-557.8\" font-family=\"Times,serif\" font-size=\"14.00\">AirYards &lt;= 20.5</text>\n<text text-anchor=\"middle\" x=\"571\" y=\"-542.8\" font-family=\"Times,serif\" font-size=\"14.00\">entropy = 0.838</text>\n<text text-anchor=\"middle\" x=\"571\" y=\"-527.8\" font-family=\"Times,serif\" font-size=\"14.00\">samples = 56</text>\n<text text-anchor=\"middle\" x=\"571\" y=\"-512.8\" font-family=\"Times,serif\" font-size=\"14.00\">value = [15, 41]</text>\n</g>\n<!-- 1 -->\n<g id=\"node2\" class=\"node\"><title>1</title>\n<polygon fill=\"none\" stroke=\"black\" points=\"514,-469 380,-469 380,-401 514,-401 514,-469\"/>\n<text text-anchor=\"middle\" x=\"447\" y=\"-453.8\" font-family=\"Times,serif\" font-size=\"14.00\">PassLocation &lt;= &#45;0.5</text>\n<text text-anchor=\"middle\" x=\"447\" y=\"-438.8\" font-family=\"Times,serif\" font-size=\"14.00\">entropy = 0.705</text>\n<text text-anchor=\"middle\" x=\"447\" y=\"-423.8\" font-family=\"Times,serif\" font-size=\"14.00\">samples = 47</text>\n<text text-anchor=\"middle\" x=\"447\" y=\"-408.8\" font-family=\"Times,serif\" font-size=\"14.00\">value = [9, 38]</text>\n</g>\n<!-- 0&#45;&gt;1 -->\n<g id=\"edge1\" class=\"edge\"><title>0&#45;&gt;1</title>\n<path fill=\"none\" stroke=\"black\" d=\"M530.741,-504.884C519.479,-495.62 507.122,-485.455 495.44,-475.845\"/>\n<polygon fill=\"black\" stroke=\"black\" points=\"497.428,-472.949 487.482,-469.299 492.981,-478.355 497.428,-472.949\"/>\n<text text-anchor=\"middle\" x=\"489.904\" y=\"-490.482\" font-family=\"Times,serif\" font-size=\"14.00\">True</text>\n</g>\n<!-- 18 -->\n<g id=\"node19\" class=\"node\"><title>18</title>\n<polygon fill=\"none\" stroke=\"black\" points=\"705,-469 601,-469 601,-401 705,-401 705,-469\"/>\n<text text-anchor=\"middle\" x=\"653\" y=\"-453.8\" font-family=\"Times,serif\" font-size=\"14.00\">down &lt;= 2.5</text>\n<text text-anchor=\"middle\" x=\"653\" y=\"-438.8\" font-family=\"Times,serif\" font-size=\"14.00\">entropy = 0.918</text>\n<text text-anchor=\"middle\" x=\"653\" y=\"-423.8\" font-family=\"Times,serif\" font-size=\"14.00\">samples = 9</text>\n<text text-anchor=\"middle\" x=\"653\" y=\"-408.8\" font-family=\"Times,serif\" font-size=\"14.00\">value = [6, 3]</text>\n</g>\n<!-- 0&#45;&gt;18 -->\n<g id=\"edge18\" class=\"edge\"><title>0&#45;&gt;18</title>\n<path fill=\"none\" stroke=\"black\" d=\"M597.623,-504.884C604.712,-496.065 612.458,-486.43 619.85,-477.235\"/>\n<polygon fill=\"black\" stroke=\"black\" points=\"622.692,-479.286 626.23,-469.299 617.236,-474.9 622.692,-479.286\"/>\n<text text-anchor=\"middle\" x=\"628.931\" y=\"-490.453\" font-family=\"Times,serif\" font-size=\"14.00\">False</text>\n</g>\n<!-- 2 -->\n<g id=\"node3\" class=\"node\"><title>2</title>\n<polygon fill=\"none\" stroke=\"black\" points=\"225.5,-365 110.5,-365 110.5,-297 225.5,-297 225.5,-365\"/>\n<text text-anchor=\"middle\" x=\"168\" y=\"-349.8\" font-family=\"Times,serif\" font-size=\"14.00\">AirYards &lt;= 11.5</text>\n<text text-anchor=\"middle\" x=\"168\" y=\"-334.8\" font-family=\"Times,serif\" font-size=\"14.00\">entropy = 0.286</text>\n<text text-anchor=\"middle\" x=\"168\" y=\"-319.8\" font-family=\"Times,serif\" font-size=\"14.00\">samples = 20</text>\n<text text-anchor=\"middle\" x=\"168\" y=\"-304.8\" font-family=\"Times,serif\" font-size=\"14.00\">value = [1, 19]</text>\n</g>\n<!-- 1&#45;&gt;2 -->\n<g id=\"edge2\" class=\"edge\"><title>1&#45;&gt;2</title>\n<path fill=\"none\" stroke=\"black\" d=\"M379.818,-409.439C335.953,-393.402 278.904,-372.546 235.064,-356.518\"/>\n<polygon fill=\"black\" stroke=\"black\" points=\"236.231,-353.218 225.637,-353.072 233.827,-359.793 236.231,-353.218\"/>\n</g>\n<!-- 7 -->\n<g id=\"node8\" class=\"node\"><title>7</title>\n<polygon fill=\"none\" stroke=\"black\" points=\"536,-365 358,-365 358,-297 536,-297 536,-365\"/>\n<text text-anchor=\"middle\" x=\"447\" y=\"-349.8\" font-family=\"Times,serif\" font-size=\"14.00\">YardsGainedPrevPlay &lt;= 0.5</text>\n<text text-anchor=\"middle\" x=\"447\" y=\"-334.8\" font-family=\"Times,serif\" font-size=\"14.00\">entropy = 0.877</text>\n<text text-anchor=\"middle\" x=\"447\" y=\"-319.8\" font-family=\"Times,serif\" font-size=\"14.00\">samples = 27</text>\n<text text-anchor=\"middle\" x=\"447\" y=\"-304.8\" font-family=\"Times,serif\" font-size=\"14.00\">value = [8, 19]</text>\n</g>\n<!-- 1&#45;&gt;7 -->\n<g id=\"edge7\" class=\"edge\"><title>1&#45;&gt;7</title>\n<path fill=\"none\" stroke=\"black\" d=\"M447,-400.884C447,-392.778 447,-383.982 447,-375.472\"/>\n<polygon fill=\"black\" stroke=\"black\" points=\"450.5,-375.299 447,-365.299 443.5,-375.299 450.5,-375.299\"/>\n</g>\n<!-- 3 -->\n<g id=\"node4\" class=\"node\"><title>3</title>\n<polygon fill=\"none\" stroke=\"black\" points=\"98,-253.5 7.10543e-15,-253.5 7.10543e-15,-200.5 98,-200.5 98,-253.5\"/>\n<text text-anchor=\"middle\" x=\"49\" y=\"-238.3\" font-family=\"Times,serif\" font-size=\"14.00\">entropy = 0.0</text>\n<text text-anchor=\"middle\" x=\"49\" y=\"-223.3\" font-family=\"Times,serif\" font-size=\"14.00\">samples = 16</text>\n<text text-anchor=\"middle\" x=\"49\" y=\"-208.3\" font-family=\"Times,serif\" font-size=\"14.00\">value = [0, 16]</text>\n</g>\n<!-- 2&#45;&gt;3 -->\n<g id=\"edge3\" class=\"edge\"><title>2&#45;&gt;3</title>\n<path fill=\"none\" stroke=\"black\" d=\"M129.364,-296.884C115.635,-285.116 100.209,-271.894 86.5706,-260.203\"/>\n<polygon fill=\"black\" stroke=\"black\" points=\"88.6436,-257.37 78.7733,-253.52 84.0881,-262.685 88.6436,-257.37\"/>\n</g>\n<!-- 4 -->\n<g id=\"node5\" class=\"node\"><title>4</title>\n<polygon fill=\"none\" stroke=\"black\" points=\"220,-261 116,-261 116,-193 220,-193 220,-261\"/>\n<text text-anchor=\"middle\" x=\"168\" y=\"-245.8\" font-family=\"Times,serif\" font-size=\"14.00\">ydstogo &lt;= 9.5</text>\n<text text-anchor=\"middle\" x=\"168\" y=\"-230.8\" font-family=\"Times,serif\" font-size=\"14.00\">entropy = 0.811</text>\n<text text-anchor=\"middle\" x=\"168\" y=\"-215.8\" font-family=\"Times,serif\" font-size=\"14.00\">samples = 4</text>\n<text text-anchor=\"middle\" x=\"168\" y=\"-200.8\" font-family=\"Times,serif\" font-size=\"14.00\">value = [1, 3]</text>\n</g>\n<!-- 2&#45;&gt;4 -->\n<g id=\"edge4\" class=\"edge\"><title>2&#45;&gt;4</title>\n<path fill=\"none\" stroke=\"black\" d=\"M168,-296.884C168,-288.778 168,-279.982 168,-271.472\"/>\n<polygon fill=\"black\" stroke=\"black\" points=\"171.5,-271.299 168,-261.299 164.5,-271.299 171.5,-271.299\"/>\n</g>\n<!-- 5 -->\n<g id=\"node6\" class=\"node\"><title>5</title>\n<polygon fill=\"none\" stroke=\"black\" points=\"104,-149.5 12,-149.5 12,-96.5 104,-96.5 104,-149.5\"/>\n<text text-anchor=\"middle\" x=\"58\" y=\"-134.3\" font-family=\"Times,serif\" font-size=\"14.00\">entropy = 1.0</text>\n<text text-anchor=\"middle\" x=\"58\" y=\"-119.3\" font-family=\"Times,serif\" font-size=\"14.00\">samples = 2</text>\n<text text-anchor=\"middle\" x=\"58\" y=\"-104.3\" font-family=\"Times,serif\" font-size=\"14.00\">value = [1, 1]</text>\n</g>\n<!-- 4&#45;&gt;5 -->\n<g id=\"edge5\" class=\"edge\"><title>4&#45;&gt;5</title>\n<path fill=\"none\" stroke=\"black\" d=\"M132.286,-192.884C119.714,-181.226 105.603,-168.141 93.083,-156.532\"/>\n<polygon fill=\"black\" stroke=\"black\" points=\"95.234,-153.753 85.5215,-149.52 90.4744,-158.886 95.234,-153.753\"/>\n</g>\n<!-- 6 -->\n<g id=\"node7\" class=\"node\"><title>6</title>\n<polygon fill=\"none\" stroke=\"black\" points=\"214,-149.5 122,-149.5 122,-96.5 214,-96.5 214,-149.5\"/>\n<text text-anchor=\"middle\" x=\"168\" y=\"-134.3\" font-family=\"Times,serif\" font-size=\"14.00\">entropy = 0.0</text>\n<text text-anchor=\"middle\" x=\"168\" y=\"-119.3\" font-family=\"Times,serif\" font-size=\"14.00\">samples = 2</text>\n<text text-anchor=\"middle\" x=\"168\" y=\"-104.3\" font-family=\"Times,serif\" font-size=\"14.00\">value = [0, 2]</text>\n</g>\n<!-- 4&#45;&gt;6 -->\n<g id=\"edge6\" class=\"edge\"><title>4&#45;&gt;6</title>\n<path fill=\"none\" stroke=\"black\" d=\"M168,-192.884C168,-182.326 168,-170.597 168,-159.854\"/>\n<polygon fill=\"black\" stroke=\"black\" points=\"171.5,-159.52 168,-149.52 164.5,-159.52 171.5,-159.52\"/>\n</g>\n<!-- 8 -->\n<g id=\"node9\" class=\"node\"><title>8</title>\n<polygon fill=\"none\" stroke=\"black\" points=\"457,-261 353,-261 353,-193 457,-193 457,-261\"/>\n<text text-anchor=\"middle\" x=\"405\" y=\"-245.8\" font-family=\"Times,serif\" font-size=\"14.00\">ydstogo &lt;= 6.0</text>\n<text text-anchor=\"middle\" x=\"405\" y=\"-230.8\" font-family=\"Times,serif\" font-size=\"14.00\">entropy = 0.997</text>\n<text text-anchor=\"middle\" x=\"405\" y=\"-215.8\" font-family=\"Times,serif\" font-size=\"14.00\">samples = 15</text>\n<text text-anchor=\"middle\" x=\"405\" y=\"-200.8\" font-family=\"Times,serif\" font-size=\"14.00\">value = [7, 8]</text>\n</g>\n<!-- 7&#45;&gt;8 -->\n<g id=\"edge8\" class=\"edge\"><title>7&#45;&gt;8</title>\n<path fill=\"none\" stroke=\"black\" d=\"M433.364,-296.884C429.916,-288.511 426.165,-279.401 422.554,-270.631\"/>\n<polygon fill=\"black\" stroke=\"black\" points=\"425.755,-269.214 418.712,-261.299 419.283,-271.879 425.755,-269.214\"/>\n</g>\n<!-- 15 -->\n<g id=\"node16\" class=\"node\"><title>15</title>\n<polygon fill=\"none\" stroke=\"black\" points=\"583,-261 475,-261 475,-193 583,-193 583,-261\"/>\n<text text-anchor=\"middle\" x=\"529\" y=\"-245.8\" font-family=\"Times,serif\" font-size=\"14.00\">AirYards &lt;= 7.5</text>\n<text text-anchor=\"middle\" x=\"529\" y=\"-230.8\" font-family=\"Times,serif\" font-size=\"14.00\">entropy = 0.414</text>\n<text text-anchor=\"middle\" x=\"529\" y=\"-215.8\" font-family=\"Times,serif\" font-size=\"14.00\">samples = 12</text>\n<text text-anchor=\"middle\" x=\"529\" y=\"-200.8\" font-family=\"Times,serif\" font-size=\"14.00\">value = [1, 11]</text>\n</g>\n<!-- 7&#45;&gt;15 -->\n<g id=\"edge15\" class=\"edge\"><title>7&#45;&gt;15</title>\n<path fill=\"none\" stroke=\"black\" d=\"M473.623,-296.884C480.712,-288.065 488.458,-278.43 495.85,-269.235\"/>\n<polygon fill=\"black\" stroke=\"black\" points=\"498.692,-271.286 502.23,-261.299 493.236,-266.9 498.692,-271.286\"/>\n</g>\n<!-- 9 -->\n<g id=\"node10\" class=\"node\"><title>9</title>\n<polygon fill=\"none\" stroke=\"black\" points=\"336,-157 232,-157 232,-89 336,-89 336,-157\"/>\n<text text-anchor=\"middle\" x=\"284\" y=\"-141.8\" font-family=\"Times,serif\" font-size=\"14.00\">ydstogo &lt;= 2.0</text>\n<text text-anchor=\"middle\" x=\"284\" y=\"-126.8\" font-family=\"Times,serif\" font-size=\"14.00\">entropy = 0.722</text>\n<text text-anchor=\"middle\" x=\"284\" y=\"-111.8\" font-family=\"Times,serif\" font-size=\"14.00\">samples = 5</text>\n<text text-anchor=\"middle\" x=\"284\" y=\"-96.8\" font-family=\"Times,serif\" font-size=\"14.00\">value = [4, 1]</text>\n</g>\n<!-- 8&#45;&gt;9 -->\n<g id=\"edge9\" class=\"edge\"><title>8&#45;&gt;9</title>\n<path fill=\"none\" stroke=\"black\" d=\"M365.715,-192.884C354.726,-183.62 342.667,-173.455 331.268,-163.845\"/>\n<polygon fill=\"black\" stroke=\"black\" points=\"333.404,-161.069 323.502,-157.299 328.892,-166.421 333.404,-161.069\"/>\n</g>\n<!-- 12 -->\n<g id=\"node13\" class=\"node\"><title>12</title>\n<polygon fill=\"none\" stroke=\"black\" points=\"462,-157 354,-157 354,-89 462,-89 462,-157\"/>\n<text text-anchor=\"middle\" x=\"408\" y=\"-141.8\" font-family=\"Times,serif\" font-size=\"14.00\">AirYards &lt;= 4.5</text>\n<text text-anchor=\"middle\" x=\"408\" y=\"-126.8\" font-family=\"Times,serif\" font-size=\"14.00\">entropy = 0.881</text>\n<text text-anchor=\"middle\" x=\"408\" y=\"-111.8\" font-family=\"Times,serif\" font-size=\"14.00\">samples = 10</text>\n<text text-anchor=\"middle\" x=\"408\" y=\"-96.8\" font-family=\"Times,serif\" font-size=\"14.00\">value = [3, 7]</text>\n</g>\n<!-- 8&#45;&gt;12 -->\n<g id=\"edge12\" class=\"edge\"><title>8&#45;&gt;12</title>\n<path fill=\"none\" stroke=\"black\" d=\"M405.974,-192.884C406.212,-184.778 406.471,-175.982 406.721,-167.472\"/>\n<polygon fill=\"black\" stroke=\"black\" points=\"410.225,-167.398 407.021,-157.299 403.228,-167.192 410.225,-167.398\"/>\n</g>\n<!-- 10 -->\n<g id=\"node11\" class=\"node\"><title>10</title>\n<polygon fill=\"none\" stroke=\"black\" points=\"216,-53 124,-53 124,-0 216,-0 216,-53\"/>\n<text text-anchor=\"middle\" x=\"170\" y=\"-37.8\" font-family=\"Times,serif\" font-size=\"14.00\">entropy = 0.0</text>\n<text text-anchor=\"middle\" x=\"170\" y=\"-22.8\" font-family=\"Times,serif\" font-size=\"14.00\">samples = 2</text>\n<text text-anchor=\"middle\" x=\"170\" y=\"-7.8\" font-family=\"Times,serif\" font-size=\"14.00\">value = [2, 0]</text>\n</g>\n<!-- 9&#45;&gt;10 -->\n<g id=\"edge10\" class=\"edge\"><title>9&#45;&gt;10</title>\n<path fill=\"none\" stroke=\"black\" d=\"M244.128,-88.9485C232.762,-79.526 220.393,-69.2731 209.074,-59.8906\"/>\n<polygon fill=\"black\" stroke=\"black\" points=\"210.98,-56.924 201.047,-53.2367 206.513,-62.3132 210.98,-56.924\"/>\n</g>\n<!-- 11 -->\n<g id=\"node12\" class=\"node\"><title>11</title>\n<polygon fill=\"none\" stroke=\"black\" points=\"338,-53 234,-53 234,-0 338,-0 338,-53\"/>\n<text text-anchor=\"middle\" x=\"286\" y=\"-37.8\" font-family=\"Times,serif\" font-size=\"14.00\">entropy = 0.918</text>\n<text text-anchor=\"middle\" x=\"286\" y=\"-22.8\" font-family=\"Times,serif\" font-size=\"14.00\">samples = 3</text>\n<text text-anchor=\"middle\" x=\"286\" y=\"-7.8\" font-family=\"Times,serif\" font-size=\"14.00\">value = [2, 1]</text>\n</g>\n<!-- 9&#45;&gt;11 -->\n<g id=\"edge11\" class=\"edge\"><title>9&#45;&gt;11</title>\n<path fill=\"none\" stroke=\"black\" d=\"M284.7,-88.9485C284.874,-80.7153 285.061,-71.848 285.238,-63.4814\"/>\n<polygon fill=\"black\" stroke=\"black\" points=\"288.743,-63.3086 285.455,-53.2367 281.744,-63.1604 288.743,-63.3086\"/>\n</g>\n<!-- 13 -->\n<g id=\"node14\" class=\"node\"><title>13</title>\n<polygon fill=\"none\" stroke=\"black\" points=\"452,-53 360,-53 360,-0 452,-0 452,-53\"/>\n<text text-anchor=\"middle\" x=\"406\" y=\"-37.8\" font-family=\"Times,serif\" font-size=\"14.00\">entropy = 0.0</text>\n<text text-anchor=\"middle\" x=\"406\" y=\"-22.8\" font-family=\"Times,serif\" font-size=\"14.00\">samples = 2</text>\n<text text-anchor=\"middle\" x=\"406\" y=\"-7.8\" font-family=\"Times,serif\" font-size=\"14.00\">value = [0, 2]</text>\n</g>\n<!-- 12&#45;&gt;13 -->\n<g id=\"edge13\" class=\"edge\"><title>12&#45;&gt;13</title>\n<path fill=\"none\" stroke=\"black\" d=\"M407.3,-88.9485C407.126,-80.7153 406.939,-71.848 406.762,-63.4814\"/>\n<polygon fill=\"black\" stroke=\"black\" points=\"410.256,-63.1604 406.545,-53.2367 403.257,-63.3086 410.256,-63.1604\"/>\n</g>\n<!-- 14 -->\n<g id=\"node15\" class=\"node\"><title>14</title>\n<polygon fill=\"none\" stroke=\"black\" points=\"574,-53 470,-53 470,-0 574,-0 574,-53\"/>\n<text text-anchor=\"middle\" x=\"522\" y=\"-37.8\" font-family=\"Times,serif\" font-size=\"14.00\">entropy = 0.954</text>\n<text text-anchor=\"middle\" x=\"522\" y=\"-22.8\" font-family=\"Times,serif\" font-size=\"14.00\">samples = 8</text>\n<text text-anchor=\"middle\" x=\"522\" y=\"-7.8\" font-family=\"Times,serif\" font-size=\"14.00\">value = [3, 5]</text>\n</g>\n<!-- 12&#45;&gt;14 -->\n<g id=\"edge14\" class=\"edge\"><title>12&#45;&gt;14</title>\n<path fill=\"none\" stroke=\"black\" d=\"M447.872,-88.9485C459.238,-79.526 471.607,-69.2731 482.926,-59.8906\"/>\n<polygon fill=\"black\" stroke=\"black\" points=\"485.487,-62.3132 490.953,-53.2367 481.02,-56.924 485.487,-62.3132\"/>\n</g>\n<!-- 16 -->\n<g id=\"node17\" class=\"node\"><title>16</title>\n<polygon fill=\"none\" stroke=\"black\" points=\"578,-149.5 480,-149.5 480,-96.5 578,-96.5 578,-149.5\"/>\n<text text-anchor=\"middle\" x=\"529\" y=\"-134.3\" font-family=\"Times,serif\" font-size=\"14.00\">entropy = 0.0</text>\n<text text-anchor=\"middle\" x=\"529\" y=\"-119.3\" font-family=\"Times,serif\" font-size=\"14.00\">samples = 10</text>\n<text text-anchor=\"middle\" x=\"529\" y=\"-104.3\" font-family=\"Times,serif\" font-size=\"14.00\">value = [0, 10]</text>\n</g>\n<!-- 15&#45;&gt;16 -->\n<g id=\"edge16\" class=\"edge\"><title>15&#45;&gt;16</title>\n<path fill=\"none\" stroke=\"black\" d=\"M529,-192.884C529,-182.326 529,-170.597 529,-159.854\"/>\n<polygon fill=\"black\" stroke=\"black\" points=\"532.5,-159.52 529,-149.52 525.5,-159.52 532.5,-159.52\"/>\n</g>\n<!-- 17 -->\n<g id=\"node18\" class=\"node\"><title>17</title>\n<polygon fill=\"none\" stroke=\"black\" points=\"688,-149.5 596,-149.5 596,-96.5 688,-96.5 688,-149.5\"/>\n<text text-anchor=\"middle\" x=\"642\" y=\"-134.3\" font-family=\"Times,serif\" font-size=\"14.00\">entropy = 1.0</text>\n<text text-anchor=\"middle\" x=\"642\" y=\"-119.3\" font-family=\"Times,serif\" font-size=\"14.00\">samples = 2</text>\n<text text-anchor=\"middle\" x=\"642\" y=\"-104.3\" font-family=\"Times,serif\" font-size=\"14.00\">value = [1, 1]</text>\n</g>\n<!-- 15&#45;&gt;17 -->\n<g id=\"edge17\" class=\"edge\"><title>15&#45;&gt;17</title>\n<path fill=\"none\" stroke=\"black\" d=\"M565.688,-192.884C578.603,-181.226 593.099,-168.141 605.96,-156.532\"/>\n<polygon fill=\"black\" stroke=\"black\" points=\"608.65,-158.819 613.728,-149.52 603.96,-153.622 608.65,-158.819\"/>\n</g>\n<!-- 19 -->\n<g id=\"node20\" class=\"node\"><title>19</title>\n<polygon fill=\"none\" stroke=\"black\" points=\"710.5,-365 595.5,-365 595.5,-297 710.5,-297 710.5,-365\"/>\n<text text-anchor=\"middle\" x=\"653\" y=\"-349.8\" font-family=\"Times,serif\" font-size=\"14.00\">AirYards &lt;= 25.5</text>\n<text text-anchor=\"middle\" x=\"653\" y=\"-334.8\" font-family=\"Times,serif\" font-size=\"14.00\">entropy = 0.65</text>\n<text text-anchor=\"middle\" x=\"653\" y=\"-319.8\" font-family=\"Times,serif\" font-size=\"14.00\">samples = 6</text>\n<text text-anchor=\"middle\" x=\"653\" y=\"-304.8\" font-family=\"Times,serif\" font-size=\"14.00\">value = [5, 1]</text>\n</g>\n<!-- 18&#45;&gt;19 -->\n<g id=\"edge19\" class=\"edge\"><title>18&#45;&gt;19</title>\n<path fill=\"none\" stroke=\"black\" d=\"M653,-400.884C653,-392.778 653,-383.982 653,-375.472\"/>\n<polygon fill=\"black\" stroke=\"black\" points=\"656.5,-375.299 653,-365.299 649.5,-375.299 656.5,-375.299\"/>\n</g>\n<!-- 22 -->\n<g id=\"node23\" class=\"node\"><title>22</title>\n<polygon fill=\"none\" stroke=\"black\" points=\"833,-357.5 729,-357.5 729,-304.5 833,-304.5 833,-357.5\"/>\n<text text-anchor=\"middle\" x=\"781\" y=\"-342.3\" font-family=\"Times,serif\" font-size=\"14.00\">entropy = 0.918</text>\n<text text-anchor=\"middle\" x=\"781\" y=\"-327.3\" font-family=\"Times,serif\" font-size=\"14.00\">samples = 3</text>\n<text text-anchor=\"middle\" x=\"781\" y=\"-312.3\" font-family=\"Times,serif\" font-size=\"14.00\">value = [1, 2]</text>\n</g>\n<!-- 18&#45;&gt;22 -->\n<g id=\"edge22\" class=\"edge\"><title>18&#45;&gt;22</title>\n<path fill=\"none\" stroke=\"black\" d=\"M694.558,-400.884C709.463,-389.006 726.228,-375.646 740.999,-363.876\"/>\n<polygon fill=\"black\" stroke=\"black\" points=\"743.336,-366.489 748.975,-357.52 738.973,-361.015 743.336,-366.489\"/>\n</g>\n<!-- 20 -->\n<g id=\"node21\" class=\"node\"><title>20</title>\n<polygon fill=\"none\" stroke=\"black\" points=\"705,-253.5 601,-253.5 601,-200.5 705,-200.5 705,-253.5\"/>\n<text text-anchor=\"middle\" x=\"653\" y=\"-238.3\" font-family=\"Times,serif\" font-size=\"14.00\">entropy = 0.918</text>\n<text text-anchor=\"middle\" x=\"653\" y=\"-223.3\" font-family=\"Times,serif\" font-size=\"14.00\">samples = 3</text>\n<text text-anchor=\"middle\" x=\"653\" y=\"-208.3\" font-family=\"Times,serif\" font-size=\"14.00\">value = [2, 1]</text>\n</g>\n<!-- 19&#45;&gt;20 -->\n<g id=\"edge20\" class=\"edge\"><title>19&#45;&gt;20</title>\n<path fill=\"none\" stroke=\"black\" d=\"M653,-296.884C653,-286.326 653,-274.597 653,-263.854\"/>\n<polygon fill=\"black\" stroke=\"black\" points=\"656.5,-263.52 653,-253.52 649.5,-263.52 656.5,-263.52\"/>\n</g>\n<!-- 21 -->\n<g id=\"node22\" class=\"node\"><title>21</title>\n<polygon fill=\"none\" stroke=\"black\" points=\"815,-253.5 723,-253.5 723,-200.5 815,-200.5 815,-253.5\"/>\n<text text-anchor=\"middle\" x=\"769\" y=\"-238.3\" font-family=\"Times,serif\" font-size=\"14.00\">entropy = 0.0</text>\n<text text-anchor=\"middle\" x=\"769\" y=\"-223.3\" font-family=\"Times,serif\" font-size=\"14.00\">samples = 3</text>\n<text text-anchor=\"middle\" x=\"769\" y=\"-208.3\" font-family=\"Times,serif\" font-size=\"14.00\">value = [3, 0]</text>\n</g>\n<!-- 19&#45;&gt;21 -->\n<g id=\"edge21\" class=\"edge\"><title>19&#45;&gt;21</title>\n<path fill=\"none\" stroke=\"black\" d=\"M690.662,-296.884C704.045,-285.116 719.082,-271.894 732.377,-260.203\"/>\n<polygon fill=\"black\" stroke=\"black\" points=\"734.779,-262.752 739.977,-253.52 730.156,-257.495 734.779,-262.752\"/>\n</g>\n</g>\n</svg>\n"
          },
          "metadata": {}
        }
      ]
    },
    {
      "metadata": {
        "trusted": true
      },
      "cell_type": "code",
      "source": "graph.render('BENPASS3')",
      "execution_count": 24,
      "outputs": [
        {
          "output_type": "execute_result",
          "execution_count": 24,
          "data": {
            "text/plain": "'BENPASS3.pdf'"
          },
          "metadata": {}
        }
      ]
    },
    {
      "metadata": {
        "trusted": true
      },
      "cell_type": "code",
      "source": "prediction_training2=clf2.predict(X_train)",
      "execution_count": 25,
      "outputs": []
    },
    {
      "metadata": {
        "trusted": true
      },
      "cell_type": "code",
      "source": "print(prediction_training2)",
      "execution_count": 26,
      "outputs": [
        {
          "output_type": "stream",
          "text": "[1 1 1 1 1 0 1 1 1 0 1 1 1 1 1 0 0 1 1 1 0 0 1 1 0 0 1 1 1 0 1 1 1 1 1 1 1\n 0 1 1 1 1 0 0 1 1 1 1 0 1 0 1 1 0 1 1]\n",
          "name": "stdout"
        }
      ]
    },
    {
      "metadata": {
        "trusted": true
      },
      "cell_type": "code",
      "source": "print(y_train)",
      "execution_count": 27,
      "outputs": [
        {
          "output_type": "stream",
          "text": "[1 1 1 0 1 0 0 0 1 0 1 1 1 1 1 0 0 1 1 0 1 0 1 1 0 0 1 1 1 1 1 1 1 1 1 1 1\n 1 1 1 1 1 0 0 1 1 1 1 0 1 0 1 1 1 1 1]\n",
          "name": "stdout"
        }
      ]
    },
    {
      "metadata": {
        "trusted": true
      },
      "cell_type": "code",
      "source": "print(metrics.classification_report(y_train, prediction_training2))",
      "execution_count": 28,
      "outputs": [
        {
          "output_type": "stream",
          "text": "             precision    recall  f1-score   support\n\n          0       0.73      0.73      0.73        15\n          1       0.90      0.90      0.90        41\n\navg / total       0.86      0.86      0.86        56\n\n",
          "name": "stdout"
        }
      ]
    },
    {
      "metadata": {
        "trusted": true
      },
      "cell_type": "code",
      "source": "metrics.confusion_matrix(y_train, prediction_training2)",
      "execution_count": 31,
      "outputs": [
        {
          "output_type": "execute_result",
          "execution_count": 31,
          "data": {
            "text/plain": "array([[11,  4],\n       [ 4, 37]])"
          },
          "metadata": {}
        }
      ]
    },
    {
      "metadata": {
        "trusted": true
      },
      "cell_type": "code",
      "source": "prediction_testing2 = clf2.predict(X_test)",
      "execution_count": 32,
      "outputs": []
    },
    {
      "metadata": {
        "trusted": true
      },
      "cell_type": "code",
      "source": "print(prediction_testing2)",
      "execution_count": 33,
      "outputs": [
        {
          "output_type": "stream",
          "text": "[1 1 1 0 0 0 1 1 1 1 1 1 0 1]\n",
          "name": "stdout"
        }
      ]
    },
    {
      "metadata": {
        "trusted": true
      },
      "cell_type": "code",
      "source": "print(y_test)",
      "execution_count": 34,
      "outputs": [
        {
          "output_type": "stream",
          "text": "[1 1 1 0 1 1 1 1 0 0 1 1 0 1]\n",
          "name": "stdout"
        }
      ]
    },
    {
      "metadata": {
        "trusted": true
      },
      "cell_type": "code",
      "source": "print(metrics.classification_report(y_test, prediction_testing2))",
      "execution_count": 39,
      "outputs": [
        {
          "output_type": "stream",
          "text": "             precision    recall  f1-score   support\n\n          0       0.50      0.50      0.50         4\n          1       0.80      0.80      0.80        10\n\navg / total       0.71      0.71      0.71        14\n\n",
          "name": "stdout"
        }
      ]
    },
    {
      "metadata": {
        "trusted": true
      },
      "cell_type": "code",
      "source": "metrics.confusion_matrix(y_test, prediction_testing2)",
      "execution_count": 41,
      "outputs": [
        {
          "output_type": "execute_result",
          "execution_count": 41,
          "data": {
            "text/plain": "array([[2, 2],\n       [2, 8]])"
          },
          "metadata": {}
        }
      ]
    },
    {
      "metadata": {},
      "cell_type": "markdown",
      "source": "### Exercise 4 Compare Two Models Regarding Overfitting Risk and Prediction Performance (9 points)\n\nBased on the prediction performance of the second model (Model B), compare it with the prediction performance of the first model (Model A) by answering the following questions:\n- (1) How does the prediction performance of Model B compared to Model A for TRAINING DATA?\n- (2) How does the prediction performance of Model B compared to Model A for TESTING DATA?\n- (3) Which model will you choose?\n- (4) What do you think cause model A to predict worse than model B for testint data?\n- (5) What lessons did you learn regarding ways to reduce the risk of overfitting?"
    },
    {
      "metadata": {},
      "cell_type": "markdown",
      "source": "### Answer to Exercise 4\n- (1) For the training data, the prediction performance of Model B compared to Model A was a lot worse, as Model B had only a 86% performance rate compared to A's 100%.\n- (2) For the training data, the prediction performance of Model B compared to Model A was a lot better, as Model B had a 71% performance rate compared to A's 56%.\n- (3) Model B\n- (4) Model A had a larger max_depth and a smaller minimum samples leaf, which means that the training data was incredibly accurate while the testing data was not. \n- (5) Finding a equilibrium between max_depth and min_samples_leaf allows for maximum accuracy and prevents overfitting. "
    },
    {
      "metadata": {
        "trusted": true
      },
      "cell_type": "code",
      "source": "",
      "execution_count": null,
      "outputs": []
    }
  ],
  "metadata": {
    "kernelspec": {
      "name": "python3",
      "display_name": "Python 3",
      "language": "python"
    },
    "language_info": {
      "mimetype": "text/x-python",
      "nbconvert_exporter": "python",
      "name": "python",
      "pygments_lexer": "ipython3",
      "version": "3.5.4",
      "file_extension": ".py",
      "codemirror_mode": {
        "version": 3,
        "name": "ipython"
      }
    }
  },
  "nbformat": 4,
  "nbformat_minor": 2
}