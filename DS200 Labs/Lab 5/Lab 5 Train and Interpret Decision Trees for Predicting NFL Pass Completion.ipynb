{
  "cells": [
    {
      "metadata": {},
      "cell_type": "markdown",
      "source": "# PSU DS 200 \n# Lab 5 Train and Interpret Decision Trees Model: NFL Pass Completion Prediction\n## Learning Objectives \n\nIn this lab, you will learn to be able to do the following:\n- Learn a decision tree model for binary classification/prediction using a set of training data.\n    * The binary classification problem of this lab is predicting whether a pass by a quaterback in an NFL game completes or not.\n    * The source of the data is Kaggle, which provides a broad variety of real-world data for various competitions.\n-  You will learn to split a set of labelled data (labelled with desired prediction output, i.e., pass complete or incomplete) into two groups: (1) those data to be used to \"train\" the model, and (2) those data to be used to test how well the model can predict.\n- Evaluate how good is the model (for prediction) \n    * Predictive Models need to be evaluated using data NOT used for constructing (training) the model.\n- Interpret the model to understand the \"logic\" learned from data"
    },
    {
      "metadata": {
        "trusted": true
      },
      "cell_type": "code",
      "source": "import numpy as np\nimport pandas as pd\nimport graphviz",
      "execution_count": 1,
      "outputs": []
    },
    {
      "metadata": {
        "trusted": true
      },
      "cell_type": "code",
      "source": "from sklearn.model_selection import train_test_split\nfrom sklearn.pipeline import Pipeline\nfrom sklearn import tree\nfrom sklearn.tree import DecisionTreeClassifier\nfrom sklearn import metrics\n\nimport os\nos.environ[\"PATH\"] += os.pathsep + 'C:/Program Files (x86)/Graphviz2.38/bin/'",
      "execution_count": 2,
      "outputs": []
    },
    {
      "metadata": {},
      "cell_type": "markdown",
      "source": "## Reading Data for Constructing a Predictive Model\n### Format of the Data\nData for constructing a predictive model is often stored in a \"Comma-Separated Values\" format, also commonly referred to as \"CSV\" format.  A file that stores data in CSV format uses \".csv\" as its file extension.  \n\n### Read_CSV in Panda\nThe easiest way to read a CSV file for the purpose of constructing a predictive model is to use read_csv function in Panda. The function reads data from a CSV file, and generates a table-style internal representation (called DataFrame).\n<ul>\n    <li> The first parameter of the function is the name of the csv file to be read. </li>\n\n    <li> The \"sep=\" parameter in read_csv specifieds the separator of different fields.  Because the CSV file used for this lab uses comma (i.e., \",\") as separator, the read_csv function has \"sep=\",\" as the second pamater. </li>\n    \n</ul>"
    },
    {
      "metadata": {
        "trusted": true
      },
      "cell_type": "code",
      "source": "Ben_pass= pd.read_csv('Ben-NE-9-10-2015-pass-6.csv', sep=\",\")",
      "execution_count": 3,
      "outputs": []
    },
    {
      "metadata": {},
      "cell_type": "markdown",
      "source": "### Display the Data \nThe first row of the CSV file contains the names of attributes/features for each passing play of a specific NFL game (between Pittsburgh Steelers and New England Patriots held on September 10th, 2015).  Because pass prediction model for each quaterback can be different, so this dataset is prepared for the purpose of predicting the outcome of passing play by Steeler quaterback Ben Rothlisberger. The last column of the CSV file contains the outcome of each passing play.\n\nIn general, the data for building a predictive model involves two types: \n<ol>\n    <li> The input data to the model (which we also call FEATURES), and </li>\n    <li> The DESIRED prediction output data of the model (for each corresponding input) </li>\n    </ol>\nTogether, these data are used to \"train\" the model, as we shall see later, so that the model's output,\ngiven each input, is AS CLOSE AS POSSIBLE (we will elaborate this point later) to the DESIRED output.\n\nFor example, the data for training to predict pass completion includes input data for the prediction (e.g., distance of pass, number of down, yards to go, etc), and the DESIRED output of the prediction (i.e., whether a pass plays completes or not). \n\nThe meaning of all the input attributes/features for this lab are listed below:\n<ul>\n    <li>down: The number of down for the play</li>\n    <li>ydstogo: The remaining yards needed to gain for a first down</li>\n    <li>Yards.Gained.PrevPlay: The number of yards gained in the previous play (which can be a run play or passing play}</li>\n    <li>AirYards: The distance between the starting position of the play and the receiving position of the passing play. A negative number means the quarterback moves back in the play such that the net yardage gain, if the pass completes, is negative. </li>\n    <li>PassLocation: The area of passing location: -1 means left field, 0 means center field, 1 means right field. </li>\n</ul>\n\nThe value of the desired prediction output (i.e., PassOutcome in the last column) in the dataset indicates whether the outcome of each passing play, represented by each row, is completes (i.e., having the value \"1\") or incomplete (i.e., having the value \"0\").  "
    },
    {
      "metadata": {
        "trusted": true
      },
      "cell_type": "code",
      "source": "print(Ben_pass)",
      "execution_count": 4,
      "outputs": [
        {
          "output_type": "stream",
          "text": "    down  ydstogo  Yards.Gained.PrevPlay  AirYards  PassLocation  PassOutcome\n0      1       10                     18        -4             1            1\n1      1       10                      0         9             1            1\n2      3       22                      6         1             1            1\n3      1       10                      0         7            -1            1\n4      1       10                     13         6            -1            1\n5      1       10                     12         7            -1            1\n6      1       10                      0         5             1            0\n7      2       10                      0        25             1            0\n8      3        5                     -1         6            -1            1\n9      1       15                      4        -1             1            1\n10     3       18                     -6        17            -1            1\n11     1       20                      5         5            -1            1\n12     2       11                      9         4            -1            1\n13     2       13                     -3        -2            -1            1\n14     3        6                      7         6             0            1\n15     2        7                      0        11             1            1\n16     1       10                     13        16             1            1\n17     1       10                     19         6             1            1\n18     2        8                      2         0            -1            0\n19     3        8                      0        39            -1            1\n20     3        3                      1        19             1            0\n21     1       10                      0        11             0            1\n22     2       10                      0        17            -1            1\n23     1       10                     18         7             0            1\n24     1        9                      2         4            -1            1\n25     2        6                      3         6             0            1\n26     1       10                      0         5             1            1\n27     2       15                      9         4            -1            1\n28     3        6                      9        26             1            1\n29     2        8                      2         0            -1            1\n..   ...      ...                    ...       ...           ...          ...\n40     2       15                     -5         7             0            1\n41     3        6                     -1         2            -1            1\n42     1       10                      0        25             1            1\n43     2        5                      5         2             1            1\n44     2        8                      0         1             1            1\n45     1        1                      0         1             0            0\n46     1       10                      0        18             1            1\n47     1       10                      0        27             0            0\n48     3        5                      5         4             0            1\n49     2        1                      0         1             1            0\n50     3        1                      0         1            -1            1\n51     2        3                      7         9             0            0\n52     3        3                      0         9             1            0\n53     2       12                     -2        23             1            0\n54     3       12                      0         6             0            0\n55     1       10                      0        18             1            1\n56     1       10                     18        39            -1            0\n57     2        9                      1         7            -1            1\n58     3        4                      3        -3             1            0\n59     1       10                      0        11             1            0\n60     2       10                      0         4            -1            1\n61     3        1                      9         6             0            1\n62     1       10                      0        29             0            0\n63     2       10                      0         1            -1            1\n64     3        8                      2        13             0            1\n65     2       27                     -7        14             0            1\n66     3        9                      0        12            -1            0\n67     4        9                      0        15            -1            1\n68     1       10                      0        11            -1            1\n69     1       10                     11        11            -1            1\n\n[70 rows x 6 columns]\n",
          "name": "stdout"
        }
      ]
    },
    {
      "metadata": {},
      "cell_type": "markdown",
      "source": "## Prepare Labelled Data for Model Training\nIn order to use the data to train a predictitive model, we need to extract the input data and corresponding output data from the table-like internal representation (i.e., DataFrame) generated by Panda read_csv function (and subsequentenly assigned to the variable Ben_pass).  \n\nOne easy way to do this is to use .values method (of DataFrame) to \n<ol>\n    <li> Extract values from the columns for the input data and assign it to a variable (e.g., \"X\" in the code below), and </li>\n    <li> Extract values from the column for the DESIRED output data and assigned to a different variable (e.g., \"Y\" in the code below).</li>\n</ol>\n\n### Prepare Input Data for Model Training\n\nWe want to use the following five attributes as inputs for predicting pass completion:\n<ul>\n    <li> down: The number of down for the play </li>\n    <li> ydstogo: The remaining yards needed to gain for a first down </li>\n<li> Yards.Gained.PrevPlay: The number of yards gained in the previous play (which can be a run play or passing play} </li>\n<li> AirYards: The distance between the starting position of the play and the receiving position of the passing play. A negative number means the quarterback moves back in the play such that the net yardage gain, if the pass completes, is negative. </li>\n<li>PassLocation: The area of passing location: -1 means left field, 0 means center field, 1 means right field.</li>\n    </ul>\n\nIn DataFrame, the first column is referred to as column \"0\" (rather than column 1).  Therefore, the columns of the table-like representation stored in Ben_pass are:\n<ul>\n    <li> The column\n        storing the value of \"down\" is column 0. </li>\n    <li> The column storing the value of \"ydstogo\" is column 1. </li>\n    <li> The column storing the value of \"Yards.Gained.PrevPlay\" is column 2. </li>\n    <li> The column storing the value of \"AirYards\" is column 3. </li>\n    <li> The column storing the value of \"PassLocation\" is column 4. </li>\n    <li> The column storing the value of desired model output \"PassOutcome\" is column 5. </li>\n    </ul>\n\nTo extract column 0, 1, 2, and 3 from Ben_pass (which stores the table-like representation), we use \"0:4\" to indicate a range of columns from column 0 to (but NOT including) column 4.  The method we use to extract these columns is \"values\".  The first parameter of values (colon, \":\"), indicates that we are extracting ALL Rows.  Together with the second parameter \"0:4\", the method values[:, 0:4] indicates we are extracting column 0 to column 4 for all rows of the table-like representation stored in Ben_pass.  \n\nWe store the extracted input data in a variable called X.\n\n#### Notice that we do not want to extract column 5 because it contains the desired model output, so we want to save it in a different variable to prepare for model training (which takes model input data and desired model output data separately)."
    },
    {
      "metadata": {
        "trusted": true
      },
      "cell_type": "code",
      "source": "X= Ben_pass.values[:,0:4]\nprint(X)",
      "execution_count": 5,
      "outputs": [
        {
          "output_type": "stream",
          "text": "[[ 1 10 18 -4]\n [ 1 10  0  9]\n [ 3 22  6  1]\n [ 1 10  0  7]\n [ 1 10 13  6]\n [ 1 10 12  7]\n [ 1 10  0  5]\n [ 2 10  0 25]\n [ 3  5 -1  6]\n [ 1 15  4 -1]\n [ 3 18 -6 17]\n [ 1 20  5  5]\n [ 2 11  9  4]\n [ 2 13 -3 -2]\n [ 3  6  7  6]\n [ 2  7  0 11]\n [ 1 10 13 16]\n [ 1 10 19  6]\n [ 2  8  2  0]\n [ 3  8  0 39]\n [ 3  3  1 19]\n [ 1 10  0 11]\n [ 2 10  0 17]\n [ 1 10 18  7]\n [ 1  9  2  4]\n [ 2  6  3  6]\n [ 1 10  0  5]\n [ 2 15  9  4]\n [ 3  6  9 26]\n [ 2  8  2  0]\n [ 3  3  5 23]\n [ 4  3  0  4]\n [ 2  5  5 26]\n [ 3  5  0  7]\n [ 1 10  0  4]\n [ 3  5  1  5]\n [ 2  1  9 -1]\n [ 2  1  0  0]\n [ 1 10 28 23]\n [ 1 10 13 -5]\n [ 2 15 -5  7]\n [ 3  6 -1  2]\n [ 1 10  0 25]\n [ 2  5  5  2]\n [ 2  8  0  1]\n [ 1  1  0  1]\n [ 1 10  0 18]\n [ 1 10  0 27]\n [ 3  5  5  4]\n [ 2  1  0  1]\n [ 3  1  0  1]\n [ 2  3  7  9]\n [ 3  3  0  9]\n [ 2 12 -2 23]\n [ 3 12  0  6]\n [ 1 10  0 18]\n [ 1 10 18 39]\n [ 2  9  1  7]\n [ 3  4  3 -3]\n [ 1 10  0 11]\n [ 2 10  0  4]\n [ 3  1  9  6]\n [ 1 10  0 29]\n [ 2 10  0  1]\n [ 3  8  2 13]\n [ 2 27 -7 14]\n [ 3  9  0 12]\n [ 4  9  0 15]\n [ 1 10  0 11]\n [ 1 10 11 11]]\n",
          "name": "stdout"
        }
      ]
    },
    {
      "metadata": {},
      "cell_type": "markdown",
      "source": "As we can see from the result of print (X) above, X is actually an array.\n\n### Exercise 1\n\nThe previous code only extract the first 4 features of each passing event. However, we want to extract all 5 input features of each passing event. Modify the code so that it extracts all 5 features of each passing event from Ben_pass.  Print the data you extract to see whether they are correct. "
    },
    {
      "metadata": {
        "trusted": true
      },
      "cell_type": "code",
      "source": "X1 = Ben_pass.values[:,0:5]\nprint(X1)",
      "execution_count": 6,
      "outputs": [
        {
          "output_type": "stream",
          "text": "[[ 1 10 18 -4  1]\n [ 1 10  0  9  1]\n [ 3 22  6  1  1]\n [ 1 10  0  7 -1]\n [ 1 10 13  6 -1]\n [ 1 10 12  7 -1]\n [ 1 10  0  5  1]\n [ 2 10  0 25  1]\n [ 3  5 -1  6 -1]\n [ 1 15  4 -1  1]\n [ 3 18 -6 17 -1]\n [ 1 20  5  5 -1]\n [ 2 11  9  4 -1]\n [ 2 13 -3 -2 -1]\n [ 3  6  7  6  0]\n [ 2  7  0 11  1]\n [ 1 10 13 16  1]\n [ 1 10 19  6  1]\n [ 2  8  2  0 -1]\n [ 3  8  0 39 -1]\n [ 3  3  1 19  1]\n [ 1 10  0 11  0]\n [ 2 10  0 17 -1]\n [ 1 10 18  7  0]\n [ 1  9  2  4 -1]\n [ 2  6  3  6  0]\n [ 1 10  0  5  1]\n [ 2 15  9  4 -1]\n [ 3  6  9 26  1]\n [ 2  8  2  0 -1]\n [ 3  3  5 23  1]\n [ 4  3  0  4  0]\n [ 2  5  5 26 -1]\n [ 3  5  0  7  0]\n [ 1 10  0  4  1]\n [ 3  5  1  5  1]\n [ 2  1  9 -1 -1]\n [ 2  1  0  0 -1]\n [ 1 10 28 23 -1]\n [ 1 10 13 -5 -1]\n [ 2 15 -5  7  0]\n [ 3  6 -1  2 -1]\n [ 1 10  0 25  1]\n [ 2  5  5  2  1]\n [ 2  8  0  1  1]\n [ 1  1  0  1  0]\n [ 1 10  0 18  1]\n [ 1 10  0 27  0]\n [ 3  5  5  4  0]\n [ 2  1  0  1  1]\n [ 3  1  0  1 -1]\n [ 2  3  7  9  0]\n [ 3  3  0  9  1]\n [ 2 12 -2 23  1]\n [ 3 12  0  6  0]\n [ 1 10  0 18  1]\n [ 1 10 18 39 -1]\n [ 2  9  1  7 -1]\n [ 3  4  3 -3  1]\n [ 1 10  0 11  1]\n [ 2 10  0  4 -1]\n [ 3  1  9  6  0]\n [ 1 10  0 29  0]\n [ 2 10  0  1 -1]\n [ 3  8  2 13  0]\n [ 2 27 -7 14  0]\n [ 3  9  0 12 -1]\n [ 4  9  0 15 -1]\n [ 1 10  0 11 -1]\n [ 1 10 11 11 -1]]\n",
          "name": "stdout"
        }
      ]
    },
    {
      "metadata": {},
      "cell_type": "markdown",
      "source": "#### Notice: The variable used in the exercise is different from X.  \nThis is important because once a variable (like X) is assigned a new value, it losts its original value.  Because we will use variable X in the rest of this lab, we do NOT want to change the value of X.  Therefore, you can use variables  such as X1 or any other variables EXCEPT X in the exercise.\n\n### Self-evaluation of Exercise 4.1\nHow did you do? \nYou can also change your code to extract columns 0, 1, and 2; or to extract columns 2, 3, and 4. "
    },
    {
      "metadata": {},
      "cell_type": "markdown",
      "source": "### Prepare Output Data for Model Training\nTo prepare desired output data (also referred to as target output data) for model training, we extract PassOutcome, which is stored in column 5 of Ben_pass table-like representation.  Similar to the previous step, we extract this data from ALL ROWS of the Ben_pass table-like representation. \n\nWe store this output data in a variable Y."
    },
    {
      "metadata": {
        "trusted": true
      },
      "cell_type": "code",
      "source": "Y= Ben_pass.values[:,5]\nprint(Y)",
      "execution_count": 7,
      "outputs": [
        {
          "output_type": "stream",
          "text": "[1 1 1 1 1 1 0 0 1 1 1 1 1 1 1 1 1 1 0 1 0 1 1 1 1 1 1 1 1 1 0 1 0 0 1 1 1\n 1 1 1 1 1 1 1 1 0 1 0 1 0 1 0 0 0 0 1 0 1 0 0 1 1 0 1 1 1 0 1 1 1]\n",
          "name": "stdout"
        }
      ]
    },
    {
      "metadata": {},
      "cell_type": "markdown",
      "source": "As we can see from the result of print(Y), Y is a one-dimensional array.  "
    },
    {
      "metadata": {},
      "cell_type": "markdown",
      "source": "# Train a Decision Tree from a Set of Training Data\n\n### We will use Python scikit-learn module to create a decision tree.\n### Scikit-learn offers other machine learning models beyond decision trees.\n### We do not need to install scikit-learn, because it has been pre-installed in Azure Notebooks (together with Python 3)\nScikit-learn (sklearn) is a Python module that contains many useful machine learning code, including code for constructing model from data, for creating predictive models using multiple machine learning methods (including decision tree which we will use), and for evaluating how good is the model created.  \n\n### In the beginning of this notebook, we used the following import statement to import a submodule of scikit-learn (sklearn), tree (which provides functions/methods related to decision trees)\n    from sklearn import tree\n\n### Split the Data into Training Set and Testing Set using Train_Test_Split in sklearn\nIt is important that we reserve some data to evaluate how good is the prediction capability of the model.  This means that we are NOT going to use this reserved data to train the model.  THIS IS A VERY IMPORTANT POINT and we will return to it later for a more detail look.  For now, we will focus on the workflow for constructing a predictive model.\n\nThere are multiple ways to use data to train decision tree models.  We will use train_test_split Python command from sklearn Python module. In the beginning of this lab, we have imported train_test_split from sklearn as follows:\n\n    from sklearn.model_selection import train_test_split\n\nImporting a function from a library means we can directly use this function after the import.\n\nTrain_test_split has four parameters:\n<ol>\n    <li> The first paraemter is all of the model's input data. We have prepared variable X1 to be used here. </li>\n    <li> The second parameter is all of the model's target output data.  We have prepared variable Y to be used here. </li>\n    <li> The third parameter (test_size) is the percentage of the data (both model input and output) to be RESERVED for testing.  We use 30% here, and will revisit this topic later. </li>\n    <li> The fourth paraemter (randome_state) is a random number to be used to randomly split the model's input and output data (i.e., the data stored in variable X and variable Y) into two subgroups: a Training Set and a Testing Set.\n    </ol>\n\nThe output of the train_test_split function includes four inter-related results:\n<ol>\n    <li> The Model Input Data used for Training: We store this in the variable X_train </li>\n    <li> The Model Input Data used for Testing: We store this in the variable X_test </li>\n    <li> The Model Output Data used for Training: We store this in the variable y_train </li>\n    <li> The Model Output Data used for Testing: We store this in the variable y_test </li>\n    \n    </ol>"
    },
    {
      "metadata": {
        "trusted": true
      },
      "cell_type": "code",
      "source": "X_train, X_test, y_train, y_test = train_test_split( X1, Y, test_size = 0.3, random_state = 100)",
      "execution_count": 8,
      "outputs": []
    },
    {
      "metadata": {
        "trusted": true
      },
      "cell_type": "code",
      "source": "print(X_test)",
      "execution_count": 9,
      "outputs": [
        {
          "output_type": "stream",
          "text": "[[ 1 10 13 -5 -1]\n [ 1 10  0  5  1]\n [ 1 10 18  7  0]\n [ 1 10 18 39 -1]\n [ 1 10 28 23 -1]\n [ 3  8  2 13  0]\n [ 1 10  0 18  1]\n [ 1 20  5  5 -1]\n [ 2  8  2  0 -1]\n [ 3  4  3 -3  1]\n [ 2 27 -7 14  0]\n [ 1 10 12  7 -1]\n [ 3  3  1 19  1]\n [ 1 10 11 11 -1]\n [ 1 10 18 -4  1]\n [ 3  6  9 26  1]\n [ 2 11  9  4 -1]\n [ 1 10  0  5  1]\n [ 3  6 -1  2 -1]\n [ 2  5  5 26 -1]\n [ 3 12  0  6  0]]\n",
          "name": "stdout"
        }
      ]
    },
    {
      "metadata": {},
      "cell_type": "markdown",
      "source": "### We also imported DecisionTreeClassifier from the tree submodule in sklearn:\n    from sklearn.tree import DecisionTreeClassifier\n\n### Using DecisionTreeClassifier to Train a Decision Tree\nThere are two steps involved in creating a decision tree using DecisionTreeClassifier.\n1. Create an \"empty\" Decision Tree Classifier by specifying the various parameters we use to construct the decision tree. Save the created empty Decision Tree Classifier in a variable (e.g., \"clf\" in the code below) for the next step. Some of the important parameters are the following:\n    * criterion: We will use 'entropy' as the criteria for creating decision trees in this class.  \n    * max_depth: This parameter specifies how \"deep\" the decision tree is allowed.  If you choose \"max_depth=3\", the tree created will be limited to 3 levels. (The root node is at level 0.) As we will see later, the choice of this parameter can affect the model's risk for overfitting.\n    * min_samples_leaf: This parameter specifies the minimum number of samples required in a leaf node. As we will see later, the choice of this parameter can also affect the model's risk for overfitting.\n2. Use a set of input training data and output training data to \"train\" the Decision Tree Classifier (previously \"empty\" one; but will have an actual Decision Tree."
    },
    {
      "metadata": {},
      "cell_type": "markdown",
      "source": "### Exercise 2 Train a Decision Tree \nFill in the parameters of max_depth (recommended number: between 3 and 6) and \nmin_samples_leaf (recommended value: between 1 and 3) of DecisionTreeClassifier,\nthen create an \"empty\" decision tree, then using the input training data (X_train)\nand output training data (y_train) to train the model."
    },
    {
      "metadata": {
        "trusted": true
      },
      "cell_type": "code",
      "source": "clf = DecisionTreeClassifier(criterion = 'entropy', random_state = 100,\n                               max_depth=5, min_samples_leaf=2)\nclf.fit(X_train, y_train)",
      "execution_count": 10,
      "outputs": [
        {
          "output_type": "execute_result",
          "execution_count": 10,
          "data": {
            "text/plain": "DecisionTreeClassifier(class_weight=None, criterion='entropy', max_depth=5,\n            max_features=None, max_leaf_nodes=None,\n            min_impurity_decrease=0.0, min_impurity_split=None,\n            min_samples_leaf=2, min_samples_split=2,\n            min_weight_fraction_leaf=0.0, presort=False, random_state=100,\n            splitter='best')"
          },
          "metadata": {}
        }
      ]
    },
    {
      "metadata": {},
      "cell_type": "markdown",
      "source": "### Exercise 3 Visualize a Decision Tree\nExecute the code below to visualize the decision tree. The only thing you need to fill in is the name of the 5th feature you used for input.  Replace '???' with a string of that feature name."
    },
    {
      "metadata": {
        "trusted": true
      },
      "cell_type": "code",
      "source": "dot_data= tree.export_graphviz(clf, out_file=None, feature_names=('down','ydstogo','YardsGainedPrevPlay','AirYards','PassOutcome'))",
      "execution_count": 11,
      "outputs": []
    },
    {
      "metadata": {
        "trusted": true
      },
      "cell_type": "code",
      "source": "graph = graphviz.Source(dot_data)\ngraph",
      "execution_count": 12,
      "outputs": [
        {
          "output_type": "execute_result",
          "execution_count": 12,
          "data": {
            "text/plain": "<graphviz.files.Source at 0x7faf96342828>",
            "image/svg+xml": "<?xml version=\"1.0\" encoding=\"UTF-8\" standalone=\"no\"?>\n<!DOCTYPE svg PUBLIC \"-//W3C//DTD SVG 1.1//EN\"\n \"http://www.w3.org/Graphics/SVG/1.1/DTD/svg11.dtd\">\n<!-- Generated by graphviz version 2.38.0 (20140413.2041)\n -->\n<!-- Title: Tree Pages: 1 -->\n<svg width=\"714pt\" height=\"581pt\"\n viewBox=\"0.00 0.00 714.00 581.00\" xmlns=\"http://www.w3.org/2000/svg\" xmlns:xlink=\"http://www.w3.org/1999/xlink\">\n<g id=\"graph0\" class=\"graph\" transform=\"scale(1 1) rotate(0) translate(4 577)\">\n<title>Tree</title>\n<polygon fill=\"white\" stroke=\"none\" points=\"-4,4 -4,-577 710,-577 710,4 -4,4\"/>\n<!-- 0 -->\n<g id=\"node1\" class=\"node\"><title>0</title>\n<polygon fill=\"none\" stroke=\"black\" points=\"413.5,-573 298.5,-573 298.5,-505 413.5,-505 413.5,-573\"/>\n<text text-anchor=\"middle\" x=\"356\" y=\"-557.8\" font-family=\"Times,serif\" font-size=\"14.00\">AirYards &lt;= 20.5</text>\n<text text-anchor=\"middle\" x=\"356\" y=\"-542.8\" font-family=\"Times,serif\" font-size=\"14.00\">entropy = 0.803</text>\n<text text-anchor=\"middle\" x=\"356\" y=\"-527.8\" font-family=\"Times,serif\" font-size=\"14.00\">samples = 49</text>\n<text text-anchor=\"middle\" x=\"356\" y=\"-512.8\" font-family=\"Times,serif\" font-size=\"14.00\">value = [12, 37]</text>\n</g>\n<!-- 1 -->\n<g id=\"node2\" class=\"node\"><title>1</title>\n<polygon fill=\"none\" stroke=\"black\" points=\"343.5,-469 242.5,-469 242.5,-401 343.5,-401 343.5,-469\"/>\n<text text-anchor=\"middle\" x=\"293\" y=\"-453.8\" font-family=\"Times,serif\" font-size=\"14.00\">ydstogo &lt;= 4.0</text>\n<text text-anchor=\"middle\" x=\"293\" y=\"-438.8\" font-family=\"Times,serif\" font-size=\"14.00\">entropy = 0.65</text>\n<text text-anchor=\"middle\" x=\"293\" y=\"-423.8\" font-family=\"Times,serif\" font-size=\"14.00\">samples = 42</text>\n<text text-anchor=\"middle\" x=\"293\" y=\"-408.8\" font-family=\"Times,serif\" font-size=\"14.00\">value = [7, 35]</text>\n</g>\n<!-- 0&#45;&gt;1 -->\n<g id=\"edge1\" class=\"edge\"><title>0&#45;&gt;1</title>\n<path fill=\"none\" stroke=\"black\" d=\"M335.546,-504.884C330.264,-496.332 324.508,-487.013 318.986,-478.072\"/>\n<polygon fill=\"black\" stroke=\"black\" points=\"321.8,-475.968 313.567,-469.299 315.844,-479.647 321.8,-475.968\"/>\n<text text-anchor=\"middle\" x=\"307.817\" y=\"-489.929\" font-family=\"Times,serif\" font-size=\"14.00\">True</text>\n</g>\n<!-- 14 -->\n<g id=\"node15\" class=\"node\"><title>14</title>\n<polygon fill=\"none\" stroke=\"black\" points=\"476.5,-469 361.5,-469 361.5,-401 476.5,-401 476.5,-469\"/>\n<text text-anchor=\"middle\" x=\"419\" y=\"-453.8\" font-family=\"Times,serif\" font-size=\"14.00\">AirYards &lt;= 24.0</text>\n<text text-anchor=\"middle\" x=\"419\" y=\"-438.8\" font-family=\"Times,serif\" font-size=\"14.00\">entropy = 0.863</text>\n<text text-anchor=\"middle\" x=\"419\" y=\"-423.8\" font-family=\"Times,serif\" font-size=\"14.00\">samples = 7</text>\n<text text-anchor=\"middle\" x=\"419\" y=\"-408.8\" font-family=\"Times,serif\" font-size=\"14.00\">value = [5, 2]</text>\n</g>\n<!-- 0&#45;&gt;14 -->\n<g id=\"edge14\" class=\"edge\"><title>0&#45;&gt;14</title>\n<path fill=\"none\" stroke=\"black\" d=\"M376.454,-504.884C381.736,-496.332 387.492,-487.013 393.014,-478.072\"/>\n<polygon fill=\"black\" stroke=\"black\" points=\"396.156,-479.647 398.433,-469.299 390.2,-475.968 396.156,-479.647\"/>\n<text text-anchor=\"middle\" x=\"404.183\" y=\"-489.929\" font-family=\"Times,serif\" font-size=\"14.00\">False</text>\n</g>\n<!-- 2 -->\n<g id=\"node3\" class=\"node\"><title>2</title>\n<polygon fill=\"none\" stroke=\"black\" points=\"222.5,-365 85.5,-365 85.5,-297 222.5,-297 222.5,-365\"/>\n<text text-anchor=\"middle\" x=\"154\" y=\"-349.8\" font-family=\"Times,serif\" font-size=\"14.00\">PassOutcome &lt;= &#45;0.5</text>\n<text text-anchor=\"middle\" x=\"154\" y=\"-334.8\" font-family=\"Times,serif\" font-size=\"14.00\">entropy = 0.991</text>\n<text text-anchor=\"middle\" x=\"154\" y=\"-319.8\" font-family=\"Times,serif\" font-size=\"14.00\">samples = 9</text>\n<text text-anchor=\"middle\" x=\"154\" y=\"-304.8\" font-family=\"Times,serif\" font-size=\"14.00\">value = [4, 5]</text>\n</g>\n<!-- 1&#45;&gt;2 -->\n<g id=\"edge2\" class=\"edge\"><title>1&#45;&gt;2</title>\n<path fill=\"none\" stroke=\"black\" d=\"M247.871,-400.884C235.004,-391.442 220.861,-381.064 207.544,-371.292\"/>\n<polygon fill=\"black\" stroke=\"black\" points=\"209.511,-368.394 199.379,-365.299 205.37,-374.037 209.511,-368.394\"/>\n</g>\n<!-- 7 -->\n<g id=\"node8\" class=\"node\"><title>7</title>\n<polygon fill=\"none\" stroke=\"black\" points=\"349,-365 241,-365 241,-297 349,-297 349,-365\"/>\n<text text-anchor=\"middle\" x=\"295\" y=\"-349.8\" font-family=\"Times,serif\" font-size=\"14.00\">AirYards &lt;= 6.5</text>\n<text text-anchor=\"middle\" x=\"295\" y=\"-334.8\" font-family=\"Times,serif\" font-size=\"14.00\">entropy = 0.439</text>\n<text text-anchor=\"middle\" x=\"295\" y=\"-319.8\" font-family=\"Times,serif\" font-size=\"14.00\">samples = 33</text>\n<text text-anchor=\"middle\" x=\"295\" y=\"-304.8\" font-family=\"Times,serif\" font-size=\"14.00\">value = [3, 30]</text>\n</g>\n<!-- 1&#45;&gt;7 -->\n<g id=\"edge7\" class=\"edge\"><title>1&#45;&gt;7</title>\n<path fill=\"none\" stroke=\"black\" d=\"M293.649,-400.884C293.808,-392.778 293.981,-383.982 294.148,-375.472\"/>\n<polygon fill=\"black\" stroke=\"black\" points=\"297.65,-375.366 294.347,-365.299 290.652,-375.229 297.65,-375.366\"/>\n</g>\n<!-- 3 -->\n<g id=\"node4\" class=\"node\"><title>3</title>\n<polygon fill=\"none\" stroke=\"black\" points=\"92,-253.5 0,-253.5 0,-200.5 92,-200.5 92,-253.5\"/>\n<text text-anchor=\"middle\" x=\"46\" y=\"-238.3\" font-family=\"Times,serif\" font-size=\"14.00\">entropy = 0.0</text>\n<text text-anchor=\"middle\" x=\"46\" y=\"-223.3\" font-family=\"Times,serif\" font-size=\"14.00\">samples = 3</text>\n<text text-anchor=\"middle\" x=\"46\" y=\"-208.3\" font-family=\"Times,serif\" font-size=\"14.00\">value = [0, 3]</text>\n</g>\n<!-- 2&#45;&gt;3 -->\n<g id=\"edge3\" class=\"edge\"><title>2&#45;&gt;3</title>\n<path fill=\"none\" stroke=\"black\" d=\"M118.935,-296.884C106.592,-285.226 92.7371,-272.141 80.4451,-260.532\"/>\n<polygon fill=\"black\" stroke=\"black\" points=\"82.6945,-257.842 73.0211,-253.52 77.8881,-262.931 82.6945,-257.842\"/>\n</g>\n<!-- 4 -->\n<g id=\"node5\" class=\"node\"><title>4</title>\n<polygon fill=\"none\" stroke=\"black\" points=\"214,-261 110,-261 110,-193 214,-193 214,-261\"/>\n<text text-anchor=\"middle\" x=\"162\" y=\"-245.8\" font-family=\"Times,serif\" font-size=\"14.00\">down &lt;= 2.5</text>\n<text text-anchor=\"middle\" x=\"162\" y=\"-230.8\" font-family=\"Times,serif\" font-size=\"14.00\">entropy = 0.918</text>\n<text text-anchor=\"middle\" x=\"162\" y=\"-215.8\" font-family=\"Times,serif\" font-size=\"14.00\">samples = 6</text>\n<text text-anchor=\"middle\" x=\"162\" y=\"-200.8\" font-family=\"Times,serif\" font-size=\"14.00\">value = [4, 2]</text>\n</g>\n<!-- 2&#45;&gt;4 -->\n<g id=\"edge4\" class=\"edge\"><title>2&#45;&gt;4</title>\n<path fill=\"none\" stroke=\"black\" d=\"M156.597,-296.884C157.233,-288.778 157.923,-279.982 158.59,-271.472\"/>\n<polygon fill=\"black\" stroke=\"black\" points=\"162.096,-271.542 159.388,-261.299 155.117,-270.995 162.096,-271.542\"/>\n</g>\n<!-- 5 -->\n<g id=\"node6\" class=\"node\"><title>5</title>\n<polygon fill=\"none\" stroke=\"black\" points=\"154,-149.5 62,-149.5 62,-96.5 154,-96.5 154,-149.5\"/>\n<text text-anchor=\"middle\" x=\"108\" y=\"-134.3\" font-family=\"Times,serif\" font-size=\"14.00\">entropy = 0.0</text>\n<text text-anchor=\"middle\" x=\"108\" y=\"-119.3\" font-family=\"Times,serif\" font-size=\"14.00\">samples = 3</text>\n<text text-anchor=\"middle\" x=\"108\" y=\"-104.3\" font-family=\"Times,serif\" font-size=\"14.00\">value = [3, 0]</text>\n</g>\n<!-- 4&#45;&gt;5 -->\n<g id=\"edge5\" class=\"edge\"><title>4&#45;&gt;5</title>\n<path fill=\"none\" stroke=\"black\" d=\"M144.468,-192.884C138.645,-181.886 132.15,-169.617 126.273,-158.517\"/>\n<polygon fill=\"black\" stroke=\"black\" points=\"129.283,-156.72 121.511,-149.52 123.096,-159.995 129.283,-156.72\"/>\n</g>\n<!-- 6 -->\n<g id=\"node7\" class=\"node\"><title>6</title>\n<polygon fill=\"none\" stroke=\"black\" points=\"276,-149.5 172,-149.5 172,-96.5 276,-96.5 276,-149.5\"/>\n<text text-anchor=\"middle\" x=\"224\" y=\"-134.3\" font-family=\"Times,serif\" font-size=\"14.00\">entropy = 0.918</text>\n<text text-anchor=\"middle\" x=\"224\" y=\"-119.3\" font-family=\"Times,serif\" font-size=\"14.00\">samples = 3</text>\n<text text-anchor=\"middle\" x=\"224\" y=\"-104.3\" font-family=\"Times,serif\" font-size=\"14.00\">value = [1, 2]</text>\n</g>\n<!-- 4&#45;&gt;6 -->\n<g id=\"edge6\" class=\"edge\"><title>4&#45;&gt;6</title>\n<path fill=\"none\" stroke=\"black\" d=\"M182.13,-192.884C188.881,-181.776 196.421,-169.372 203.222,-158.184\"/>\n<polygon fill=\"black\" stroke=\"black\" points=\"206.285,-159.883 208.488,-149.52 200.303,-156.247 206.285,-159.883\"/>\n</g>\n<!-- 8 -->\n<g id=\"node9\" class=\"node\"><title>8</title>\n<polygon fill=\"none\" stroke=\"black\" points=\"341,-253.5 243,-253.5 243,-200.5 341,-200.5 341,-253.5\"/>\n<text text-anchor=\"middle\" x=\"292\" y=\"-238.3\" font-family=\"Times,serif\" font-size=\"14.00\">entropy = 0.0</text>\n<text text-anchor=\"middle\" x=\"292\" y=\"-223.3\" font-family=\"Times,serif\" font-size=\"14.00\">samples = 18</text>\n<text text-anchor=\"middle\" x=\"292\" y=\"-208.3\" font-family=\"Times,serif\" font-size=\"14.00\">value = [0, 18]</text>\n</g>\n<!-- 7&#45;&gt;8 -->\n<g id=\"edge8\" class=\"edge\"><title>7&#45;&gt;8</title>\n<path fill=\"none\" stroke=\"black\" d=\"M294.026,-296.884C293.712,-286.216 293.363,-274.352 293.045,-263.519\"/>\n<polygon fill=\"black\" stroke=\"black\" points=\"296.543,-263.413 292.751,-253.52 289.546,-263.619 296.543,-263.413\"/>\n</g>\n<!-- 9 -->\n<g id=\"node10\" class=\"node\"><title>9</title>\n<polygon fill=\"none\" stroke=\"black\" points=\"473.5,-261 358.5,-261 358.5,-193 473.5,-193 473.5,-261\"/>\n<text text-anchor=\"middle\" x=\"416\" y=\"-245.8\" font-family=\"Times,serif\" font-size=\"14.00\">AirYards &lt;= 13.5</text>\n<text text-anchor=\"middle\" x=\"416\" y=\"-230.8\" font-family=\"Times,serif\" font-size=\"14.00\">entropy = 0.722</text>\n<text text-anchor=\"middle\" x=\"416\" y=\"-215.8\" font-family=\"Times,serif\" font-size=\"14.00\">samples = 15</text>\n<text text-anchor=\"middle\" x=\"416\" y=\"-200.8\" font-family=\"Times,serif\" font-size=\"14.00\">value = [3, 12]</text>\n</g>\n<!-- 7&#45;&gt;9 -->\n<g id=\"edge9\" class=\"edge\"><title>7&#45;&gt;9</title>\n<path fill=\"none\" stroke=\"black\" d=\"M334.285,-296.884C345.274,-287.62 357.333,-277.455 368.732,-267.845\"/>\n<polygon fill=\"black\" stroke=\"black\" points=\"371.108,-270.421 376.498,-261.299 366.596,-265.069 371.108,-270.421\"/>\n</g>\n<!-- 10 -->\n<g id=\"node11\" class=\"node\"><title>10</title>\n<polygon fill=\"none\" stroke=\"black\" points=\"406,-157 302,-157 302,-89 406,-89 406,-157\"/>\n<text text-anchor=\"middle\" x=\"354\" y=\"-141.8\" font-family=\"Times,serif\" font-size=\"14.00\">down &lt;= 2.5</text>\n<text text-anchor=\"middle\" x=\"354\" y=\"-126.8\" font-family=\"Times,serif\" font-size=\"14.00\">entropy = 0.881</text>\n<text text-anchor=\"middle\" x=\"354\" y=\"-111.8\" font-family=\"Times,serif\" font-size=\"14.00\">samples = 10</text>\n<text text-anchor=\"middle\" x=\"354\" y=\"-96.8\" font-family=\"Times,serif\" font-size=\"14.00\">value = [3, 7]</text>\n</g>\n<!-- 9&#45;&gt;10 -->\n<g id=\"edge10\" class=\"edge\"><title>9&#45;&gt;10</title>\n<path fill=\"none\" stroke=\"black\" d=\"M395.87,-192.884C390.673,-184.332 385.008,-175.013 379.573,-166.072\"/>\n<polygon fill=\"black\" stroke=\"black\" points=\"382.426,-164.027 374.241,-157.299 376.444,-167.663 382.426,-164.027\"/>\n</g>\n<!-- 13 -->\n<g id=\"node14\" class=\"node\"><title>13</title>\n<polygon fill=\"none\" stroke=\"black\" points=\"516,-149.5 424,-149.5 424,-96.5 516,-96.5 516,-149.5\"/>\n<text text-anchor=\"middle\" x=\"470\" y=\"-134.3\" font-family=\"Times,serif\" font-size=\"14.00\">entropy = 0.0</text>\n<text text-anchor=\"middle\" x=\"470\" y=\"-119.3\" font-family=\"Times,serif\" font-size=\"14.00\">samples = 5</text>\n<text text-anchor=\"middle\" x=\"470\" y=\"-104.3\" font-family=\"Times,serif\" font-size=\"14.00\">value = [0, 5]</text>\n</g>\n<!-- 9&#45;&gt;13 -->\n<g id=\"edge13\" class=\"edge\"><title>9&#45;&gt;13</title>\n<path fill=\"none\" stroke=\"black\" d=\"M433.532,-192.884C439.355,-181.886 445.85,-169.617 451.727,-158.517\"/>\n<polygon fill=\"black\" stroke=\"black\" points=\"454.904,-159.995 456.489,-149.52 448.717,-156.72 454.904,-159.995\"/>\n</g>\n<!-- 11 -->\n<g id=\"node12\" class=\"node\"><title>11</title>\n<polygon fill=\"none\" stroke=\"black\" points=\"348,-53 244,-53 244,-0 348,-0 348,-53\"/>\n<text text-anchor=\"middle\" x=\"296\" y=\"-37.8\" font-family=\"Times,serif\" font-size=\"14.00\">entropy = 0.544</text>\n<text text-anchor=\"middle\" x=\"296\" y=\"-22.8\" font-family=\"Times,serif\" font-size=\"14.00\">samples = 8</text>\n<text text-anchor=\"middle\" x=\"296\" y=\"-7.8\" font-family=\"Times,serif\" font-size=\"14.00\">value = [1, 7]</text>\n</g>\n<!-- 10&#45;&gt;11 -->\n<g id=\"edge11\" class=\"edge\"><title>10&#45;&gt;11</title>\n<path fill=\"none\" stroke=\"black\" d=\"M333.714,-88.9485C328.324,-80.1664 322.492,-70.6629 317.061,-61.815\"/>\n<polygon fill=\"black\" stroke=\"black\" points=\"320.01,-59.9287 311.796,-53.2367 314.044,-63.5903 320.01,-59.9287\"/>\n</g>\n<!-- 12 -->\n<g id=\"node13\" class=\"node\"><title>12</title>\n<polygon fill=\"none\" stroke=\"black\" points=\"458,-53 366,-53 366,-0 458,-0 458,-53\"/>\n<text text-anchor=\"middle\" x=\"412\" y=\"-37.8\" font-family=\"Times,serif\" font-size=\"14.00\">entropy = 0.0</text>\n<text text-anchor=\"middle\" x=\"412\" y=\"-22.8\" font-family=\"Times,serif\" font-size=\"14.00\">samples = 2</text>\n<text text-anchor=\"middle\" x=\"412\" y=\"-7.8\" font-family=\"Times,serif\" font-size=\"14.00\">value = [2, 0]</text>\n</g>\n<!-- 10&#45;&gt;12 -->\n<g id=\"edge12\" class=\"edge\"><title>10&#45;&gt;12</title>\n<path fill=\"none\" stroke=\"black\" d=\"M374.286,-88.9485C379.676,-80.1664 385.508,-70.6629 390.939,-61.815\"/>\n<polygon fill=\"black\" stroke=\"black\" points=\"393.956,-63.5903 396.204,-53.2367 387.99,-59.9287 393.956,-63.5903\"/>\n</g>\n<!-- 15 -->\n<g id=\"node16\" class=\"node\"><title>15</title>\n<polygon fill=\"none\" stroke=\"black\" points=\"464,-357.5 372,-357.5 372,-304.5 464,-304.5 464,-357.5\"/>\n<text text-anchor=\"middle\" x=\"418\" y=\"-342.3\" font-family=\"Times,serif\" font-size=\"14.00\">entropy = 0.0</text>\n<text text-anchor=\"middle\" x=\"418\" y=\"-327.3\" font-family=\"Times,serif\" font-size=\"14.00\">samples = 2</text>\n<text text-anchor=\"middle\" x=\"418\" y=\"-312.3\" font-family=\"Times,serif\" font-size=\"14.00\">value = [2, 0]</text>\n</g>\n<!-- 14&#45;&gt;15 -->\n<g id=\"edge15\" class=\"edge\"><title>14&#45;&gt;15</title>\n<path fill=\"none\" stroke=\"black\" d=\"M418.675,-400.884C418.572,-390.326 418.457,-378.597 418.352,-367.854\"/>\n<polygon fill=\"black\" stroke=\"black\" points=\"421.848,-367.485 418.25,-357.52 414.848,-367.554 421.848,-367.485\"/>\n</g>\n<!-- 16 -->\n<g id=\"node17\" class=\"node\"><title>16</title>\n<polygon fill=\"none\" stroke=\"black\" points=\"597.5,-365 482.5,-365 482.5,-297 597.5,-297 597.5,-365\"/>\n<text text-anchor=\"middle\" x=\"540\" y=\"-349.8\" font-family=\"Times,serif\" font-size=\"14.00\">AirYards &lt;= 26.0</text>\n<text text-anchor=\"middle\" x=\"540\" y=\"-334.8\" font-family=\"Times,serif\" font-size=\"14.00\">entropy = 0.971</text>\n<text text-anchor=\"middle\" x=\"540\" y=\"-319.8\" font-family=\"Times,serif\" font-size=\"14.00\">samples = 5</text>\n<text text-anchor=\"middle\" x=\"540\" y=\"-304.8\" font-family=\"Times,serif\" font-size=\"14.00\">value = [3, 2]</text>\n</g>\n<!-- 14&#45;&gt;16 -->\n<g id=\"edge16\" class=\"edge\"><title>14&#45;&gt;16</title>\n<path fill=\"none\" stroke=\"black\" d=\"M458.285,-400.884C469.274,-391.62 481.333,-381.455 492.732,-371.845\"/>\n<polygon fill=\"black\" stroke=\"black\" points=\"495.108,-374.421 500.498,-365.299 490.596,-369.069 495.108,-374.421\"/>\n</g>\n<!-- 17 -->\n<g id=\"node18\" class=\"node\"><title>17</title>\n<polygon fill=\"none\" stroke=\"black\" points=\"584,-253.5 492,-253.5 492,-200.5 584,-200.5 584,-253.5\"/>\n<text text-anchor=\"middle\" x=\"538\" y=\"-238.3\" font-family=\"Times,serif\" font-size=\"14.00\">entropy = 1.0</text>\n<text text-anchor=\"middle\" x=\"538\" y=\"-223.3\" font-family=\"Times,serif\" font-size=\"14.00\">samples = 2</text>\n<text text-anchor=\"middle\" x=\"538\" y=\"-208.3\" font-family=\"Times,serif\" font-size=\"14.00\">value = [1, 1]</text>\n</g>\n<!-- 16&#45;&gt;17 -->\n<g id=\"edge17\" class=\"edge\"><title>16&#45;&gt;17</title>\n<path fill=\"none\" stroke=\"black\" d=\"M539.351,-296.884C539.141,-286.216 538.909,-274.352 538.696,-263.519\"/>\n<polygon fill=\"black\" stroke=\"black\" points=\"542.196,-263.449 538.5,-253.52 535.197,-263.587 542.196,-263.449\"/>\n</g>\n<!-- 18 -->\n<g id=\"node19\" class=\"node\"><title>18</title>\n<polygon fill=\"none\" stroke=\"black\" points=\"706,-253.5 602,-253.5 602,-200.5 706,-200.5 706,-253.5\"/>\n<text text-anchor=\"middle\" x=\"654\" y=\"-238.3\" font-family=\"Times,serif\" font-size=\"14.00\">entropy = 0.918</text>\n<text text-anchor=\"middle\" x=\"654\" y=\"-223.3\" font-family=\"Times,serif\" font-size=\"14.00\">samples = 3</text>\n<text text-anchor=\"middle\" x=\"654\" y=\"-208.3\" font-family=\"Times,serif\" font-size=\"14.00\">value = [2, 1]</text>\n</g>\n<!-- 16&#45;&gt;18 -->\n<g id=\"edge18\" class=\"edge\"><title>16&#45;&gt;18</title>\n<path fill=\"none\" stroke=\"black\" d=\"M577.013,-296.884C590.165,-285.116 604.942,-271.894 618.008,-260.203\"/>\n<polygon fill=\"black\" stroke=\"black\" points=\"620.359,-262.796 625.478,-253.52 615.691,-257.58 620.359,-262.796\"/>\n</g>\n</g>\n</svg>\n"
          },
          "metadata": {}
        }
      ]
    },
    {
      "metadata": {},
      "cell_type": "markdown",
      "source": "### Exercise 4 Save a Visualization of Decision Tree\nYou can save the visualization of decision tree in a PDF file using graph.render command below. Replace '????' with the name of the file you want to use for the PDF file (without the .pdf extension).  After executing the code below with the file name, you should be able to find the file (with .pdf extension) in the same Project folder as this notebook."
    },
    {
      "metadata": {
        "trusted": true
      },
      "cell_type": "code",
      "source": "graph.render('NFLDecisionTree')",
      "execution_count": 13,
      "outputs": [
        {
          "output_type": "execute_result",
          "execution_count": 13,
          "data": {
            "text/plain": "'NFLDecisionTree.pdf'"
          },
          "metadata": {}
        }
      ]
    },
    {
      "metadata": {},
      "cell_type": "markdown",
      "source": "### Exercise 5 Interpret a Decision Tree\n(1) Find a leaf node in your decision tree that you believe gives a reliable prediction based on your training data. Describe the value of the node.\n(2) Describe the rule associated with the leaf node."
    },
    {
      "metadata": {},
      "cell_type": "markdown",
      "source": "### Answer to Exercise 5:\n- (1) [2,1]\n- (2) AirYards <= 20.5, AirYards <= 24.5, AirYards <= 26"
    },
    {
      "metadata": {
        "trusted": true
      },
      "cell_type": "code",
      "source": "predicted_completion = clf.predict(X_test)",
      "execution_count": 14,
      "outputs": []
    },
    {
      "metadata": {
        "trusted": true
      },
      "cell_type": "code",
      "source": "print(predicted_completion)",
      "execution_count": 15,
      "outputs": [
        {
          "output_type": "stream",
          "text": "[1 1 1 0 0 0 1 1 1 1 1 1 1 1 1 0 1 1 1 0 1]\n",
          "name": "stdout"
        }
      ]
    },
    {
      "metadata": {
        "trusted": true
      },
      "cell_type": "code",
      "source": "print(y_test)",
      "execution_count": 16,
      "outputs": [
        {
          "output_type": "stream",
          "text": "[1 1 1 0 1 1 1 1 0 0 1 1 0 1 1 1 1 0 1 0 0]\n",
          "name": "stdout"
        }
      ]
    },
    {
      "metadata": {
        "trusted": true
      },
      "cell_type": "code",
      "source": "np.mean(predicted_completion == y_test)",
      "execution_count": 17,
      "outputs": [
        {
          "output_type": "execute_result",
          "execution_count": 17,
          "data": {
            "text/plain": "0.6190476190476191"
          },
          "metadata": {}
        }
      ]
    },
    {
      "metadata": {
        "trusted": true
      },
      "cell_type": "code",
      "source": "print(metrics.classification_report(y_test, predicted_completion))",
      "execution_count": 18,
      "outputs": [
        {
          "output_type": "stream",
          "text": "             precision    recall  f1-score   support\n\n          0       0.40      0.29      0.33         7\n          1       0.69      0.79      0.73        14\n\navg / total       0.59      0.62      0.60        21\n\n",
          "name": "stdout"
        }
      ]
    },
    {
      "metadata": {
        "trusted": true
      },
      "cell_type": "code",
      "source": "metrics.confusion_matrix(y_test, predicted_completion)",
      "execution_count": 19,
      "outputs": [
        {
          "output_type": "execute_result",
          "execution_count": 19,
          "data": {
            "text/plain": "array([[ 2,  5],\n       [ 3, 11]])"
          },
          "metadata": {}
        }
      ]
    },
    {
      "metadata": {
        "trusted": true
      },
      "cell_type": "code",
      "source": "",
      "execution_count": null,
      "outputs": []
    }
  ],
  "metadata": {
    "kernelspec": {
      "name": "python3",
      "display_name": "Python 3",
      "language": "python"
    },
    "language_info": {
      "mimetype": "text/x-python",
      "nbconvert_exporter": "python",
      "name": "python",
      "pygments_lexer": "ipython3",
      "version": "3.5.4",
      "file_extension": ".py",
      "codemirror_mode": {
        "version": 3,
        "name": "ipython"
      }
    }
  },
  "nbformat": 4,
  "nbformat_minor": 2
}